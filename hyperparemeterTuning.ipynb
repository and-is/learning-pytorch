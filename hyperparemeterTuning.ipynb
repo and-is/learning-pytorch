{
  "nbformat": 4,
  "nbformat_minor": 0,
  "metadata": {
    "colab": {
      "provenance": [],
      "collapsed_sections": [
        "-3eLO9LYmgiW",
        "DAlHPc5Cr1BH",
        "Qh7ZGw1EsIVZ"
      ],
      "authorship_tag": "ABX9TyN92oSKNFsRtC//xiSAuAh1",
      "include_colab_link": true
    },
    "kernelspec": {
      "name": "python3",
      "display_name": "Python 3"
    },
    "language_info": {
      "name": "python"
    }
  },
  "cells": [
    {
      "cell_type": "markdown",
      "metadata": {
        "id": "view-in-github",
        "colab_type": "text"
      },
      "source": [
        "<a href=\"https://colab.research.google.com/github/and-is/learning-pytorch/blob/main/hyperparemeterTuning.ipynb\" target=\"_parent\"><img src=\"https://colab.research.google.com/assets/colab-badge.svg\" alt=\"Open In Colab\"/></a>"
      ]
    },
    {
      "cell_type": "markdown",
      "source": [
        "## Hyperparameter Tuning\n",
        "Tuning the parameters like learning rate, no of hidden layers and so on for best outcome.\n",
        "\\\n",
        "Ways:\n",
        "- Gridsearch CV\n",
        "- Random CV\n",
        "- Bayesian Search\n",
        "\\\n",
        "We're doing Bayesian Search method using Optuna."
      ],
      "metadata": {
        "id": "_hD42gE4jqGo"
      }
    },
    {
      "cell_type": "markdown",
      "source": [
        "### Content\n",
        "- Grid search CV works by finding accuracy for every combination there is.\n",
        "i.e. for every iteration of possible values of two or three parameters.\n",
        "- Random Search CV does the same but for only random values. So the obvious downside is that we might miss the best value.\n",
        "\n",
        "\n",
        "Bayesian Search uses a different way of doing that search. It assumes there's a relation between the two hyperparameters we're concerned with which gives accuracy. We aim to find nature of that graph and find the maxima, which is our required accuracy.\n",
        "\\\n",
        "accuracy = f(param1, param2)\n",
        "\\\n",
        "Trying few combinations out of those all gives us a simple graph. Then we can visualize the relation. Then new combinations are intelligently tried based on what we're seeing and finally, we obtain the accurate nature out of those parameters.\n",
        "\\\n",
        "Optuna helps us do this bayesian search."
      ],
      "metadata": {
        "id": "_WFvytCikOcQ"
      }
    },
    {
      "cell_type": "markdown",
      "source": [
        "#### Optuna\n",
        "\n",
        "- Study in Optuna is an optimization session encompassing multiple trials. i.e. overall experiment of our process.\n",
        "- Trial is a single iteration of the optimization process where a specific set of hyperparameters is evaluated. Each trial runs the accuracy function once with a distinct values.\n",
        "- Trial parameters are the specific hyperparameter values chosen during a trial.\n",
        "- Objective function is our accuracy function, i.e. the relation we want to find and optimize here.\n",
        "- Sampler is the algorithm which suggests which combination (which hyperparameter values) to try next based on what we already saw.\n",
        "- TPE (Tree-structured Parzen Estimator) used as sampler behind the hood.\n"
      ],
      "metadata": {
        "id": "-3eLO9LYmgiW"
      }
    },
    {
      "cell_type": "code",
      "source": [
        "!pip install optuna"
      ],
      "metadata": {
        "colab": {
          "base_uri": "https://localhost:8080/"
        },
        "collapsed": true,
        "id": "kO2ZPmYYnY_c",
        "outputId": "a6299a93-3ee2-4a8b-d721-6e5a926a1f42"
      },
      "execution_count": 1,
      "outputs": [
        {
          "output_type": "stream",
          "name": "stdout",
          "text": [
            "Collecting optuna\n",
            "  Downloading optuna-4.2.0-py3-none-any.whl.metadata (17 kB)\n",
            "Collecting alembic>=1.5.0 (from optuna)\n",
            "  Downloading alembic-1.14.1-py3-none-any.whl.metadata (7.4 kB)\n",
            "Collecting colorlog (from optuna)\n",
            "  Downloading colorlog-6.9.0-py3-none-any.whl.metadata (10 kB)\n",
            "Requirement already satisfied: numpy in /usr/local/lib/python3.11/dist-packages (from optuna) (1.26.4)\n",
            "Requirement already satisfied: packaging>=20.0 in /usr/local/lib/python3.11/dist-packages (from optuna) (24.2)\n",
            "Requirement already satisfied: sqlalchemy>=1.4.2 in /usr/local/lib/python3.11/dist-packages (from optuna) (2.0.37)\n",
            "Requirement already satisfied: tqdm in /usr/local/lib/python3.11/dist-packages (from optuna) (4.67.1)\n",
            "Requirement already satisfied: PyYAML in /usr/local/lib/python3.11/dist-packages (from optuna) (6.0.2)\n",
            "Collecting Mako (from alembic>=1.5.0->optuna)\n",
            "  Downloading Mako-1.3.8-py3-none-any.whl.metadata (2.9 kB)\n",
            "Requirement already satisfied: typing-extensions>=4 in /usr/local/lib/python3.11/dist-packages (from alembic>=1.5.0->optuna) (4.12.2)\n",
            "Requirement already satisfied: greenlet!=0.4.17 in /usr/local/lib/python3.11/dist-packages (from sqlalchemy>=1.4.2->optuna) (3.1.1)\n",
            "Requirement already satisfied: MarkupSafe>=0.9.2 in /usr/local/lib/python3.11/dist-packages (from Mako->alembic>=1.5.0->optuna) (3.0.2)\n",
            "Downloading optuna-4.2.0-py3-none-any.whl (383 kB)\n",
            "\u001b[2K   \u001b[90m━━━━━━━━━━━━━━━━━━━━━━━━━━━━━━━━━━━━━━━━\u001b[0m \u001b[32m383.4/383.4 kB\u001b[0m \u001b[31m7.9 MB/s\u001b[0m eta \u001b[36m0:00:00\u001b[0m\n",
            "\u001b[?25hDownloading alembic-1.14.1-py3-none-any.whl (233 kB)\n",
            "\u001b[2K   \u001b[90m━━━━━━━━━━━━━━━━━━━━━━━━━━━━━━━━━━━━━━━━\u001b[0m \u001b[32m233.6/233.6 kB\u001b[0m \u001b[31m9.8 MB/s\u001b[0m eta \u001b[36m0:00:00\u001b[0m\n",
            "\u001b[?25hDownloading colorlog-6.9.0-py3-none-any.whl (11 kB)\n",
            "Downloading Mako-1.3.8-py3-none-any.whl (78 kB)\n",
            "\u001b[2K   \u001b[90m━━━━━━━━━━━━━━━━━━━━━━━━━━━━━━━━━━━━━━━━\u001b[0m \u001b[32m78.6/78.6 kB\u001b[0m \u001b[31m5.1 MB/s\u001b[0m eta \u001b[36m0:00:00\u001b[0m\n",
            "\u001b[?25hInstalling collected packages: Mako, colorlog, alembic, optuna\n",
            "Successfully installed Mako-1.3.8 alembic-1.14.1 colorlog-6.9.0 optuna-4.2.0\n"
          ]
        }
      ]
    },
    {
      "cell_type": "code",
      "source": [
        "import optuna\n",
        "# from sklearn.datasets import load_diabetes\n",
        "from sklearn.model_selection import train_test_split\n",
        "from sklearn.preprocessing import StandardScaler"
      ],
      "metadata": {
        "id": "gmRzczGRnhxQ"
      },
      "execution_count": 2,
      "outputs": []
    },
    {
      "cell_type": "code",
      "source": [
        "import pandas as pd\n",
        "\n",
        "url = \"https://raw.githubusercontent.com/jbrownlee/Datasets/master/pima-indians-diabetes.data.csv\"\n",
        "columns = ['Pregnancies', 'Glucose', 'BloodPressure', 'SkinThickness', 'Insulin', 'BMI',\n",
        "           'DiabetesPedigreeFunction', 'Age', 'Outcome']\n",
        "\n",
        "df = pd.read_csv(url, names=columns)\n",
        "\n",
        "df.head()"
      ],
      "metadata": {
        "colab": {
          "base_uri": "https://localhost:8080/",
          "height": 226
        },
        "id": "blLfRnxjnzXD",
        "outputId": "e976f88b-b43e-423a-c5a6-282e9d1c70f3"
      },
      "execution_count": 3,
      "outputs": [
        {
          "output_type": "execute_result",
          "data": {
            "text/plain": [
              "   Pregnancies  Glucose  BloodPressure  SkinThickness  ...   BMI  DiabetesPedigreeFunction  Age  Outcome\n",
              "0            6      148             72             35  ...  33.6                     0.627   50        1\n",
              "1            1       85             66             29  ...  26.6                     0.351   31        0\n",
              "2            8      183             64              0  ...  23.3                     0.672   32        1\n",
              "3            1       89             66             23  ...  28.1                     0.167   21        0\n",
              "4            0      137             40             35  ...  43.1                     2.288   33        1\n",
              "\n",
              "[5 rows x 9 columns]"
            ],
            "text/html": [
              "\n",
              "  <div id=\"df-53808190-572e-40bc-94b0-668f785bb32a\" class=\"colab-df-container\">\n",
              "    <div>\n",
              "<style scoped>\n",
              "    .dataframe tbody tr th:only-of-type {\n",
              "        vertical-align: middle;\n",
              "    }\n",
              "\n",
              "    .dataframe tbody tr th {\n",
              "        vertical-align: top;\n",
              "    }\n",
              "\n",
              "    .dataframe thead th {\n",
              "        text-align: right;\n",
              "    }\n",
              "</style>\n",
              "<table border=\"1\" class=\"dataframe\">\n",
              "  <thead>\n",
              "    <tr style=\"text-align: right;\">\n",
              "      <th></th>\n",
              "      <th>Pregnancies</th>\n",
              "      <th>Glucose</th>\n",
              "      <th>BloodPressure</th>\n",
              "      <th>SkinThickness</th>\n",
              "      <th>Insulin</th>\n",
              "      <th>BMI</th>\n",
              "      <th>DiabetesPedigreeFunction</th>\n",
              "      <th>Age</th>\n",
              "      <th>Outcome</th>\n",
              "    </tr>\n",
              "  </thead>\n",
              "  <tbody>\n",
              "    <tr>\n",
              "      <th>0</th>\n",
              "      <td>6</td>\n",
              "      <td>148</td>\n",
              "      <td>72</td>\n",
              "      <td>35</td>\n",
              "      <td>0</td>\n",
              "      <td>33.6</td>\n",
              "      <td>0.627</td>\n",
              "      <td>50</td>\n",
              "      <td>1</td>\n",
              "    </tr>\n",
              "    <tr>\n",
              "      <th>1</th>\n",
              "      <td>1</td>\n",
              "      <td>85</td>\n",
              "      <td>66</td>\n",
              "      <td>29</td>\n",
              "      <td>0</td>\n",
              "      <td>26.6</td>\n",
              "      <td>0.351</td>\n",
              "      <td>31</td>\n",
              "      <td>0</td>\n",
              "    </tr>\n",
              "    <tr>\n",
              "      <th>2</th>\n",
              "      <td>8</td>\n",
              "      <td>183</td>\n",
              "      <td>64</td>\n",
              "      <td>0</td>\n",
              "      <td>0</td>\n",
              "      <td>23.3</td>\n",
              "      <td>0.672</td>\n",
              "      <td>32</td>\n",
              "      <td>1</td>\n",
              "    </tr>\n",
              "    <tr>\n",
              "      <th>3</th>\n",
              "      <td>1</td>\n",
              "      <td>89</td>\n",
              "      <td>66</td>\n",
              "      <td>23</td>\n",
              "      <td>94</td>\n",
              "      <td>28.1</td>\n",
              "      <td>0.167</td>\n",
              "      <td>21</td>\n",
              "      <td>0</td>\n",
              "    </tr>\n",
              "    <tr>\n",
              "      <th>4</th>\n",
              "      <td>0</td>\n",
              "      <td>137</td>\n",
              "      <td>40</td>\n",
              "      <td>35</td>\n",
              "      <td>168</td>\n",
              "      <td>43.1</td>\n",
              "      <td>2.288</td>\n",
              "      <td>33</td>\n",
              "      <td>1</td>\n",
              "    </tr>\n",
              "  </tbody>\n",
              "</table>\n",
              "</div>\n",
              "    <div class=\"colab-df-buttons\">\n",
              "\n",
              "  <div class=\"colab-df-container\">\n",
              "    <button class=\"colab-df-convert\" onclick=\"convertToInteractive('df-53808190-572e-40bc-94b0-668f785bb32a')\"\n",
              "            title=\"Convert this dataframe to an interactive table.\"\n",
              "            style=\"display:none;\">\n",
              "\n",
              "  <svg xmlns=\"http://www.w3.org/2000/svg\" height=\"24px\" viewBox=\"0 -960 960 960\">\n",
              "    <path d=\"M120-120v-720h720v720H120Zm60-500h600v-160H180v160Zm220 220h160v-160H400v160Zm0 220h160v-160H400v160ZM180-400h160v-160H180v160Zm440 0h160v-160H620v160ZM180-180h160v-160H180v160Zm440 0h160v-160H620v160Z\"/>\n",
              "  </svg>\n",
              "    </button>\n",
              "\n",
              "  <style>\n",
              "    .colab-df-container {\n",
              "      display:flex;\n",
              "      gap: 12px;\n",
              "    }\n",
              "\n",
              "    .colab-df-convert {\n",
              "      background-color: #E8F0FE;\n",
              "      border: none;\n",
              "      border-radius: 50%;\n",
              "      cursor: pointer;\n",
              "      display: none;\n",
              "      fill: #1967D2;\n",
              "      height: 32px;\n",
              "      padding: 0 0 0 0;\n",
              "      width: 32px;\n",
              "    }\n",
              "\n",
              "    .colab-df-convert:hover {\n",
              "      background-color: #E2EBFA;\n",
              "      box-shadow: 0px 1px 2px rgba(60, 64, 67, 0.3), 0px 1px 3px 1px rgba(60, 64, 67, 0.15);\n",
              "      fill: #174EA6;\n",
              "    }\n",
              "\n",
              "    .colab-df-buttons div {\n",
              "      margin-bottom: 4px;\n",
              "    }\n",
              "\n",
              "    [theme=dark] .colab-df-convert {\n",
              "      background-color: #3B4455;\n",
              "      fill: #D2E3FC;\n",
              "    }\n",
              "\n",
              "    [theme=dark] .colab-df-convert:hover {\n",
              "      background-color: #434B5C;\n",
              "      box-shadow: 0px 1px 3px 1px rgba(0, 0, 0, 0.15);\n",
              "      filter: drop-shadow(0px 1px 2px rgba(0, 0, 0, 0.3));\n",
              "      fill: #FFFFFF;\n",
              "    }\n",
              "  </style>\n",
              "\n",
              "    <script>\n",
              "      const buttonEl =\n",
              "        document.querySelector('#df-53808190-572e-40bc-94b0-668f785bb32a button.colab-df-convert');\n",
              "      buttonEl.style.display =\n",
              "        google.colab.kernel.accessAllowed ? 'block' : 'none';\n",
              "\n",
              "      async function convertToInteractive(key) {\n",
              "        const element = document.querySelector('#df-53808190-572e-40bc-94b0-668f785bb32a');\n",
              "        const dataTable =\n",
              "          await google.colab.kernel.invokeFunction('convertToInteractive',\n",
              "                                                    [key], {});\n",
              "        if (!dataTable) return;\n",
              "\n",
              "        const docLinkHtml = 'Like what you see? Visit the ' +\n",
              "          '<a target=\"_blank\" href=https://colab.research.google.com/notebooks/data_table.ipynb>data table notebook</a>'\n",
              "          + ' to learn more about interactive tables.';\n",
              "        element.innerHTML = '';\n",
              "        dataTable['output_type'] = 'display_data';\n",
              "        await google.colab.output.renderOutput(dataTable, element);\n",
              "        const docLink = document.createElement('div');\n",
              "        docLink.innerHTML = docLinkHtml;\n",
              "        element.appendChild(docLink);\n",
              "      }\n",
              "    </script>\n",
              "  </div>\n",
              "\n",
              "\n",
              "<div id=\"df-ae9d5035-11be-432b-91b0-40964eb5c861\">\n",
              "  <button class=\"colab-df-quickchart\" onclick=\"quickchart('df-ae9d5035-11be-432b-91b0-40964eb5c861')\"\n",
              "            title=\"Suggest charts\"\n",
              "            style=\"display:none;\">\n",
              "\n",
              "<svg xmlns=\"http://www.w3.org/2000/svg\" height=\"24px\"viewBox=\"0 0 24 24\"\n",
              "     width=\"24px\">\n",
              "    <g>\n",
              "        <path d=\"M19 3H5c-1.1 0-2 .9-2 2v14c0 1.1.9 2 2 2h14c1.1 0 2-.9 2-2V5c0-1.1-.9-2-2-2zM9 17H7v-7h2v7zm4 0h-2V7h2v10zm4 0h-2v-4h2v4z\"/>\n",
              "    </g>\n",
              "</svg>\n",
              "  </button>\n",
              "\n",
              "<style>\n",
              "  .colab-df-quickchart {\n",
              "      --bg-color: #E8F0FE;\n",
              "      --fill-color: #1967D2;\n",
              "      --hover-bg-color: #E2EBFA;\n",
              "      --hover-fill-color: #174EA6;\n",
              "      --disabled-fill-color: #AAA;\n",
              "      --disabled-bg-color: #DDD;\n",
              "  }\n",
              "\n",
              "  [theme=dark] .colab-df-quickchart {\n",
              "      --bg-color: #3B4455;\n",
              "      --fill-color: #D2E3FC;\n",
              "      --hover-bg-color: #434B5C;\n",
              "      --hover-fill-color: #FFFFFF;\n",
              "      --disabled-bg-color: #3B4455;\n",
              "      --disabled-fill-color: #666;\n",
              "  }\n",
              "\n",
              "  .colab-df-quickchart {\n",
              "    background-color: var(--bg-color);\n",
              "    border: none;\n",
              "    border-radius: 50%;\n",
              "    cursor: pointer;\n",
              "    display: none;\n",
              "    fill: var(--fill-color);\n",
              "    height: 32px;\n",
              "    padding: 0;\n",
              "    width: 32px;\n",
              "  }\n",
              "\n",
              "  .colab-df-quickchart:hover {\n",
              "    background-color: var(--hover-bg-color);\n",
              "    box-shadow: 0 1px 2px rgba(60, 64, 67, 0.3), 0 1px 3px 1px rgba(60, 64, 67, 0.15);\n",
              "    fill: var(--button-hover-fill-color);\n",
              "  }\n",
              "\n",
              "  .colab-df-quickchart-complete:disabled,\n",
              "  .colab-df-quickchart-complete:disabled:hover {\n",
              "    background-color: var(--disabled-bg-color);\n",
              "    fill: var(--disabled-fill-color);\n",
              "    box-shadow: none;\n",
              "  }\n",
              "\n",
              "  .colab-df-spinner {\n",
              "    border: 2px solid var(--fill-color);\n",
              "    border-color: transparent;\n",
              "    border-bottom-color: var(--fill-color);\n",
              "    animation:\n",
              "      spin 1s steps(1) infinite;\n",
              "  }\n",
              "\n",
              "  @keyframes spin {\n",
              "    0% {\n",
              "      border-color: transparent;\n",
              "      border-bottom-color: var(--fill-color);\n",
              "      border-left-color: var(--fill-color);\n",
              "    }\n",
              "    20% {\n",
              "      border-color: transparent;\n",
              "      border-left-color: var(--fill-color);\n",
              "      border-top-color: var(--fill-color);\n",
              "    }\n",
              "    30% {\n",
              "      border-color: transparent;\n",
              "      border-left-color: var(--fill-color);\n",
              "      border-top-color: var(--fill-color);\n",
              "      border-right-color: var(--fill-color);\n",
              "    }\n",
              "    40% {\n",
              "      border-color: transparent;\n",
              "      border-right-color: var(--fill-color);\n",
              "      border-top-color: var(--fill-color);\n",
              "    }\n",
              "    60% {\n",
              "      border-color: transparent;\n",
              "      border-right-color: var(--fill-color);\n",
              "    }\n",
              "    80% {\n",
              "      border-color: transparent;\n",
              "      border-right-color: var(--fill-color);\n",
              "      border-bottom-color: var(--fill-color);\n",
              "    }\n",
              "    90% {\n",
              "      border-color: transparent;\n",
              "      border-bottom-color: var(--fill-color);\n",
              "    }\n",
              "  }\n",
              "</style>\n",
              "\n",
              "  <script>\n",
              "    async function quickchart(key) {\n",
              "      const quickchartButtonEl =\n",
              "        document.querySelector('#' + key + ' button');\n",
              "      quickchartButtonEl.disabled = true;  // To prevent multiple clicks.\n",
              "      quickchartButtonEl.classList.add('colab-df-spinner');\n",
              "      try {\n",
              "        const charts = await google.colab.kernel.invokeFunction(\n",
              "            'suggestCharts', [key], {});\n",
              "      } catch (error) {\n",
              "        console.error('Error during call to suggestCharts:', error);\n",
              "      }\n",
              "      quickchartButtonEl.classList.remove('colab-df-spinner');\n",
              "      quickchartButtonEl.classList.add('colab-df-quickchart-complete');\n",
              "    }\n",
              "    (() => {\n",
              "      let quickchartButtonEl =\n",
              "        document.querySelector('#df-ae9d5035-11be-432b-91b0-40964eb5c861 button');\n",
              "      quickchartButtonEl.style.display =\n",
              "        google.colab.kernel.accessAllowed ? 'block' : 'none';\n",
              "    })();\n",
              "  </script>\n",
              "</div>\n",
              "\n",
              "    </div>\n",
              "  </div>\n"
            ],
            "application/vnd.google.colaboratory.intrinsic+json": {
              "type": "dataframe",
              "variable_name": "df",
              "summary": "{\n  \"name\": \"df\",\n  \"rows\": 768,\n  \"fields\": [\n    {\n      \"column\": \"Pregnancies\",\n      \"properties\": {\n        \"dtype\": \"number\",\n        \"std\": 3,\n        \"min\": 0,\n        \"max\": 17,\n        \"num_unique_values\": 17,\n        \"samples\": [\n          6,\n          1,\n          3\n        ],\n        \"semantic_type\": \"\",\n        \"description\": \"\"\n      }\n    },\n    {\n      \"column\": \"Glucose\",\n      \"properties\": {\n        \"dtype\": \"number\",\n        \"std\": 31,\n        \"min\": 0,\n        \"max\": 199,\n        \"num_unique_values\": 136,\n        \"samples\": [\n          151,\n          101,\n          112\n        ],\n        \"semantic_type\": \"\",\n        \"description\": \"\"\n      }\n    },\n    {\n      \"column\": \"BloodPressure\",\n      \"properties\": {\n        \"dtype\": \"number\",\n        \"std\": 19,\n        \"min\": 0,\n        \"max\": 122,\n        \"num_unique_values\": 47,\n        \"samples\": [\n          86,\n          46,\n          85\n        ],\n        \"semantic_type\": \"\",\n        \"description\": \"\"\n      }\n    },\n    {\n      \"column\": \"SkinThickness\",\n      \"properties\": {\n        \"dtype\": \"number\",\n        \"std\": 15,\n        \"min\": 0,\n        \"max\": 99,\n        \"num_unique_values\": 51,\n        \"samples\": [\n          7,\n          12,\n          48\n        ],\n        \"semantic_type\": \"\",\n        \"description\": \"\"\n      }\n    },\n    {\n      \"column\": \"Insulin\",\n      \"properties\": {\n        \"dtype\": \"number\",\n        \"std\": 115,\n        \"min\": 0,\n        \"max\": 846,\n        \"num_unique_values\": 186,\n        \"samples\": [\n          52,\n          41,\n          183\n        ],\n        \"semantic_type\": \"\",\n        \"description\": \"\"\n      }\n    },\n    {\n      \"column\": \"BMI\",\n      \"properties\": {\n        \"dtype\": \"number\",\n        \"std\": 7.8841603203754405,\n        \"min\": 0.0,\n        \"max\": 67.1,\n        \"num_unique_values\": 248,\n        \"samples\": [\n          19.9,\n          31.0,\n          38.1\n        ],\n        \"semantic_type\": \"\",\n        \"description\": \"\"\n      }\n    },\n    {\n      \"column\": \"DiabetesPedigreeFunction\",\n      \"properties\": {\n        \"dtype\": \"number\",\n        \"std\": 0.33132859501277484,\n        \"min\": 0.078,\n        \"max\": 2.42,\n        \"num_unique_values\": 517,\n        \"samples\": [\n          1.731,\n          0.426,\n          0.138\n        ],\n        \"semantic_type\": \"\",\n        \"description\": \"\"\n      }\n    },\n    {\n      \"column\": \"Age\",\n      \"properties\": {\n        \"dtype\": \"number\",\n        \"std\": 11,\n        \"min\": 21,\n        \"max\": 81,\n        \"num_unique_values\": 52,\n        \"samples\": [\n          60,\n          47,\n          72\n        ],\n        \"semantic_type\": \"\",\n        \"description\": \"\"\n      }\n    },\n    {\n      \"column\": \"Outcome\",\n      \"properties\": {\n        \"dtype\": \"number\",\n        \"std\": 0,\n        \"min\": 0,\n        \"max\": 1,\n        \"num_unique_values\": 2,\n        \"samples\": [\n          0,\n          1\n        ],\n        \"semantic_type\": \"\",\n        \"description\": \"\"\n      }\n    }\n  ]\n}"
            }
          },
          "metadata": {},
          "execution_count": 3
        }
      ]
    },
    {
      "cell_type": "code",
      "source": [
        "import numpy as np\n",
        "cols_with_missing_vals = ['Glucose', 'BloodPressure', 'SkinThickness', 'Insulin', 'BMI']\n",
        "df[cols_with_missing_vals] = df[cols_with_missing_vals].replace(0, np.nan)\n",
        "df.fillna(df.mean(), inplace=True)\n",
        "print(df.isnull().sum())"
      ],
      "metadata": {
        "colab": {
          "base_uri": "https://localhost:8080/"
        },
        "id": "BDp9nMKkn6sJ",
        "outputId": "125ac285-ae39-4fdc-ef30-10e0bf127502"
      },
      "execution_count": 4,
      "outputs": [
        {
          "output_type": "stream",
          "name": "stdout",
          "text": [
            "Pregnancies                 0\n",
            "Glucose                     0\n",
            "BloodPressure               0\n",
            "SkinThickness               0\n",
            "Insulin                     0\n",
            "BMI                         0\n",
            "DiabetesPedigreeFunction    0\n",
            "Age                         0\n",
            "Outcome                     0\n",
            "dtype: int64\n"
          ]
        }
      ]
    },
    {
      "cell_type": "code",
      "source": [
        "X = df.drop('Outcome', axis=1)\n",
        "y = df['Outcome']\n",
        "\n",
        "X_train, X_test, y_train, y_test = train_test_split(X, y, test_size=0.3, random_state=42)\n",
        "\n",
        "scaler = StandardScaler()\n",
        "X_train = scaler.fit_transform(X_train)\n",
        "X_test = scaler.transform(X_test)\n",
        "\n",
        "print(f'Training set shape: {X_train.shape}')\n",
        "print(f'Test set shape: {X_test.shape}')"
      ],
      "metadata": {
        "colab": {
          "base_uri": "https://localhost:8080/"
        },
        "id": "ErKS2aOeoIHx",
        "outputId": "61ba1eee-1aeb-424f-a93e-4919caf0dfc0"
      },
      "execution_count": 5,
      "outputs": [
        {
          "output_type": "stream",
          "name": "stdout",
          "text": [
            "Training set shape: (537, 8)\n",
            "Test set shape: (231, 8)\n"
          ]
        }
      ]
    },
    {
      "cell_type": "code",
      "source": [
        "from sklearn.ensemble import RandomForestClassifier\n",
        "from sklearn.model_selection import cross_val_score\n",
        "\n",
        "# defining the objective function\n",
        "def objective(trial):\n",
        "  # suggest values for hyperparemeter\n",
        "  n_estimators = trial.suggest_int('n_estimators', 100,300)\n",
        "  max_depth = trial.suggest_int('max_depth', 10,30)\n",
        "\n",
        "  # creating model with suggested hyperparams\n",
        "  model = RandomForestClassifier(\n",
        "      n_estimators=n_estimators,\n",
        "      max_depth=max_depth,\n",
        "      random_state=42\n",
        "  )\n",
        "\n",
        "  # perform 3 times cross validation and calculate accuracy\n",
        "  score = cross_val_score(model, X_train, y_train, cv=3, scoring='accuracy').mean()\n",
        "\n",
        "  return score\n"
      ],
      "metadata": {
        "id": "AUc7cU85oTlY"
      },
      "execution_count": 8,
      "outputs": []
    },
    {
      "cell_type": "code",
      "source": [
        "study = optuna.create_study(direction='maximize', sampler=optuna.samplers.TPESampler())\n",
        "# can used optuna.samplers.RandomSampler() as well for selecting sampler randomly.\n",
        "study.optimize(objective, n_trials=50)"
      ],
      "metadata": {
        "colab": {
          "base_uri": "https://localhost:8080/"
        },
        "collapsed": true,
        "id": "u9YFEXcRpBfE",
        "outputId": "b9c5f93d-92f6-494b-9253-d9f94b861b24"
      },
      "execution_count": 9,
      "outputs": [
        {
          "output_type": "stream",
          "name": "stderr",
          "text": [
            "[I 2025-02-02 07:57:16,703] A new study created in memory with name: no-name-5d6d2cad-39a6-42fb-8508-6bf9f2698b6d\n",
            "[I 2025-02-02 07:57:18,348] Trial 0 finished with value: 0.7728119180633147 and parameters: {'n_estimators': 237, 'max_depth': 12}. Best is trial 0 with value: 0.7728119180633147.\n",
            "[I 2025-02-02 07:57:19,294] Trial 1 finished with value: 0.7746741154562384 and parameters: {'n_estimators': 110, 'max_depth': 28}. Best is trial 1 with value: 0.7746741154562384.\n",
            "[I 2025-02-02 07:57:20,284] Trial 2 finished with value: 0.7653631284916201 and parameters: {'n_estimators': 111, 'max_depth': 11}. Best is trial 1 with value: 0.7746741154562384.\n",
            "[I 2025-02-02 07:57:22,097] Trial 3 finished with value: 0.7709497206703911 and parameters: {'n_estimators': 279, 'max_depth': 17}. Best is trial 1 with value: 0.7746741154562384.\n",
            "[I 2025-02-02 07:57:23,323] Trial 4 finished with value: 0.7728119180633147 and parameters: {'n_estimators': 219, 'max_depth': 15}. Best is trial 1 with value: 0.7746741154562384.\n",
            "[I 2025-02-02 07:57:24,859] Trial 5 finished with value: 0.7728119180633147 and parameters: {'n_estimators': 269, 'max_depth': 20}. Best is trial 1 with value: 0.7746741154562384.\n",
            "[I 2025-02-02 07:57:26,481] Trial 6 finished with value: 0.7709497206703911 and parameters: {'n_estimators': 141, 'max_depth': 22}. Best is trial 1 with value: 0.7746741154562384.\n",
            "[I 2025-02-02 07:57:27,865] Trial 7 finished with value: 0.7802607076350093 and parameters: {'n_estimators': 121, 'max_depth': 28}. Best is trial 7 with value: 0.7802607076350093.\n",
            "[I 2025-02-02 07:57:30,523] Trial 8 finished with value: 0.7728119180633147 and parameters: {'n_estimators': 292, 'max_depth': 21}. Best is trial 7 with value: 0.7802607076350093.\n",
            "[I 2025-02-02 07:57:32,595] Trial 9 finished with value: 0.7690875232774674 and parameters: {'n_estimators': 232, 'max_depth': 29}. Best is trial 7 with value: 0.7802607076350093.\n",
            "[I 2025-02-02 07:57:34,193] Trial 10 finished with value: 0.7709497206703911 and parameters: {'n_estimators': 177, 'max_depth': 25}. Best is trial 7 with value: 0.7802607076350093.\n",
            "[I 2025-02-02 07:57:34,957] Trial 11 finished with value: 0.7746741154562384 and parameters: {'n_estimators': 110, 'max_depth': 30}. Best is trial 7 with value: 0.7802607076350093.\n",
            "[I 2025-02-02 07:57:35,862] Trial 12 finished with value: 0.7728119180633147 and parameters: {'n_estimators': 155, 'max_depth': 26}. Best is trial 7 with value: 0.7802607076350093.\n",
            "[I 2025-02-02 07:57:36,451] Trial 13 finished with value: 0.7690875232774674 and parameters: {'n_estimators': 100, 'max_depth': 26}. Best is trial 7 with value: 0.7802607076350093.\n",
            "[I 2025-02-02 07:57:37,252] Trial 14 finished with value: 0.7690875232774674 and parameters: {'n_estimators': 138, 'max_depth': 28}. Best is trial 7 with value: 0.7802607076350093.\n",
            "[I 2025-02-02 07:57:38,313] Trial 15 finished with value: 0.7746741154562384 and parameters: {'n_estimators': 188, 'max_depth': 24}. Best is trial 7 with value: 0.7802607076350093.\n",
            "[I 2025-02-02 07:57:39,228] Trial 16 finished with value: 0.7709497206703911 and parameters: {'n_estimators': 158, 'max_depth': 28}. Best is trial 7 with value: 0.7802607076350093.\n",
            "[I 2025-02-02 07:57:39,971] Trial 17 finished with value: 0.7783985102420856 and parameters: {'n_estimators': 129, 'max_depth': 18}. Best is trial 7 with value: 0.7802607076350093.\n",
            "[I 2025-02-02 07:57:40,756] Trial 18 finished with value: 0.7728119180633147 and parameters: {'n_estimators': 136, 'max_depth': 18}. Best is trial 7 with value: 0.7802607076350093.\n",
            "[I 2025-02-02 07:57:41,743] Trial 19 finished with value: 0.7672253258845437 and parameters: {'n_estimators': 173, 'max_depth': 15}. Best is trial 7 with value: 0.7802607076350093.\n",
            "[I 2025-02-02 07:57:42,927] Trial 20 finished with value: 0.7709497206703911 and parameters: {'n_estimators': 209, 'max_depth': 23}. Best is trial 7 with value: 0.7802607076350093.\n",
            "[I 2025-02-02 07:57:43,634] Trial 21 finished with value: 0.7783985102420856 and parameters: {'n_estimators': 122, 'max_depth': 18}. Best is trial 7 with value: 0.7802607076350093.\n",
            "[I 2025-02-02 07:57:44,405] Trial 22 finished with value: 0.7746741154562384 and parameters: {'n_estimators': 132, 'max_depth': 18}. Best is trial 7 with value: 0.7802607076350093.\n",
            "[I 2025-02-02 07:57:46,336] Trial 23 finished with value: 0.7858472998137803 and parameters: {'n_estimators': 121, 'max_depth': 15}. Best is trial 23 with value: 0.7858472998137803.\n",
            "[I 2025-02-02 07:57:48,743] Trial 24 finished with value: 0.7690875232774674 and parameters: {'n_estimators': 156, 'max_depth': 14}. Best is trial 23 with value: 0.7858472998137803.\n",
            "[I 2025-02-02 07:57:49,889] Trial 25 finished with value: 0.7765363128491621 and parameters: {'n_estimators': 122, 'max_depth': 16}. Best is trial 23 with value: 0.7858472998137803.\n",
            "[I 2025-02-02 07:57:50,713] Trial 26 finished with value: 0.7746741154562384 and parameters: {'n_estimators': 100, 'max_depth': 12}. Best is trial 23 with value: 0.7858472998137803.\n",
            "[I 2025-02-02 07:57:51,763] Trial 27 finished with value: 0.7709497206703911 and parameters: {'n_estimators': 169, 'max_depth': 20}. Best is trial 23 with value: 0.7858472998137803.\n",
            "[I 2025-02-02 07:57:53,357] Trial 28 finished with value: 0.7728119180633147 and parameters: {'n_estimators': 195, 'max_depth': 13}. Best is trial 23 with value: 0.7858472998137803.\n",
            "[I 2025-02-02 07:57:54,469] Trial 29 finished with value: 0.7690875232774674 and parameters: {'n_estimators': 147, 'max_depth': 20}. Best is trial 23 with value: 0.7858472998137803.\n",
            "[I 2025-02-02 07:57:55,175] Trial 30 finished with value: 0.7765363128491621 and parameters: {'n_estimators': 122, 'max_depth': 16}. Best is trial 23 with value: 0.7858472998137803.\n",
            "[I 2025-02-02 07:57:55,912] Trial 31 finished with value: 0.7783985102420856 and parameters: {'n_estimators': 127, 'max_depth': 18}. Best is trial 23 with value: 0.7858472998137803.\n",
            "[I 2025-02-02 07:57:56,599] Trial 32 finished with value: 0.7783985102420856 and parameters: {'n_estimators': 118, 'max_depth': 19}. Best is trial 23 with value: 0.7858472998137803.\n",
            "[I 2025-02-02 07:57:57,251] Trial 33 finished with value: 0.7690875232774674 and parameters: {'n_estimators': 111, 'max_depth': 13}. Best is trial 23 with value: 0.7858472998137803.\n",
            "[I 2025-02-02 07:57:58,113] Trial 34 finished with value: 0.7672253258845437 and parameters: {'n_estimators': 148, 'max_depth': 11}. Best is trial 23 with value: 0.7858472998137803.\n",
            "[I 2025-02-02 07:57:59,020] Trial 35 finished with value: 0.7765363128491621 and parameters: {'n_estimators': 130, 'max_depth': 17}. Best is trial 23 with value: 0.7858472998137803.\n",
            "[I 2025-02-02 07:58:00,028] Trial 36 finished with value: 0.7783985102420856 and parameters: {'n_estimators': 117, 'max_depth': 22}. Best is trial 23 with value: 0.7858472998137803.\n",
            "[I 2025-02-02 07:58:02,115] Trial 37 finished with value: 0.7709497206703911 and parameters: {'n_estimators': 251, 'max_depth': 10}. Best is trial 23 with value: 0.7858472998137803.\n",
            "[I 2025-02-02 07:58:02,706] Trial 38 finished with value: 0.7728119180633147 and parameters: {'n_estimators': 103, 'max_depth': 16}. Best is trial 23 with value: 0.7858472998137803.\n",
            "[I 2025-02-02 07:58:03,652] Trial 39 finished with value: 0.7728119180633147 and parameters: {'n_estimators': 165, 'max_depth': 19}. Best is trial 23 with value: 0.7858472998137803.\n",
            "[I 2025-02-02 07:58:04,484] Trial 40 finished with value: 0.7672253258845437 and parameters: {'n_estimators': 144, 'max_depth': 14}. Best is trial 23 with value: 0.7858472998137803.\n",
            "[I 2025-02-02 07:58:05,258] Trial 41 finished with value: 0.7821229050279329 and parameters: {'n_estimators': 125, 'max_depth': 18}. Best is trial 23 with value: 0.7858472998137803.\n",
            "[I 2025-02-02 07:58:05,907] Trial 42 finished with value: 0.7783985102420856 and parameters: {'n_estimators': 113, 'max_depth': 17}. Best is trial 23 with value: 0.7858472998137803.\n",
            "[I 2025-02-02 07:58:06,664] Trial 43 finished with value: 0.7746741154562383 and parameters: {'n_estimators': 132, 'max_depth': 19}. Best is trial 23 with value: 0.7858472998137803.\n",
            "[I 2025-02-02 07:58:07,387] Trial 44 finished with value: 0.7746741154562384 and parameters: {'n_estimators': 124, 'max_depth': 21}. Best is trial 23 with value: 0.7858472998137803.\n",
            "[I 2025-02-02 07:58:08,027] Trial 45 finished with value: 0.7746741154562384 and parameters: {'n_estimators': 110, 'max_depth': 15}. Best is trial 23 with value: 0.7858472998137803.\n",
            "[I 2025-02-02 07:58:08,858] Trial 46 finished with value: 0.7690875232774674 and parameters: {'n_estimators': 144, 'max_depth': 21}. Best is trial 23 with value: 0.7858472998137803.\n",
            "[I 2025-02-02 07:58:09,731] Trial 47 finished with value: 0.7690875232774674 and parameters: {'n_estimators': 155, 'max_depth': 17}. Best is trial 23 with value: 0.7858472998137803.\n",
            "[I 2025-02-02 07:58:10,770] Trial 48 finished with value: 0.7728119180633147 and parameters: {'n_estimators': 183, 'max_depth': 30}. Best is trial 23 with value: 0.7858472998137803.\n",
            "[I 2025-02-02 07:58:12,152] Trial 49 finished with value: 0.7728119180633147 and parameters: {'n_estimators': 231, 'max_depth': 18}. Best is trial 23 with value: 0.7858472998137803.\n"
          ]
        }
      ]
    },
    {
      "cell_type": "code",
      "source": [
        "print(f'Best trial accuracy: {study.best_trial.value}')\n",
        "print(f'Best hyperparameters: {study.best_trial.params}')"
      ],
      "metadata": {
        "colab": {
          "base_uri": "https://localhost:8080/"
        },
        "id": "teTwXL4UpULx",
        "outputId": "f1a93a3b-e4a8-4d7f-b169-dd4905a0fc10"
      },
      "execution_count": 10,
      "outputs": [
        {
          "output_type": "stream",
          "name": "stdout",
          "text": [
            "Best trial accuracy: 0.7858472998137803\n",
            "Best hyperparameters: {'n_estimators': 121, 'max_depth': 15}\n"
          ]
        }
      ]
    },
    {
      "cell_type": "code",
      "source": [
        "# In Grid Search, we call sampler=optuna.samplers.GridSampler(search_space)\n",
        "#\n",
        "# search_space = {\n",
        "#   'param-1': [2,3,4],\n",
        "#   'param-2': [4,5,7]\n",
        "# }"
      ],
      "metadata": {
        "id": "OU7SNXPFrl8t"
      },
      "execution_count": 13,
      "outputs": []
    },
    {
      "cell_type": "markdown",
      "source": [
        "#### Optuna Visualizations"
      ],
      "metadata": {
        "id": "DAlHPc5Cr1BH"
      }
    },
    {
      "cell_type": "code",
      "source": [
        "from optuna.visualization import plot_optimization_history, plot_parallel_coordinate, plot_slice, plot_contour, plot_param_importances"
      ],
      "metadata": {
        "id": "aBOc8mJjrrl8"
      },
      "execution_count": 14,
      "outputs": []
    },
    {
      "cell_type": "code",
      "source": [
        "plot_optimization_history(study).show()"
      ],
      "metadata": {
        "colab": {
          "base_uri": "https://localhost:8080/",
          "height": 542
        },
        "id": "0dYIQmAir99X",
        "outputId": "d74d81f5-bb0a-4f55-dc66-de8e0f147728"
      },
      "execution_count": 15,
      "outputs": [
        {
          "output_type": "display_data",
          "data": {
            "text/html": [
              "<html>\n",
              "<head><meta charset=\"utf-8\" /></head>\n",
              "<body>\n",
              "    <div>            <script src=\"https://cdnjs.cloudflare.com/ajax/libs/mathjax/2.7.5/MathJax.js?config=TeX-AMS-MML_SVG\"></script><script type=\"text/javascript\">if (window.MathJax && window.MathJax.Hub && window.MathJax.Hub.Config) {window.MathJax.Hub.Config({SVG: {font: \"STIX-Web\"}});}</script>                <script type=\"text/javascript\">window.PlotlyConfig = {MathJaxConfig: 'local'};</script>\n",
              "        <script charset=\"utf-8\" src=\"https://cdn.plot.ly/plotly-2.35.2.min.js\"></script>                <div id=\"fdb4a0e7-8504-4e54-8d41-8544242ee2e1\" class=\"plotly-graph-div\" style=\"height:525px; width:100%;\"></div>            <script type=\"text/javascript\">                                    window.PLOTLYENV=window.PLOTLYENV || {};                                    if (document.getElementById(\"fdb4a0e7-8504-4e54-8d41-8544242ee2e1\")) {                    Plotly.newPlot(                        \"fdb4a0e7-8504-4e54-8d41-8544242ee2e1\",                        [{\"mode\":\"markers\",\"name\":\"Objective Value\",\"x\":[0,1,2,3,4,5,6,7,8,9,10,11,12,13,14,15,16,17,18,19,20,21,22,23,24,25,26,27,28,29,30,31,32,33,34,35,36,37,38,39,40,41,42,43,44,45,46,47,48,49],\"y\":[0.7728119180633147,0.7746741154562384,0.7653631284916201,0.7709497206703911,0.7728119180633147,0.7728119180633147,0.7709497206703911,0.7802607076350093,0.7728119180633147,0.7690875232774674,0.7709497206703911,0.7746741154562384,0.7728119180633147,0.7690875232774674,0.7690875232774674,0.7746741154562384,0.7709497206703911,0.7783985102420856,0.7728119180633147,0.7672253258845437,0.7709497206703911,0.7783985102420856,0.7746741154562384,0.7858472998137803,0.7690875232774674,0.7765363128491621,0.7746741154562384,0.7709497206703911,0.7728119180633147,0.7690875232774674,0.7765363128491621,0.7783985102420856,0.7783985102420856,0.7690875232774674,0.7672253258845437,0.7765363128491621,0.7783985102420856,0.7709497206703911,0.7728119180633147,0.7728119180633147,0.7672253258845437,0.7821229050279329,0.7783985102420856,0.7746741154562383,0.7746741154562384,0.7746741154562384,0.7690875232774674,0.7690875232774674,0.7728119180633147,0.7728119180633147],\"type\":\"scatter\"},{\"mode\":\"lines\",\"name\":\"Best Value\",\"x\":[0,1,2,3,4,5,6,7,8,9,10,11,12,13,14,15,16,17,18,19,20,21,22,23,24,25,26,27,28,29,30,31,32,33,34,35,36,37,38,39,40,41,42,43,44,45,46,47,48,49],\"y\":[0.7728119180633147,0.7746741154562384,0.7746741154562384,0.7746741154562384,0.7746741154562384,0.7746741154562384,0.7746741154562384,0.7802607076350093,0.7802607076350093,0.7802607076350093,0.7802607076350093,0.7802607076350093,0.7802607076350093,0.7802607076350093,0.7802607076350093,0.7802607076350093,0.7802607076350093,0.7802607076350093,0.7802607076350093,0.7802607076350093,0.7802607076350093,0.7802607076350093,0.7802607076350093,0.7858472998137803,0.7858472998137803,0.7858472998137803,0.7858472998137803,0.7858472998137803,0.7858472998137803,0.7858472998137803,0.7858472998137803,0.7858472998137803,0.7858472998137803,0.7858472998137803,0.7858472998137803,0.7858472998137803,0.7858472998137803,0.7858472998137803,0.7858472998137803,0.7858472998137803,0.7858472998137803,0.7858472998137803,0.7858472998137803,0.7858472998137803,0.7858472998137803,0.7858472998137803,0.7858472998137803,0.7858472998137803,0.7858472998137803,0.7858472998137803],\"type\":\"scatter\"},{\"marker\":{\"color\":\"#cccccc\"},\"mode\":\"markers\",\"name\":\"Infeasible Trial\",\"showlegend\":false,\"x\":[],\"y\":[],\"type\":\"scatter\"}],                        {\"title\":{\"text\":\"Optimization History Plot\"},\"xaxis\":{\"title\":{\"text\":\"Trial\"}},\"yaxis\":{\"title\":{\"text\":\"Objective Value\"}},\"template\":{\"data\":{\"histogram2dcontour\":[{\"type\":\"histogram2dcontour\",\"colorbar\":{\"outlinewidth\":0,\"ticks\":\"\"},\"colorscale\":[[0.0,\"#0d0887\"],[0.1111111111111111,\"#46039f\"],[0.2222222222222222,\"#7201a8\"],[0.3333333333333333,\"#9c179e\"],[0.4444444444444444,\"#bd3786\"],[0.5555555555555556,\"#d8576b\"],[0.6666666666666666,\"#ed7953\"],[0.7777777777777778,\"#fb9f3a\"],[0.8888888888888888,\"#fdca26\"],[1.0,\"#f0f921\"]]}],\"choropleth\":[{\"type\":\"choropleth\",\"colorbar\":{\"outlinewidth\":0,\"ticks\":\"\"}}],\"histogram2d\":[{\"type\":\"histogram2d\",\"colorbar\":{\"outlinewidth\":0,\"ticks\":\"\"},\"colorscale\":[[0.0,\"#0d0887\"],[0.1111111111111111,\"#46039f\"],[0.2222222222222222,\"#7201a8\"],[0.3333333333333333,\"#9c179e\"],[0.4444444444444444,\"#bd3786\"],[0.5555555555555556,\"#d8576b\"],[0.6666666666666666,\"#ed7953\"],[0.7777777777777778,\"#fb9f3a\"],[0.8888888888888888,\"#fdca26\"],[1.0,\"#f0f921\"]]}],\"heatmap\":[{\"type\":\"heatmap\",\"colorbar\":{\"outlinewidth\":0,\"ticks\":\"\"},\"colorscale\":[[0.0,\"#0d0887\"],[0.1111111111111111,\"#46039f\"],[0.2222222222222222,\"#7201a8\"],[0.3333333333333333,\"#9c179e\"],[0.4444444444444444,\"#bd3786\"],[0.5555555555555556,\"#d8576b\"],[0.6666666666666666,\"#ed7953\"],[0.7777777777777778,\"#fb9f3a\"],[0.8888888888888888,\"#fdca26\"],[1.0,\"#f0f921\"]]}],\"heatmapgl\":[{\"type\":\"heatmapgl\",\"colorbar\":{\"outlinewidth\":0,\"ticks\":\"\"},\"colorscale\":[[0.0,\"#0d0887\"],[0.1111111111111111,\"#46039f\"],[0.2222222222222222,\"#7201a8\"],[0.3333333333333333,\"#9c179e\"],[0.4444444444444444,\"#bd3786\"],[0.5555555555555556,\"#d8576b\"],[0.6666666666666666,\"#ed7953\"],[0.7777777777777778,\"#fb9f3a\"],[0.8888888888888888,\"#fdca26\"],[1.0,\"#f0f921\"]]}],\"contourcarpet\":[{\"type\":\"contourcarpet\",\"colorbar\":{\"outlinewidth\":0,\"ticks\":\"\"}}],\"contour\":[{\"type\":\"contour\",\"colorbar\":{\"outlinewidth\":0,\"ticks\":\"\"},\"colorscale\":[[0.0,\"#0d0887\"],[0.1111111111111111,\"#46039f\"],[0.2222222222222222,\"#7201a8\"],[0.3333333333333333,\"#9c179e\"],[0.4444444444444444,\"#bd3786\"],[0.5555555555555556,\"#d8576b\"],[0.6666666666666666,\"#ed7953\"],[0.7777777777777778,\"#fb9f3a\"],[0.8888888888888888,\"#fdca26\"],[1.0,\"#f0f921\"]]}],\"surface\":[{\"type\":\"surface\",\"colorbar\":{\"outlinewidth\":0,\"ticks\":\"\"},\"colorscale\":[[0.0,\"#0d0887\"],[0.1111111111111111,\"#46039f\"],[0.2222222222222222,\"#7201a8\"],[0.3333333333333333,\"#9c179e\"],[0.4444444444444444,\"#bd3786\"],[0.5555555555555556,\"#d8576b\"],[0.6666666666666666,\"#ed7953\"],[0.7777777777777778,\"#fb9f3a\"],[0.8888888888888888,\"#fdca26\"],[1.0,\"#f0f921\"]]}],\"mesh3d\":[{\"type\":\"mesh3d\",\"colorbar\":{\"outlinewidth\":0,\"ticks\":\"\"}}],\"scatter\":[{\"fillpattern\":{\"fillmode\":\"overlay\",\"size\":10,\"solidity\":0.2},\"type\":\"scatter\"}],\"parcoords\":[{\"type\":\"parcoords\",\"line\":{\"colorbar\":{\"outlinewidth\":0,\"ticks\":\"\"}}}],\"scatterpolargl\":[{\"type\":\"scatterpolargl\",\"marker\":{\"colorbar\":{\"outlinewidth\":0,\"ticks\":\"\"}}}],\"bar\":[{\"error_x\":{\"color\":\"#2a3f5f\"},\"error_y\":{\"color\":\"#2a3f5f\"},\"marker\":{\"line\":{\"color\":\"#E5ECF6\",\"width\":0.5},\"pattern\":{\"fillmode\":\"overlay\",\"size\":10,\"solidity\":0.2}},\"type\":\"bar\"}],\"scattergeo\":[{\"type\":\"scattergeo\",\"marker\":{\"colorbar\":{\"outlinewidth\":0,\"ticks\":\"\"}}}],\"scatterpolar\":[{\"type\":\"scatterpolar\",\"marker\":{\"colorbar\":{\"outlinewidth\":0,\"ticks\":\"\"}}}],\"histogram\":[{\"marker\":{\"pattern\":{\"fillmode\":\"overlay\",\"size\":10,\"solidity\":0.2}},\"type\":\"histogram\"}],\"scattergl\":[{\"type\":\"scattergl\",\"marker\":{\"colorbar\":{\"outlinewidth\":0,\"ticks\":\"\"}}}],\"scatter3d\":[{\"type\":\"scatter3d\",\"line\":{\"colorbar\":{\"outlinewidth\":0,\"ticks\":\"\"}},\"marker\":{\"colorbar\":{\"outlinewidth\":0,\"ticks\":\"\"}}}],\"scattermapbox\":[{\"type\":\"scattermapbox\",\"marker\":{\"colorbar\":{\"outlinewidth\":0,\"ticks\":\"\"}}}],\"scatterternary\":[{\"type\":\"scatterternary\",\"marker\":{\"colorbar\":{\"outlinewidth\":0,\"ticks\":\"\"}}}],\"scattercarpet\":[{\"type\":\"scattercarpet\",\"marker\":{\"colorbar\":{\"outlinewidth\":0,\"ticks\":\"\"}}}],\"carpet\":[{\"aaxis\":{\"endlinecolor\":\"#2a3f5f\",\"gridcolor\":\"white\",\"linecolor\":\"white\",\"minorgridcolor\":\"white\",\"startlinecolor\":\"#2a3f5f\"},\"baxis\":{\"endlinecolor\":\"#2a3f5f\",\"gridcolor\":\"white\",\"linecolor\":\"white\",\"minorgridcolor\":\"white\",\"startlinecolor\":\"#2a3f5f\"},\"type\":\"carpet\"}],\"table\":[{\"cells\":{\"fill\":{\"color\":\"#EBF0F8\"},\"line\":{\"color\":\"white\"}},\"header\":{\"fill\":{\"color\":\"#C8D4E3\"},\"line\":{\"color\":\"white\"}},\"type\":\"table\"}],\"barpolar\":[{\"marker\":{\"line\":{\"color\":\"#E5ECF6\",\"width\":0.5},\"pattern\":{\"fillmode\":\"overlay\",\"size\":10,\"solidity\":0.2}},\"type\":\"barpolar\"}],\"pie\":[{\"automargin\":true,\"type\":\"pie\"}]},\"layout\":{\"autotypenumbers\":\"strict\",\"colorway\":[\"#636efa\",\"#EF553B\",\"#00cc96\",\"#ab63fa\",\"#FFA15A\",\"#19d3f3\",\"#FF6692\",\"#B6E880\",\"#FF97FF\",\"#FECB52\"],\"font\":{\"color\":\"#2a3f5f\"},\"hovermode\":\"closest\",\"hoverlabel\":{\"align\":\"left\"},\"paper_bgcolor\":\"white\",\"plot_bgcolor\":\"#E5ECF6\",\"polar\":{\"bgcolor\":\"#E5ECF6\",\"angularaxis\":{\"gridcolor\":\"white\",\"linecolor\":\"white\",\"ticks\":\"\"},\"radialaxis\":{\"gridcolor\":\"white\",\"linecolor\":\"white\",\"ticks\":\"\"}},\"ternary\":{\"bgcolor\":\"#E5ECF6\",\"aaxis\":{\"gridcolor\":\"white\",\"linecolor\":\"white\",\"ticks\":\"\"},\"baxis\":{\"gridcolor\":\"white\",\"linecolor\":\"white\",\"ticks\":\"\"},\"caxis\":{\"gridcolor\":\"white\",\"linecolor\":\"white\",\"ticks\":\"\"}},\"coloraxis\":{\"colorbar\":{\"outlinewidth\":0,\"ticks\":\"\"}},\"colorscale\":{\"sequential\":[[0.0,\"#0d0887\"],[0.1111111111111111,\"#46039f\"],[0.2222222222222222,\"#7201a8\"],[0.3333333333333333,\"#9c179e\"],[0.4444444444444444,\"#bd3786\"],[0.5555555555555556,\"#d8576b\"],[0.6666666666666666,\"#ed7953\"],[0.7777777777777778,\"#fb9f3a\"],[0.8888888888888888,\"#fdca26\"],[1.0,\"#f0f921\"]],\"sequentialminus\":[[0.0,\"#0d0887\"],[0.1111111111111111,\"#46039f\"],[0.2222222222222222,\"#7201a8\"],[0.3333333333333333,\"#9c179e\"],[0.4444444444444444,\"#bd3786\"],[0.5555555555555556,\"#d8576b\"],[0.6666666666666666,\"#ed7953\"],[0.7777777777777778,\"#fb9f3a\"],[0.8888888888888888,\"#fdca26\"],[1.0,\"#f0f921\"]],\"diverging\":[[0,\"#8e0152\"],[0.1,\"#c51b7d\"],[0.2,\"#de77ae\"],[0.3,\"#f1b6da\"],[0.4,\"#fde0ef\"],[0.5,\"#f7f7f7\"],[0.6,\"#e6f5d0\"],[0.7,\"#b8e186\"],[0.8,\"#7fbc41\"],[0.9,\"#4d9221\"],[1,\"#276419\"]]},\"xaxis\":{\"gridcolor\":\"white\",\"linecolor\":\"white\",\"ticks\":\"\",\"title\":{\"standoff\":15},\"zerolinecolor\":\"white\",\"automargin\":true,\"zerolinewidth\":2},\"yaxis\":{\"gridcolor\":\"white\",\"linecolor\":\"white\",\"ticks\":\"\",\"title\":{\"standoff\":15},\"zerolinecolor\":\"white\",\"automargin\":true,\"zerolinewidth\":2},\"scene\":{\"xaxis\":{\"backgroundcolor\":\"#E5ECF6\",\"gridcolor\":\"white\",\"linecolor\":\"white\",\"showbackground\":true,\"ticks\":\"\",\"zerolinecolor\":\"white\",\"gridwidth\":2},\"yaxis\":{\"backgroundcolor\":\"#E5ECF6\",\"gridcolor\":\"white\",\"linecolor\":\"white\",\"showbackground\":true,\"ticks\":\"\",\"zerolinecolor\":\"white\",\"gridwidth\":2},\"zaxis\":{\"backgroundcolor\":\"#E5ECF6\",\"gridcolor\":\"white\",\"linecolor\":\"white\",\"showbackground\":true,\"ticks\":\"\",\"zerolinecolor\":\"white\",\"gridwidth\":2}},\"shapedefaults\":{\"line\":{\"color\":\"#2a3f5f\"}},\"annotationdefaults\":{\"arrowcolor\":\"#2a3f5f\",\"arrowhead\":0,\"arrowwidth\":1},\"geo\":{\"bgcolor\":\"white\",\"landcolor\":\"#E5ECF6\",\"subunitcolor\":\"white\",\"showland\":true,\"showlakes\":true,\"lakecolor\":\"white\"},\"title\":{\"x\":0.05},\"mapbox\":{\"style\":\"light\"}}}},                        {\"responsive\": true}                    ).then(function(){\n",
              "                            \n",
              "var gd = document.getElementById('fdb4a0e7-8504-4e54-8d41-8544242ee2e1');\n",
              "var x = new MutationObserver(function (mutations, observer) {{\n",
              "        var display = window.getComputedStyle(gd).display;\n",
              "        if (!display || display === 'none') {{\n",
              "            console.log([gd, 'removed!']);\n",
              "            Plotly.purge(gd);\n",
              "            observer.disconnect();\n",
              "        }}\n",
              "}});\n",
              "\n",
              "// Listen for the removal of the full notebook cells\n",
              "var notebookContainer = gd.closest('#notebook-container');\n",
              "if (notebookContainer) {{\n",
              "    x.observe(notebookContainer, {childList: true});\n",
              "}}\n",
              "\n",
              "// Listen for the clearing of the current output cell\n",
              "var outputEl = gd.closest('.output');\n",
              "if (outputEl) {{\n",
              "    x.observe(outputEl, {childList: true});\n",
              "}}\n",
              "\n",
              "                        })                };                            </script>        </div>\n",
              "</body>\n",
              "</html>"
            ]
          },
          "metadata": {}
        }
      ]
    },
    {
      "cell_type": "code",
      "source": [
        "plot_parallel_coordinate(study).show()"
      ],
      "metadata": {
        "colab": {
          "base_uri": "https://localhost:8080/",
          "height": 542
        },
        "id": "QffGpaKKr_wE",
        "outputId": "d82828b2-c4cd-4d13-f159-238f644e7547"
      },
      "execution_count": 16,
      "outputs": [
        {
          "output_type": "display_data",
          "data": {
            "text/html": [
              "<html>\n",
              "<head><meta charset=\"utf-8\" /></head>\n",
              "<body>\n",
              "    <div>            <script src=\"https://cdnjs.cloudflare.com/ajax/libs/mathjax/2.7.5/MathJax.js?config=TeX-AMS-MML_SVG\"></script><script type=\"text/javascript\">if (window.MathJax && window.MathJax.Hub && window.MathJax.Hub.Config) {window.MathJax.Hub.Config({SVG: {font: \"STIX-Web\"}});}</script>                <script type=\"text/javascript\">window.PlotlyConfig = {MathJaxConfig: 'local'};</script>\n",
              "        <script charset=\"utf-8\" src=\"https://cdn.plot.ly/plotly-2.35.2.min.js\"></script>                <div id=\"23610791-dc35-4bcc-a796-3255e5b5b3a1\" class=\"plotly-graph-div\" style=\"height:525px; width:100%;\"></div>            <script type=\"text/javascript\">                                    window.PLOTLYENV=window.PLOTLYENV || {};                                    if (document.getElementById(\"23610791-dc35-4bcc-a796-3255e5b5b3a1\")) {                    Plotly.newPlot(                        \"23610791-dc35-4bcc-a796-3255e5b5b3a1\",                        [{\"dimensions\":[{\"label\":\"Objective Value\",\"range\":[0.7653631284916201,0.7858472998137803],\"values\":[0.7728119180633147,0.7746741154562384,0.7653631284916201,0.7709497206703911,0.7728119180633147,0.7728119180633147,0.7709497206703911,0.7802607076350093,0.7728119180633147,0.7690875232774674,0.7709497206703911,0.7746741154562384,0.7728119180633147,0.7690875232774674,0.7690875232774674,0.7746741154562384,0.7709497206703911,0.7783985102420856,0.7728119180633147,0.7672253258845437,0.7709497206703911,0.7783985102420856,0.7746741154562384,0.7858472998137803,0.7690875232774674,0.7765363128491621,0.7746741154562384,0.7709497206703911,0.7728119180633147,0.7690875232774674,0.7765363128491621,0.7783985102420856,0.7783985102420856,0.7690875232774674,0.7672253258845437,0.7765363128491621,0.7783985102420856,0.7709497206703911,0.7728119180633147,0.7728119180633147,0.7672253258845437,0.7821229050279329,0.7783985102420856,0.7746741154562383,0.7746741154562384,0.7746741154562384,0.7690875232774674,0.7690875232774674,0.7728119180633147,0.7728119180633147]},{\"label\":\"max_depth\",\"range\":[10,30],\"values\":[12,28,11,17,15,20,22,28,21,29,25,30,26,26,28,24,28,18,18,15,23,18,18,15,14,16,12,20,13,20,16,18,19,13,11,17,22,10,16,19,14,18,17,19,21,15,21,17,30,18]},{\"label\":\"n_estimators\",\"range\":[100,292],\"values\":[237,110,111,279,219,269,141,121,292,232,177,110,155,100,138,188,158,129,136,173,209,122,132,121,156,122,100,169,195,147,122,127,118,111,148,130,117,251,103,165,144,125,113,132,124,110,144,155,183,231]}],\"labelangle\":30,\"labelside\":\"bottom\",\"line\":{\"color\":[0.7728119180633147,0.7746741154562384,0.7653631284916201,0.7709497206703911,0.7728119180633147,0.7728119180633147,0.7709497206703911,0.7802607076350093,0.7728119180633147,0.7690875232774674,0.7709497206703911,0.7746741154562384,0.7728119180633147,0.7690875232774674,0.7690875232774674,0.7746741154562384,0.7709497206703911,0.7783985102420856,0.7728119180633147,0.7672253258845437,0.7709497206703911,0.7783985102420856,0.7746741154562384,0.7858472998137803,0.7690875232774674,0.7765363128491621,0.7746741154562384,0.7709497206703911,0.7728119180633147,0.7690875232774674,0.7765363128491621,0.7783985102420856,0.7783985102420856,0.7690875232774674,0.7672253258845437,0.7765363128491621,0.7783985102420856,0.7709497206703911,0.7728119180633147,0.7728119180633147,0.7672253258845437,0.7821229050279329,0.7783985102420856,0.7746741154562383,0.7746741154562384,0.7746741154562384,0.7690875232774674,0.7690875232774674,0.7728119180633147,0.7728119180633147],\"colorbar\":{\"title\":{\"text\":\"Objective Value\"}},\"colorscale\":[[0.0,\"rgb(247,251,255)\"],[0.125,\"rgb(222,235,247)\"],[0.25,\"rgb(198,219,239)\"],[0.375,\"rgb(158,202,225)\"],[0.5,\"rgb(107,174,214)\"],[0.625,\"rgb(66,146,198)\"],[0.75,\"rgb(33,113,181)\"],[0.875,\"rgb(8,81,156)\"],[1.0,\"rgb(8,48,107)\"]],\"reversescale\":false,\"showscale\":true},\"type\":\"parcoords\"}],                        {\"title\":{\"text\":\"Parallel Coordinate Plot\"},\"template\":{\"data\":{\"histogram2dcontour\":[{\"type\":\"histogram2dcontour\",\"colorbar\":{\"outlinewidth\":0,\"ticks\":\"\"},\"colorscale\":[[0.0,\"#0d0887\"],[0.1111111111111111,\"#46039f\"],[0.2222222222222222,\"#7201a8\"],[0.3333333333333333,\"#9c179e\"],[0.4444444444444444,\"#bd3786\"],[0.5555555555555556,\"#d8576b\"],[0.6666666666666666,\"#ed7953\"],[0.7777777777777778,\"#fb9f3a\"],[0.8888888888888888,\"#fdca26\"],[1.0,\"#f0f921\"]]}],\"choropleth\":[{\"type\":\"choropleth\",\"colorbar\":{\"outlinewidth\":0,\"ticks\":\"\"}}],\"histogram2d\":[{\"type\":\"histogram2d\",\"colorbar\":{\"outlinewidth\":0,\"ticks\":\"\"},\"colorscale\":[[0.0,\"#0d0887\"],[0.1111111111111111,\"#46039f\"],[0.2222222222222222,\"#7201a8\"],[0.3333333333333333,\"#9c179e\"],[0.4444444444444444,\"#bd3786\"],[0.5555555555555556,\"#d8576b\"],[0.6666666666666666,\"#ed7953\"],[0.7777777777777778,\"#fb9f3a\"],[0.8888888888888888,\"#fdca26\"],[1.0,\"#f0f921\"]]}],\"heatmap\":[{\"type\":\"heatmap\",\"colorbar\":{\"outlinewidth\":0,\"ticks\":\"\"},\"colorscale\":[[0.0,\"#0d0887\"],[0.1111111111111111,\"#46039f\"],[0.2222222222222222,\"#7201a8\"],[0.3333333333333333,\"#9c179e\"],[0.4444444444444444,\"#bd3786\"],[0.5555555555555556,\"#d8576b\"],[0.6666666666666666,\"#ed7953\"],[0.7777777777777778,\"#fb9f3a\"],[0.8888888888888888,\"#fdca26\"],[1.0,\"#f0f921\"]]}],\"heatmapgl\":[{\"type\":\"heatmapgl\",\"colorbar\":{\"outlinewidth\":0,\"ticks\":\"\"},\"colorscale\":[[0.0,\"#0d0887\"],[0.1111111111111111,\"#46039f\"],[0.2222222222222222,\"#7201a8\"],[0.3333333333333333,\"#9c179e\"],[0.4444444444444444,\"#bd3786\"],[0.5555555555555556,\"#d8576b\"],[0.6666666666666666,\"#ed7953\"],[0.7777777777777778,\"#fb9f3a\"],[0.8888888888888888,\"#fdca26\"],[1.0,\"#f0f921\"]]}],\"contourcarpet\":[{\"type\":\"contourcarpet\",\"colorbar\":{\"outlinewidth\":0,\"ticks\":\"\"}}],\"contour\":[{\"type\":\"contour\",\"colorbar\":{\"outlinewidth\":0,\"ticks\":\"\"},\"colorscale\":[[0.0,\"#0d0887\"],[0.1111111111111111,\"#46039f\"],[0.2222222222222222,\"#7201a8\"],[0.3333333333333333,\"#9c179e\"],[0.4444444444444444,\"#bd3786\"],[0.5555555555555556,\"#d8576b\"],[0.6666666666666666,\"#ed7953\"],[0.7777777777777778,\"#fb9f3a\"],[0.8888888888888888,\"#fdca26\"],[1.0,\"#f0f921\"]]}],\"surface\":[{\"type\":\"surface\",\"colorbar\":{\"outlinewidth\":0,\"ticks\":\"\"},\"colorscale\":[[0.0,\"#0d0887\"],[0.1111111111111111,\"#46039f\"],[0.2222222222222222,\"#7201a8\"],[0.3333333333333333,\"#9c179e\"],[0.4444444444444444,\"#bd3786\"],[0.5555555555555556,\"#d8576b\"],[0.6666666666666666,\"#ed7953\"],[0.7777777777777778,\"#fb9f3a\"],[0.8888888888888888,\"#fdca26\"],[1.0,\"#f0f921\"]]}],\"mesh3d\":[{\"type\":\"mesh3d\",\"colorbar\":{\"outlinewidth\":0,\"ticks\":\"\"}}],\"scatter\":[{\"fillpattern\":{\"fillmode\":\"overlay\",\"size\":10,\"solidity\":0.2},\"type\":\"scatter\"}],\"parcoords\":[{\"type\":\"parcoords\",\"line\":{\"colorbar\":{\"outlinewidth\":0,\"ticks\":\"\"}}}],\"scatterpolargl\":[{\"type\":\"scatterpolargl\",\"marker\":{\"colorbar\":{\"outlinewidth\":0,\"ticks\":\"\"}}}],\"bar\":[{\"error_x\":{\"color\":\"#2a3f5f\"},\"error_y\":{\"color\":\"#2a3f5f\"},\"marker\":{\"line\":{\"color\":\"#E5ECF6\",\"width\":0.5},\"pattern\":{\"fillmode\":\"overlay\",\"size\":10,\"solidity\":0.2}},\"type\":\"bar\"}],\"scattergeo\":[{\"type\":\"scattergeo\",\"marker\":{\"colorbar\":{\"outlinewidth\":0,\"ticks\":\"\"}}}],\"scatterpolar\":[{\"type\":\"scatterpolar\",\"marker\":{\"colorbar\":{\"outlinewidth\":0,\"ticks\":\"\"}}}],\"histogram\":[{\"marker\":{\"pattern\":{\"fillmode\":\"overlay\",\"size\":10,\"solidity\":0.2}},\"type\":\"histogram\"}],\"scattergl\":[{\"type\":\"scattergl\",\"marker\":{\"colorbar\":{\"outlinewidth\":0,\"ticks\":\"\"}}}],\"scatter3d\":[{\"type\":\"scatter3d\",\"line\":{\"colorbar\":{\"outlinewidth\":0,\"ticks\":\"\"}},\"marker\":{\"colorbar\":{\"outlinewidth\":0,\"ticks\":\"\"}}}],\"scattermapbox\":[{\"type\":\"scattermapbox\",\"marker\":{\"colorbar\":{\"outlinewidth\":0,\"ticks\":\"\"}}}],\"scatterternary\":[{\"type\":\"scatterternary\",\"marker\":{\"colorbar\":{\"outlinewidth\":0,\"ticks\":\"\"}}}],\"scattercarpet\":[{\"type\":\"scattercarpet\",\"marker\":{\"colorbar\":{\"outlinewidth\":0,\"ticks\":\"\"}}}],\"carpet\":[{\"aaxis\":{\"endlinecolor\":\"#2a3f5f\",\"gridcolor\":\"white\",\"linecolor\":\"white\",\"minorgridcolor\":\"white\",\"startlinecolor\":\"#2a3f5f\"},\"baxis\":{\"endlinecolor\":\"#2a3f5f\",\"gridcolor\":\"white\",\"linecolor\":\"white\",\"minorgridcolor\":\"white\",\"startlinecolor\":\"#2a3f5f\"},\"type\":\"carpet\"}],\"table\":[{\"cells\":{\"fill\":{\"color\":\"#EBF0F8\"},\"line\":{\"color\":\"white\"}},\"header\":{\"fill\":{\"color\":\"#C8D4E3\"},\"line\":{\"color\":\"white\"}},\"type\":\"table\"}],\"barpolar\":[{\"marker\":{\"line\":{\"color\":\"#E5ECF6\",\"width\":0.5},\"pattern\":{\"fillmode\":\"overlay\",\"size\":10,\"solidity\":0.2}},\"type\":\"barpolar\"}],\"pie\":[{\"automargin\":true,\"type\":\"pie\"}]},\"layout\":{\"autotypenumbers\":\"strict\",\"colorway\":[\"#636efa\",\"#EF553B\",\"#00cc96\",\"#ab63fa\",\"#FFA15A\",\"#19d3f3\",\"#FF6692\",\"#B6E880\",\"#FF97FF\",\"#FECB52\"],\"font\":{\"color\":\"#2a3f5f\"},\"hovermode\":\"closest\",\"hoverlabel\":{\"align\":\"left\"},\"paper_bgcolor\":\"white\",\"plot_bgcolor\":\"#E5ECF6\",\"polar\":{\"bgcolor\":\"#E5ECF6\",\"angularaxis\":{\"gridcolor\":\"white\",\"linecolor\":\"white\",\"ticks\":\"\"},\"radialaxis\":{\"gridcolor\":\"white\",\"linecolor\":\"white\",\"ticks\":\"\"}},\"ternary\":{\"bgcolor\":\"#E5ECF6\",\"aaxis\":{\"gridcolor\":\"white\",\"linecolor\":\"white\",\"ticks\":\"\"},\"baxis\":{\"gridcolor\":\"white\",\"linecolor\":\"white\",\"ticks\":\"\"},\"caxis\":{\"gridcolor\":\"white\",\"linecolor\":\"white\",\"ticks\":\"\"}},\"coloraxis\":{\"colorbar\":{\"outlinewidth\":0,\"ticks\":\"\"}},\"colorscale\":{\"sequential\":[[0.0,\"#0d0887\"],[0.1111111111111111,\"#46039f\"],[0.2222222222222222,\"#7201a8\"],[0.3333333333333333,\"#9c179e\"],[0.4444444444444444,\"#bd3786\"],[0.5555555555555556,\"#d8576b\"],[0.6666666666666666,\"#ed7953\"],[0.7777777777777778,\"#fb9f3a\"],[0.8888888888888888,\"#fdca26\"],[1.0,\"#f0f921\"]],\"sequentialminus\":[[0.0,\"#0d0887\"],[0.1111111111111111,\"#46039f\"],[0.2222222222222222,\"#7201a8\"],[0.3333333333333333,\"#9c179e\"],[0.4444444444444444,\"#bd3786\"],[0.5555555555555556,\"#d8576b\"],[0.6666666666666666,\"#ed7953\"],[0.7777777777777778,\"#fb9f3a\"],[0.8888888888888888,\"#fdca26\"],[1.0,\"#f0f921\"]],\"diverging\":[[0,\"#8e0152\"],[0.1,\"#c51b7d\"],[0.2,\"#de77ae\"],[0.3,\"#f1b6da\"],[0.4,\"#fde0ef\"],[0.5,\"#f7f7f7\"],[0.6,\"#e6f5d0\"],[0.7,\"#b8e186\"],[0.8,\"#7fbc41\"],[0.9,\"#4d9221\"],[1,\"#276419\"]]},\"xaxis\":{\"gridcolor\":\"white\",\"linecolor\":\"white\",\"ticks\":\"\",\"title\":{\"standoff\":15},\"zerolinecolor\":\"white\",\"automargin\":true,\"zerolinewidth\":2},\"yaxis\":{\"gridcolor\":\"white\",\"linecolor\":\"white\",\"ticks\":\"\",\"title\":{\"standoff\":15},\"zerolinecolor\":\"white\",\"automargin\":true,\"zerolinewidth\":2},\"scene\":{\"xaxis\":{\"backgroundcolor\":\"#E5ECF6\",\"gridcolor\":\"white\",\"linecolor\":\"white\",\"showbackground\":true,\"ticks\":\"\",\"zerolinecolor\":\"white\",\"gridwidth\":2},\"yaxis\":{\"backgroundcolor\":\"#E5ECF6\",\"gridcolor\":\"white\",\"linecolor\":\"white\",\"showbackground\":true,\"ticks\":\"\",\"zerolinecolor\":\"white\",\"gridwidth\":2},\"zaxis\":{\"backgroundcolor\":\"#E5ECF6\",\"gridcolor\":\"white\",\"linecolor\":\"white\",\"showbackground\":true,\"ticks\":\"\",\"zerolinecolor\":\"white\",\"gridwidth\":2}},\"shapedefaults\":{\"line\":{\"color\":\"#2a3f5f\"}},\"annotationdefaults\":{\"arrowcolor\":\"#2a3f5f\",\"arrowhead\":0,\"arrowwidth\":1},\"geo\":{\"bgcolor\":\"white\",\"landcolor\":\"#E5ECF6\",\"subunitcolor\":\"white\",\"showland\":true,\"showlakes\":true,\"lakecolor\":\"white\"},\"title\":{\"x\":0.05},\"mapbox\":{\"style\":\"light\"}}}},                        {\"responsive\": true}                    ).then(function(){\n",
              "                            \n",
              "var gd = document.getElementById('23610791-dc35-4bcc-a796-3255e5b5b3a1');\n",
              "var x = new MutationObserver(function (mutations, observer) {{\n",
              "        var display = window.getComputedStyle(gd).display;\n",
              "        if (!display || display === 'none') {{\n",
              "            console.log([gd, 'removed!']);\n",
              "            Plotly.purge(gd);\n",
              "            observer.disconnect();\n",
              "        }}\n",
              "}});\n",
              "\n",
              "// Listen for the removal of the full notebook cells\n",
              "var notebookContainer = gd.closest('#notebook-container');\n",
              "if (notebookContainer) {{\n",
              "    x.observe(notebookContainer, {childList: true});\n",
              "}}\n",
              "\n",
              "// Listen for the clearing of the current output cell\n",
              "var outputEl = gd.closest('.output');\n",
              "if (outputEl) {{\n",
              "    x.observe(outputEl, {childList: true});\n",
              "}}\n",
              "\n",
              "                        })                };                            </script>        </div>\n",
              "</body>\n",
              "</html>"
            ]
          },
          "metadata": {}
        }
      ]
    },
    {
      "cell_type": "code",
      "source": [
        "plot_slice(study).show()"
      ],
      "metadata": {
        "colab": {
          "base_uri": "https://localhost:8080/",
          "height": 542
        },
        "id": "qPHiqjiOsBwH",
        "outputId": "fd0ba1c7-f4ea-4de7-9ab3-b783f791cc31"
      },
      "execution_count": 17,
      "outputs": [
        {
          "output_type": "display_data",
          "data": {
            "text/html": [
              "<html>\n",
              "<head><meta charset=\"utf-8\" /></head>\n",
              "<body>\n",
              "    <div>            <script src=\"https://cdnjs.cloudflare.com/ajax/libs/mathjax/2.7.5/MathJax.js?config=TeX-AMS-MML_SVG\"></script><script type=\"text/javascript\">if (window.MathJax && window.MathJax.Hub && window.MathJax.Hub.Config) {window.MathJax.Hub.Config({SVG: {font: \"STIX-Web\"}});}</script>                <script type=\"text/javascript\">window.PlotlyConfig = {MathJaxConfig: 'local'};</script>\n",
              "        <script charset=\"utf-8\" src=\"https://cdn.plot.ly/plotly-2.35.2.min.js\"></script>                <div id=\"137c1a49-1710-4bd4-9210-d69b258be84f\" class=\"plotly-graph-div\" style=\"height:525px; width:100%;\"></div>            <script type=\"text/javascript\">                                    window.PLOTLYENV=window.PLOTLYENV || {};                                    if (document.getElementById(\"137c1a49-1710-4bd4-9210-d69b258be84f\")) {                    Plotly.newPlot(                        \"137c1a49-1710-4bd4-9210-d69b258be84f\",                        [{\"marker\":{\"color\":[0,1,2,3,4,5,6,7,8,9,10,11,12,13,14,15,16,17,18,19,20,21,22,23,24,25,26,27,28,29,30,31,32,33,34,35,36,37,38,39,40,41,42,43,44,45,46,47,48,49],\"colorbar\":{\"title\":{\"text\":\"Trial\"},\"x\":1.0,\"xpad\":40},\"colorscale\":[[0.0,\"rgb(247,251,255)\"],[0.125,\"rgb(222,235,247)\"],[0.25,\"rgb(198,219,239)\"],[0.375,\"rgb(158,202,225)\"],[0.5,\"rgb(107,174,214)\"],[0.625,\"rgb(66,146,198)\"],[0.75,\"rgb(33,113,181)\"],[0.875,\"rgb(8,81,156)\"],[1.0,\"rgb(8,48,107)\"]],\"line\":{\"color\":\"Grey\",\"width\":0.5},\"showscale\":true},\"mode\":\"markers\",\"name\":\"Feasible Trial\",\"showlegend\":false,\"x\":[12,28,11,17,15,20,22,28,21,29,25,30,26,26,28,24,28,18,18,15,23,18,18,15,14,16,12,20,13,20,16,18,19,13,11,17,22,10,16,19,14,18,17,19,21,15,21,17,30,18],\"y\":[0.7728119180633147,0.7746741154562384,0.7653631284916201,0.7709497206703911,0.7728119180633147,0.7728119180633147,0.7709497206703911,0.7802607076350093,0.7728119180633147,0.7690875232774674,0.7709497206703911,0.7746741154562384,0.7728119180633147,0.7690875232774674,0.7690875232774674,0.7746741154562384,0.7709497206703911,0.7783985102420856,0.7728119180633147,0.7672253258845437,0.7709497206703911,0.7783985102420856,0.7746741154562384,0.7858472998137803,0.7690875232774674,0.7765363128491621,0.7746741154562384,0.7709497206703911,0.7728119180633147,0.7690875232774674,0.7765363128491621,0.7783985102420856,0.7783985102420856,0.7690875232774674,0.7672253258845437,0.7765363128491621,0.7783985102420856,0.7709497206703911,0.7728119180633147,0.7728119180633147,0.7672253258845437,0.7821229050279329,0.7783985102420856,0.7746741154562383,0.7746741154562384,0.7746741154562384,0.7690875232774674,0.7690875232774674,0.7728119180633147,0.7728119180633147],\"type\":\"scatter\",\"xaxis\":\"x\",\"yaxis\":\"y\"},{\"marker\":{\"color\":[0,1,2,3,4,5,6,7,8,9,10,11,12,13,14,15,16,17,18,19,20,21,22,23,24,25,26,27,28,29,30,31,32,33,34,35,36,37,38,39,40,41,42,43,44,45,46,47,48,49],\"colorbar\":{\"title\":{\"text\":\"Trial\"},\"x\":1.0,\"xpad\":40},\"colorscale\":[[0.0,\"rgb(247,251,255)\"],[0.125,\"rgb(222,235,247)\"],[0.25,\"rgb(198,219,239)\"],[0.375,\"rgb(158,202,225)\"],[0.5,\"rgb(107,174,214)\"],[0.625,\"rgb(66,146,198)\"],[0.75,\"rgb(33,113,181)\"],[0.875,\"rgb(8,81,156)\"],[1.0,\"rgb(8,48,107)\"]],\"line\":{\"color\":\"Grey\",\"width\":0.5},\"showscale\":false},\"mode\":\"markers\",\"name\":\"Feasible Trial\",\"showlegend\":false,\"x\":[237,110,111,279,219,269,141,121,292,232,177,110,155,100,138,188,158,129,136,173,209,122,132,121,156,122,100,169,195,147,122,127,118,111,148,130,117,251,103,165,144,125,113,132,124,110,144,155,183,231],\"y\":[0.7728119180633147,0.7746741154562384,0.7653631284916201,0.7709497206703911,0.7728119180633147,0.7728119180633147,0.7709497206703911,0.7802607076350093,0.7728119180633147,0.7690875232774674,0.7709497206703911,0.7746741154562384,0.7728119180633147,0.7690875232774674,0.7690875232774674,0.7746741154562384,0.7709497206703911,0.7783985102420856,0.7728119180633147,0.7672253258845437,0.7709497206703911,0.7783985102420856,0.7746741154562384,0.7858472998137803,0.7690875232774674,0.7765363128491621,0.7746741154562384,0.7709497206703911,0.7728119180633147,0.7690875232774674,0.7765363128491621,0.7783985102420856,0.7783985102420856,0.7690875232774674,0.7672253258845437,0.7765363128491621,0.7783985102420856,0.7709497206703911,0.7728119180633147,0.7728119180633147,0.7672253258845437,0.7821229050279329,0.7783985102420856,0.7746741154562383,0.7746741154562384,0.7746741154562384,0.7690875232774674,0.7690875232774674,0.7728119180633147,0.7728119180633147],\"type\":\"scatter\",\"xaxis\":\"x2\",\"yaxis\":\"y2\"}],                        {\"template\":{\"data\":{\"histogram2dcontour\":[{\"type\":\"histogram2dcontour\",\"colorbar\":{\"outlinewidth\":0,\"ticks\":\"\"},\"colorscale\":[[0.0,\"#0d0887\"],[0.1111111111111111,\"#46039f\"],[0.2222222222222222,\"#7201a8\"],[0.3333333333333333,\"#9c179e\"],[0.4444444444444444,\"#bd3786\"],[0.5555555555555556,\"#d8576b\"],[0.6666666666666666,\"#ed7953\"],[0.7777777777777778,\"#fb9f3a\"],[0.8888888888888888,\"#fdca26\"],[1.0,\"#f0f921\"]]}],\"choropleth\":[{\"type\":\"choropleth\",\"colorbar\":{\"outlinewidth\":0,\"ticks\":\"\"}}],\"histogram2d\":[{\"type\":\"histogram2d\",\"colorbar\":{\"outlinewidth\":0,\"ticks\":\"\"},\"colorscale\":[[0.0,\"#0d0887\"],[0.1111111111111111,\"#46039f\"],[0.2222222222222222,\"#7201a8\"],[0.3333333333333333,\"#9c179e\"],[0.4444444444444444,\"#bd3786\"],[0.5555555555555556,\"#d8576b\"],[0.6666666666666666,\"#ed7953\"],[0.7777777777777778,\"#fb9f3a\"],[0.8888888888888888,\"#fdca26\"],[1.0,\"#f0f921\"]]}],\"heatmap\":[{\"type\":\"heatmap\",\"colorbar\":{\"outlinewidth\":0,\"ticks\":\"\"},\"colorscale\":[[0.0,\"#0d0887\"],[0.1111111111111111,\"#46039f\"],[0.2222222222222222,\"#7201a8\"],[0.3333333333333333,\"#9c179e\"],[0.4444444444444444,\"#bd3786\"],[0.5555555555555556,\"#d8576b\"],[0.6666666666666666,\"#ed7953\"],[0.7777777777777778,\"#fb9f3a\"],[0.8888888888888888,\"#fdca26\"],[1.0,\"#f0f921\"]]}],\"heatmapgl\":[{\"type\":\"heatmapgl\",\"colorbar\":{\"outlinewidth\":0,\"ticks\":\"\"},\"colorscale\":[[0.0,\"#0d0887\"],[0.1111111111111111,\"#46039f\"],[0.2222222222222222,\"#7201a8\"],[0.3333333333333333,\"#9c179e\"],[0.4444444444444444,\"#bd3786\"],[0.5555555555555556,\"#d8576b\"],[0.6666666666666666,\"#ed7953\"],[0.7777777777777778,\"#fb9f3a\"],[0.8888888888888888,\"#fdca26\"],[1.0,\"#f0f921\"]]}],\"contourcarpet\":[{\"type\":\"contourcarpet\",\"colorbar\":{\"outlinewidth\":0,\"ticks\":\"\"}}],\"contour\":[{\"type\":\"contour\",\"colorbar\":{\"outlinewidth\":0,\"ticks\":\"\"},\"colorscale\":[[0.0,\"#0d0887\"],[0.1111111111111111,\"#46039f\"],[0.2222222222222222,\"#7201a8\"],[0.3333333333333333,\"#9c179e\"],[0.4444444444444444,\"#bd3786\"],[0.5555555555555556,\"#d8576b\"],[0.6666666666666666,\"#ed7953\"],[0.7777777777777778,\"#fb9f3a\"],[0.8888888888888888,\"#fdca26\"],[1.0,\"#f0f921\"]]}],\"surface\":[{\"type\":\"surface\",\"colorbar\":{\"outlinewidth\":0,\"ticks\":\"\"},\"colorscale\":[[0.0,\"#0d0887\"],[0.1111111111111111,\"#46039f\"],[0.2222222222222222,\"#7201a8\"],[0.3333333333333333,\"#9c179e\"],[0.4444444444444444,\"#bd3786\"],[0.5555555555555556,\"#d8576b\"],[0.6666666666666666,\"#ed7953\"],[0.7777777777777778,\"#fb9f3a\"],[0.8888888888888888,\"#fdca26\"],[1.0,\"#f0f921\"]]}],\"mesh3d\":[{\"type\":\"mesh3d\",\"colorbar\":{\"outlinewidth\":0,\"ticks\":\"\"}}],\"scatter\":[{\"fillpattern\":{\"fillmode\":\"overlay\",\"size\":10,\"solidity\":0.2},\"type\":\"scatter\"}],\"parcoords\":[{\"type\":\"parcoords\",\"line\":{\"colorbar\":{\"outlinewidth\":0,\"ticks\":\"\"}}}],\"scatterpolargl\":[{\"type\":\"scatterpolargl\",\"marker\":{\"colorbar\":{\"outlinewidth\":0,\"ticks\":\"\"}}}],\"bar\":[{\"error_x\":{\"color\":\"#2a3f5f\"},\"error_y\":{\"color\":\"#2a3f5f\"},\"marker\":{\"line\":{\"color\":\"#E5ECF6\",\"width\":0.5},\"pattern\":{\"fillmode\":\"overlay\",\"size\":10,\"solidity\":0.2}},\"type\":\"bar\"}],\"scattergeo\":[{\"type\":\"scattergeo\",\"marker\":{\"colorbar\":{\"outlinewidth\":0,\"ticks\":\"\"}}}],\"scatterpolar\":[{\"type\":\"scatterpolar\",\"marker\":{\"colorbar\":{\"outlinewidth\":0,\"ticks\":\"\"}}}],\"histogram\":[{\"marker\":{\"pattern\":{\"fillmode\":\"overlay\",\"size\":10,\"solidity\":0.2}},\"type\":\"histogram\"}],\"scattergl\":[{\"type\":\"scattergl\",\"marker\":{\"colorbar\":{\"outlinewidth\":0,\"ticks\":\"\"}}}],\"scatter3d\":[{\"type\":\"scatter3d\",\"line\":{\"colorbar\":{\"outlinewidth\":0,\"ticks\":\"\"}},\"marker\":{\"colorbar\":{\"outlinewidth\":0,\"ticks\":\"\"}}}],\"scattermapbox\":[{\"type\":\"scattermapbox\",\"marker\":{\"colorbar\":{\"outlinewidth\":0,\"ticks\":\"\"}}}],\"scatterternary\":[{\"type\":\"scatterternary\",\"marker\":{\"colorbar\":{\"outlinewidth\":0,\"ticks\":\"\"}}}],\"scattercarpet\":[{\"type\":\"scattercarpet\",\"marker\":{\"colorbar\":{\"outlinewidth\":0,\"ticks\":\"\"}}}],\"carpet\":[{\"aaxis\":{\"endlinecolor\":\"#2a3f5f\",\"gridcolor\":\"white\",\"linecolor\":\"white\",\"minorgridcolor\":\"white\",\"startlinecolor\":\"#2a3f5f\"},\"baxis\":{\"endlinecolor\":\"#2a3f5f\",\"gridcolor\":\"white\",\"linecolor\":\"white\",\"minorgridcolor\":\"white\",\"startlinecolor\":\"#2a3f5f\"},\"type\":\"carpet\"}],\"table\":[{\"cells\":{\"fill\":{\"color\":\"#EBF0F8\"},\"line\":{\"color\":\"white\"}},\"header\":{\"fill\":{\"color\":\"#C8D4E3\"},\"line\":{\"color\":\"white\"}},\"type\":\"table\"}],\"barpolar\":[{\"marker\":{\"line\":{\"color\":\"#E5ECF6\",\"width\":0.5},\"pattern\":{\"fillmode\":\"overlay\",\"size\":10,\"solidity\":0.2}},\"type\":\"barpolar\"}],\"pie\":[{\"automargin\":true,\"type\":\"pie\"}]},\"layout\":{\"autotypenumbers\":\"strict\",\"colorway\":[\"#636efa\",\"#EF553B\",\"#00cc96\",\"#ab63fa\",\"#FFA15A\",\"#19d3f3\",\"#FF6692\",\"#B6E880\",\"#FF97FF\",\"#FECB52\"],\"font\":{\"color\":\"#2a3f5f\"},\"hovermode\":\"closest\",\"hoverlabel\":{\"align\":\"left\"},\"paper_bgcolor\":\"white\",\"plot_bgcolor\":\"#E5ECF6\",\"polar\":{\"bgcolor\":\"#E5ECF6\",\"angularaxis\":{\"gridcolor\":\"white\",\"linecolor\":\"white\",\"ticks\":\"\"},\"radialaxis\":{\"gridcolor\":\"white\",\"linecolor\":\"white\",\"ticks\":\"\"}},\"ternary\":{\"bgcolor\":\"#E5ECF6\",\"aaxis\":{\"gridcolor\":\"white\",\"linecolor\":\"white\",\"ticks\":\"\"},\"baxis\":{\"gridcolor\":\"white\",\"linecolor\":\"white\",\"ticks\":\"\"},\"caxis\":{\"gridcolor\":\"white\",\"linecolor\":\"white\",\"ticks\":\"\"}},\"coloraxis\":{\"colorbar\":{\"outlinewidth\":0,\"ticks\":\"\"}},\"colorscale\":{\"sequential\":[[0.0,\"#0d0887\"],[0.1111111111111111,\"#46039f\"],[0.2222222222222222,\"#7201a8\"],[0.3333333333333333,\"#9c179e\"],[0.4444444444444444,\"#bd3786\"],[0.5555555555555556,\"#d8576b\"],[0.6666666666666666,\"#ed7953\"],[0.7777777777777778,\"#fb9f3a\"],[0.8888888888888888,\"#fdca26\"],[1.0,\"#f0f921\"]],\"sequentialminus\":[[0.0,\"#0d0887\"],[0.1111111111111111,\"#46039f\"],[0.2222222222222222,\"#7201a8\"],[0.3333333333333333,\"#9c179e\"],[0.4444444444444444,\"#bd3786\"],[0.5555555555555556,\"#d8576b\"],[0.6666666666666666,\"#ed7953\"],[0.7777777777777778,\"#fb9f3a\"],[0.8888888888888888,\"#fdca26\"],[1.0,\"#f0f921\"]],\"diverging\":[[0,\"#8e0152\"],[0.1,\"#c51b7d\"],[0.2,\"#de77ae\"],[0.3,\"#f1b6da\"],[0.4,\"#fde0ef\"],[0.5,\"#f7f7f7\"],[0.6,\"#e6f5d0\"],[0.7,\"#b8e186\"],[0.8,\"#7fbc41\"],[0.9,\"#4d9221\"],[1,\"#276419\"]]},\"xaxis\":{\"gridcolor\":\"white\",\"linecolor\":\"white\",\"ticks\":\"\",\"title\":{\"standoff\":15},\"zerolinecolor\":\"white\",\"automargin\":true,\"zerolinewidth\":2},\"yaxis\":{\"gridcolor\":\"white\",\"linecolor\":\"white\",\"ticks\":\"\",\"title\":{\"standoff\":15},\"zerolinecolor\":\"white\",\"automargin\":true,\"zerolinewidth\":2},\"scene\":{\"xaxis\":{\"backgroundcolor\":\"#E5ECF6\",\"gridcolor\":\"white\",\"linecolor\":\"white\",\"showbackground\":true,\"ticks\":\"\",\"zerolinecolor\":\"white\",\"gridwidth\":2},\"yaxis\":{\"backgroundcolor\":\"#E5ECF6\",\"gridcolor\":\"white\",\"linecolor\":\"white\",\"showbackground\":true,\"ticks\":\"\",\"zerolinecolor\":\"white\",\"gridwidth\":2},\"zaxis\":{\"backgroundcolor\":\"#E5ECF6\",\"gridcolor\":\"white\",\"linecolor\":\"white\",\"showbackground\":true,\"ticks\":\"\",\"zerolinecolor\":\"white\",\"gridwidth\":2}},\"shapedefaults\":{\"line\":{\"color\":\"#2a3f5f\"}},\"annotationdefaults\":{\"arrowcolor\":\"#2a3f5f\",\"arrowhead\":0,\"arrowwidth\":1},\"geo\":{\"bgcolor\":\"white\",\"landcolor\":\"#E5ECF6\",\"subunitcolor\":\"white\",\"showland\":true,\"showlakes\":true,\"lakecolor\":\"white\"},\"title\":{\"x\":0.05},\"mapbox\":{\"style\":\"light\"}}},\"xaxis\":{\"anchor\":\"y\",\"domain\":[0.0,0.45],\"title\":{\"text\":\"max_depth\"}},\"yaxis\":{\"anchor\":\"x\",\"domain\":[0.0,1.0],\"title\":{\"text\":\"Objective Value\"}},\"xaxis2\":{\"anchor\":\"y2\",\"domain\":[0.55,1.0],\"title\":{\"text\":\"n_estimators\"}},\"yaxis2\":{\"anchor\":\"x2\",\"domain\":[0.0,1.0],\"matches\":\"y\",\"showticklabels\":false},\"title\":{\"text\":\"Slice Plot\"}},                        {\"responsive\": true}                    ).then(function(){\n",
              "                            \n",
              "var gd = document.getElementById('137c1a49-1710-4bd4-9210-d69b258be84f');\n",
              "var x = new MutationObserver(function (mutations, observer) {{\n",
              "        var display = window.getComputedStyle(gd).display;\n",
              "        if (!display || display === 'none') {{\n",
              "            console.log([gd, 'removed!']);\n",
              "            Plotly.purge(gd);\n",
              "            observer.disconnect();\n",
              "        }}\n",
              "}});\n",
              "\n",
              "// Listen for the removal of the full notebook cells\n",
              "var notebookContainer = gd.closest('#notebook-container');\n",
              "if (notebookContainer) {{\n",
              "    x.observe(notebookContainer, {childList: true});\n",
              "}}\n",
              "\n",
              "// Listen for the clearing of the current output cell\n",
              "var outputEl = gd.closest('.output');\n",
              "if (outputEl) {{\n",
              "    x.observe(outputEl, {childList: true});\n",
              "}}\n",
              "\n",
              "                        })                };                            </script>        </div>\n",
              "</body>\n",
              "</html>"
            ]
          },
          "metadata": {}
        }
      ]
    },
    {
      "cell_type": "code",
      "source": [
        "plot_contour(study).show()"
      ],
      "metadata": {
        "colab": {
          "base_uri": "https://localhost:8080/",
          "height": 542
        },
        "id": "NJXrX1c7sDlm",
        "outputId": "f4248411-766d-47e0-f8e6-d6d48701788a"
      },
      "execution_count": 18,
      "outputs": [
        {
          "output_type": "display_data",
          "data": {
            "text/html": [
              "<html>\n",
              "<head><meta charset=\"utf-8\" /></head>\n",
              "<body>\n",
              "    <div>            <script src=\"https://cdnjs.cloudflare.com/ajax/libs/mathjax/2.7.5/MathJax.js?config=TeX-AMS-MML_SVG\"></script><script type=\"text/javascript\">if (window.MathJax && window.MathJax.Hub && window.MathJax.Hub.Config) {window.MathJax.Hub.Config({SVG: {font: \"STIX-Web\"}});}</script>                <script type=\"text/javascript\">window.PlotlyConfig = {MathJaxConfig: 'local'};</script>\n",
              "        <script charset=\"utf-8\" src=\"https://cdn.plot.ly/plotly-2.35.2.min.js\"></script>                <div id=\"bc8f30ff-e608-4b6d-ba11-590978b320d1\" class=\"plotly-graph-div\" style=\"height:525px; width:100%;\"></div>            <script type=\"text/javascript\">                                    window.PLOTLYENV=window.PLOTLYENV || {};                                    if (document.getElementById(\"bc8f30ff-e608-4b6d-ba11-590978b320d1\")) {                    Plotly.newPlot(                        \"bc8f30ff-e608-4b6d-ba11-590978b320d1\",                        [{\"colorbar\":{\"title\":{\"text\":\"Objective Value\"}},\"colorscale\":[[0.0,\"rgb(247,251,255)\"],[0.125,\"rgb(222,235,247)\"],[0.25,\"rgb(198,219,239)\"],[0.375,\"rgb(158,202,225)\"],[0.5,\"rgb(107,174,214)\"],[0.625,\"rgb(66,146,198)\"],[0.75,\"rgb(33,113,181)\"],[0.875,\"rgb(8,81,156)\"],[1.0,\"rgb(8,48,107)\"]],\"connectgaps\":true,\"contours\":{\"coloring\":\"heatmap\"},\"hoverinfo\":\"none\",\"line\":{\"smoothing\":1.3},\"reversescale\":false,\"x\":[9.0,10,11,12,13,14,15,16,17,18,19,20,21,22,23,24,25,26,28,29,30,31.0],\"y\":[90.4,100,103,110,111,113,117,118,121,122,124,125,127,129,130,132,136,138,141,144,147,148,155,156,158,165,169,173,177,183,188,195,209,219,231,232,237,251,269,279,292,301.6],\"z\":[[null,null,null,null,null,null,null,null,null,null,null,null,null,null,null,null,null,null,null,null,null,null],[null,null,null,0.7746741154562384,null,null,null,null,null,null,null,null,null,null,null,null,null,0.7690875232774674,null,null,null,null],[null,null,null,null,null,null,null,0.7728119180633147,null,null,null,null,null,null,null,null,null,null,null,null,null,null],[null,null,null,null,null,null,0.7746741154562384,null,null,null,null,null,null,null,null,null,null,null,0.7746741154562384,null,0.7746741154562384,null],[null,null,0.7653631284916201,null,0.7690875232774674,null,null,null,null,null,null,null,null,null,null,null,null,null,null,null,null,null],[null,null,null,null,null,null,null,null,0.7783985102420856,null,null,null,null,null,null,null,null,null,null,null,null,null],[null,null,null,null,null,null,null,null,null,null,null,null,null,0.7783985102420856,null,null,null,null,null,null,null,null],[null,null,null,null,null,null,null,null,null,null,0.7783985102420856,null,null,null,null,null,null,null,null,null,null,null],[null,null,null,null,null,null,0.7858472998137803,null,null,null,null,null,null,null,null,null,null,null,0.7802607076350093,null,null,null],[null,null,null,null,null,null,null,0.7765363128491621,null,0.7783985102420856,null,null,null,null,null,null,null,null,null,null,null,null],[null,null,null,null,null,null,null,null,null,null,null,null,0.7746741154562384,null,null,null,null,null,null,null,null,null],[null,null,null,null,null,null,null,null,null,0.7821229050279329,null,null,null,null,null,null,null,null,null,null,null,null],[null,null,null,null,null,null,null,null,null,0.7783985102420856,null,null,null,null,null,null,null,null,null,null,null,null],[null,null,null,null,null,null,null,null,null,0.7783985102420856,null,null,null,null,null,null,null,null,null,null,null,null],[null,null,null,null,null,null,null,null,0.7765363128491621,null,null,null,null,null,null,null,null,null,null,null,null,null],[null,null,null,null,null,null,null,null,null,0.7746741154562384,0.7746741154562383,null,null,null,null,null,null,null,null,null,null,null],[null,null,null,null,null,null,null,null,null,0.7728119180633147,null,null,null,null,null,null,null,null,null,null,null,null],[null,null,null,null,null,null,null,null,null,null,null,null,null,null,null,null,null,null,0.7690875232774674,null,null,null],[null,null,null,null,null,null,null,null,null,null,null,null,null,0.7709497206703911,null,null,null,null,null,null,null,null],[null,null,null,null,null,0.7672253258845437,null,null,null,null,null,null,0.7690875232774674,null,null,null,null,null,null,null,null,null],[null,null,null,null,null,null,null,null,null,null,null,0.7690875232774674,null,null,null,null,null,null,null,null,null,null],[null,null,0.7672253258845437,null,null,null,null,null,null,null,null,null,null,null,null,null,null,null,null,null,null,null],[null,null,null,null,null,null,null,null,0.7690875232774674,null,null,null,null,null,null,null,null,0.7728119180633147,null,null,null,null],[null,null,null,null,null,0.7690875232774674,null,null,null,null,null,null,null,null,null,null,null,null,null,null,null,null],[null,null,null,null,null,null,null,null,null,null,null,null,null,null,null,null,null,null,0.7709497206703911,null,null,null],[null,null,null,null,null,null,null,null,null,null,0.7728119180633147,null,null,null,null,null,null,null,null,null,null,null],[null,null,null,null,null,null,null,null,null,null,null,0.7709497206703911,null,null,null,null,null,null,null,null,null,null],[null,null,null,null,null,null,0.7672253258845437,null,null,null,null,null,null,null,null,null,null,null,null,null,null,null],[null,null,null,null,null,null,null,null,null,null,null,null,null,null,null,null,0.7709497206703911,null,null,null,null,null],[null,null,null,null,null,null,null,null,null,null,null,null,null,null,null,null,null,null,null,null,0.7728119180633147,null],[null,null,null,null,null,null,null,null,null,null,null,null,null,null,null,0.7746741154562384,null,null,null,null,null,null],[null,null,null,null,0.7728119180633147,null,null,null,null,null,null,null,null,null,null,null,null,null,null,null,null,null],[null,null,null,null,null,null,null,null,null,null,null,null,null,null,0.7709497206703911,null,null,null,null,null,null,null],[null,null,null,null,null,null,0.7728119180633147,null,null,null,null,null,null,null,null,null,null,null,null,null,null,null],[null,null,null,null,null,null,null,null,null,0.7728119180633147,null,null,null,null,null,null,null,null,null,null,null,null],[null,null,null,null,null,null,null,null,null,null,null,null,null,null,null,null,null,null,null,0.7690875232774674,null,null],[null,null,null,0.7728119180633147,null,null,null,null,null,null,null,null,null,null,null,null,null,null,null,null,null,null],[null,0.7709497206703911,null,null,null,null,null,null,null,null,null,null,null,null,null,null,null,null,null,null,null,null],[null,null,null,null,null,null,null,null,null,null,null,0.7728119180633147,null,null,null,null,null,null,null,null,null,null],[null,null,null,null,null,null,null,null,0.7709497206703911,null,null,null,null,null,null,null,null,null,null,null,null,null],[null,null,null,null,null,null,null,null,null,null,null,null,0.7728119180633147,null,null,null,null,null,null,null,null,null],[null,null,null,null,null,null,null,null,null,null,null,null,null,null,null,null,null,null,null,null,null,null]],\"type\":\"contour\"},{\"marker\":{\"color\":\"black\",\"line\":{\"color\":\"Gray\",\"width\":2.0}},\"mode\":\"markers\",\"name\":\"Feasible Trial\",\"showlegend\":false,\"x\":[12,28,11,17,15,20,22,28,21,29,25,30,26,26,28,24,28,18,18,15,23,18,18,15,14,16,12,20,13,20,16,18,19,13,11,17,22,10,16,19,14,18,17,19,21,15,21,17,30,18],\"y\":[237,110,111,279,219,269,141,121,292,232,177,110,155,100,138,188,158,129,136,173,209,122,132,121,156,122,100,169,195,147,122,127,118,111,148,130,117,251,103,165,144,125,113,132,124,110,144,155,183,231],\"type\":\"scatter\"},{\"marker\":{\"color\":\"#cccccc\",\"line\":{\"color\":\"Gray\",\"width\":2.0}},\"mode\":\"markers\",\"name\":\"Infeasible Trial\",\"showlegend\":false,\"x\":[],\"y\":[],\"type\":\"scatter\"}],                        {\"title\":{\"text\":\"Contour Plot\"},\"template\":{\"data\":{\"histogram2dcontour\":[{\"type\":\"histogram2dcontour\",\"colorbar\":{\"outlinewidth\":0,\"ticks\":\"\"},\"colorscale\":[[0.0,\"#0d0887\"],[0.1111111111111111,\"#46039f\"],[0.2222222222222222,\"#7201a8\"],[0.3333333333333333,\"#9c179e\"],[0.4444444444444444,\"#bd3786\"],[0.5555555555555556,\"#d8576b\"],[0.6666666666666666,\"#ed7953\"],[0.7777777777777778,\"#fb9f3a\"],[0.8888888888888888,\"#fdca26\"],[1.0,\"#f0f921\"]]}],\"choropleth\":[{\"type\":\"choropleth\",\"colorbar\":{\"outlinewidth\":0,\"ticks\":\"\"}}],\"histogram2d\":[{\"type\":\"histogram2d\",\"colorbar\":{\"outlinewidth\":0,\"ticks\":\"\"},\"colorscale\":[[0.0,\"#0d0887\"],[0.1111111111111111,\"#46039f\"],[0.2222222222222222,\"#7201a8\"],[0.3333333333333333,\"#9c179e\"],[0.4444444444444444,\"#bd3786\"],[0.5555555555555556,\"#d8576b\"],[0.6666666666666666,\"#ed7953\"],[0.7777777777777778,\"#fb9f3a\"],[0.8888888888888888,\"#fdca26\"],[1.0,\"#f0f921\"]]}],\"heatmap\":[{\"type\":\"heatmap\",\"colorbar\":{\"outlinewidth\":0,\"ticks\":\"\"},\"colorscale\":[[0.0,\"#0d0887\"],[0.1111111111111111,\"#46039f\"],[0.2222222222222222,\"#7201a8\"],[0.3333333333333333,\"#9c179e\"],[0.4444444444444444,\"#bd3786\"],[0.5555555555555556,\"#d8576b\"],[0.6666666666666666,\"#ed7953\"],[0.7777777777777778,\"#fb9f3a\"],[0.8888888888888888,\"#fdca26\"],[1.0,\"#f0f921\"]]}],\"heatmapgl\":[{\"type\":\"heatmapgl\",\"colorbar\":{\"outlinewidth\":0,\"ticks\":\"\"},\"colorscale\":[[0.0,\"#0d0887\"],[0.1111111111111111,\"#46039f\"],[0.2222222222222222,\"#7201a8\"],[0.3333333333333333,\"#9c179e\"],[0.4444444444444444,\"#bd3786\"],[0.5555555555555556,\"#d8576b\"],[0.6666666666666666,\"#ed7953\"],[0.7777777777777778,\"#fb9f3a\"],[0.8888888888888888,\"#fdca26\"],[1.0,\"#f0f921\"]]}],\"contourcarpet\":[{\"type\":\"contourcarpet\",\"colorbar\":{\"outlinewidth\":0,\"ticks\":\"\"}}],\"contour\":[{\"type\":\"contour\",\"colorbar\":{\"outlinewidth\":0,\"ticks\":\"\"},\"colorscale\":[[0.0,\"#0d0887\"],[0.1111111111111111,\"#46039f\"],[0.2222222222222222,\"#7201a8\"],[0.3333333333333333,\"#9c179e\"],[0.4444444444444444,\"#bd3786\"],[0.5555555555555556,\"#d8576b\"],[0.6666666666666666,\"#ed7953\"],[0.7777777777777778,\"#fb9f3a\"],[0.8888888888888888,\"#fdca26\"],[1.0,\"#f0f921\"]]}],\"surface\":[{\"type\":\"surface\",\"colorbar\":{\"outlinewidth\":0,\"ticks\":\"\"},\"colorscale\":[[0.0,\"#0d0887\"],[0.1111111111111111,\"#46039f\"],[0.2222222222222222,\"#7201a8\"],[0.3333333333333333,\"#9c179e\"],[0.4444444444444444,\"#bd3786\"],[0.5555555555555556,\"#d8576b\"],[0.6666666666666666,\"#ed7953\"],[0.7777777777777778,\"#fb9f3a\"],[0.8888888888888888,\"#fdca26\"],[1.0,\"#f0f921\"]]}],\"mesh3d\":[{\"type\":\"mesh3d\",\"colorbar\":{\"outlinewidth\":0,\"ticks\":\"\"}}],\"scatter\":[{\"fillpattern\":{\"fillmode\":\"overlay\",\"size\":10,\"solidity\":0.2},\"type\":\"scatter\"}],\"parcoords\":[{\"type\":\"parcoords\",\"line\":{\"colorbar\":{\"outlinewidth\":0,\"ticks\":\"\"}}}],\"scatterpolargl\":[{\"type\":\"scatterpolargl\",\"marker\":{\"colorbar\":{\"outlinewidth\":0,\"ticks\":\"\"}}}],\"bar\":[{\"error_x\":{\"color\":\"#2a3f5f\"},\"error_y\":{\"color\":\"#2a3f5f\"},\"marker\":{\"line\":{\"color\":\"#E5ECF6\",\"width\":0.5},\"pattern\":{\"fillmode\":\"overlay\",\"size\":10,\"solidity\":0.2}},\"type\":\"bar\"}],\"scattergeo\":[{\"type\":\"scattergeo\",\"marker\":{\"colorbar\":{\"outlinewidth\":0,\"ticks\":\"\"}}}],\"scatterpolar\":[{\"type\":\"scatterpolar\",\"marker\":{\"colorbar\":{\"outlinewidth\":0,\"ticks\":\"\"}}}],\"histogram\":[{\"marker\":{\"pattern\":{\"fillmode\":\"overlay\",\"size\":10,\"solidity\":0.2}},\"type\":\"histogram\"}],\"scattergl\":[{\"type\":\"scattergl\",\"marker\":{\"colorbar\":{\"outlinewidth\":0,\"ticks\":\"\"}}}],\"scatter3d\":[{\"type\":\"scatter3d\",\"line\":{\"colorbar\":{\"outlinewidth\":0,\"ticks\":\"\"}},\"marker\":{\"colorbar\":{\"outlinewidth\":0,\"ticks\":\"\"}}}],\"scattermapbox\":[{\"type\":\"scattermapbox\",\"marker\":{\"colorbar\":{\"outlinewidth\":0,\"ticks\":\"\"}}}],\"scatterternary\":[{\"type\":\"scatterternary\",\"marker\":{\"colorbar\":{\"outlinewidth\":0,\"ticks\":\"\"}}}],\"scattercarpet\":[{\"type\":\"scattercarpet\",\"marker\":{\"colorbar\":{\"outlinewidth\":0,\"ticks\":\"\"}}}],\"carpet\":[{\"aaxis\":{\"endlinecolor\":\"#2a3f5f\",\"gridcolor\":\"white\",\"linecolor\":\"white\",\"minorgridcolor\":\"white\",\"startlinecolor\":\"#2a3f5f\"},\"baxis\":{\"endlinecolor\":\"#2a3f5f\",\"gridcolor\":\"white\",\"linecolor\":\"white\",\"minorgridcolor\":\"white\",\"startlinecolor\":\"#2a3f5f\"},\"type\":\"carpet\"}],\"table\":[{\"cells\":{\"fill\":{\"color\":\"#EBF0F8\"},\"line\":{\"color\":\"white\"}},\"header\":{\"fill\":{\"color\":\"#C8D4E3\"},\"line\":{\"color\":\"white\"}},\"type\":\"table\"}],\"barpolar\":[{\"marker\":{\"line\":{\"color\":\"#E5ECF6\",\"width\":0.5},\"pattern\":{\"fillmode\":\"overlay\",\"size\":10,\"solidity\":0.2}},\"type\":\"barpolar\"}],\"pie\":[{\"automargin\":true,\"type\":\"pie\"}]},\"layout\":{\"autotypenumbers\":\"strict\",\"colorway\":[\"#636efa\",\"#EF553B\",\"#00cc96\",\"#ab63fa\",\"#FFA15A\",\"#19d3f3\",\"#FF6692\",\"#B6E880\",\"#FF97FF\",\"#FECB52\"],\"font\":{\"color\":\"#2a3f5f\"},\"hovermode\":\"closest\",\"hoverlabel\":{\"align\":\"left\"},\"paper_bgcolor\":\"white\",\"plot_bgcolor\":\"#E5ECF6\",\"polar\":{\"bgcolor\":\"#E5ECF6\",\"angularaxis\":{\"gridcolor\":\"white\",\"linecolor\":\"white\",\"ticks\":\"\"},\"radialaxis\":{\"gridcolor\":\"white\",\"linecolor\":\"white\",\"ticks\":\"\"}},\"ternary\":{\"bgcolor\":\"#E5ECF6\",\"aaxis\":{\"gridcolor\":\"white\",\"linecolor\":\"white\",\"ticks\":\"\"},\"baxis\":{\"gridcolor\":\"white\",\"linecolor\":\"white\",\"ticks\":\"\"},\"caxis\":{\"gridcolor\":\"white\",\"linecolor\":\"white\",\"ticks\":\"\"}},\"coloraxis\":{\"colorbar\":{\"outlinewidth\":0,\"ticks\":\"\"}},\"colorscale\":{\"sequential\":[[0.0,\"#0d0887\"],[0.1111111111111111,\"#46039f\"],[0.2222222222222222,\"#7201a8\"],[0.3333333333333333,\"#9c179e\"],[0.4444444444444444,\"#bd3786\"],[0.5555555555555556,\"#d8576b\"],[0.6666666666666666,\"#ed7953\"],[0.7777777777777778,\"#fb9f3a\"],[0.8888888888888888,\"#fdca26\"],[1.0,\"#f0f921\"]],\"sequentialminus\":[[0.0,\"#0d0887\"],[0.1111111111111111,\"#46039f\"],[0.2222222222222222,\"#7201a8\"],[0.3333333333333333,\"#9c179e\"],[0.4444444444444444,\"#bd3786\"],[0.5555555555555556,\"#d8576b\"],[0.6666666666666666,\"#ed7953\"],[0.7777777777777778,\"#fb9f3a\"],[0.8888888888888888,\"#fdca26\"],[1.0,\"#f0f921\"]],\"diverging\":[[0,\"#8e0152\"],[0.1,\"#c51b7d\"],[0.2,\"#de77ae\"],[0.3,\"#f1b6da\"],[0.4,\"#fde0ef\"],[0.5,\"#f7f7f7\"],[0.6,\"#e6f5d0\"],[0.7,\"#b8e186\"],[0.8,\"#7fbc41\"],[0.9,\"#4d9221\"],[1,\"#276419\"]]},\"xaxis\":{\"gridcolor\":\"white\",\"linecolor\":\"white\",\"ticks\":\"\",\"title\":{\"standoff\":15},\"zerolinecolor\":\"white\",\"automargin\":true,\"zerolinewidth\":2},\"yaxis\":{\"gridcolor\":\"white\",\"linecolor\":\"white\",\"ticks\":\"\",\"title\":{\"standoff\":15},\"zerolinecolor\":\"white\",\"automargin\":true,\"zerolinewidth\":2},\"scene\":{\"xaxis\":{\"backgroundcolor\":\"#E5ECF6\",\"gridcolor\":\"white\",\"linecolor\":\"white\",\"showbackground\":true,\"ticks\":\"\",\"zerolinecolor\":\"white\",\"gridwidth\":2},\"yaxis\":{\"backgroundcolor\":\"#E5ECF6\",\"gridcolor\":\"white\",\"linecolor\":\"white\",\"showbackground\":true,\"ticks\":\"\",\"zerolinecolor\":\"white\",\"gridwidth\":2},\"zaxis\":{\"backgroundcolor\":\"#E5ECF6\",\"gridcolor\":\"white\",\"linecolor\":\"white\",\"showbackground\":true,\"ticks\":\"\",\"zerolinecolor\":\"white\",\"gridwidth\":2}},\"shapedefaults\":{\"line\":{\"color\":\"#2a3f5f\"}},\"annotationdefaults\":{\"arrowcolor\":\"#2a3f5f\",\"arrowhead\":0,\"arrowwidth\":1},\"geo\":{\"bgcolor\":\"white\",\"landcolor\":\"#E5ECF6\",\"subunitcolor\":\"white\",\"showland\":true,\"showlakes\":true,\"lakecolor\":\"white\"},\"title\":{\"x\":0.05},\"mapbox\":{\"style\":\"light\"}}},\"xaxis\":{\"title\":{\"text\":\"max_depth\"},\"range\":[9.0,31.0]},\"yaxis\":{\"title\":{\"text\":\"n_estimators\"},\"range\":[90.4,301.6]}},                        {\"responsive\": true}                    ).then(function(){\n",
              "                            \n",
              "var gd = document.getElementById('bc8f30ff-e608-4b6d-ba11-590978b320d1');\n",
              "var x = new MutationObserver(function (mutations, observer) {{\n",
              "        var display = window.getComputedStyle(gd).display;\n",
              "        if (!display || display === 'none') {{\n",
              "            console.log([gd, 'removed!']);\n",
              "            Plotly.purge(gd);\n",
              "            observer.disconnect();\n",
              "        }}\n",
              "}});\n",
              "\n",
              "// Listen for the removal of the full notebook cells\n",
              "var notebookContainer = gd.closest('#notebook-container');\n",
              "if (notebookContainer) {{\n",
              "    x.observe(notebookContainer, {childList: true});\n",
              "}}\n",
              "\n",
              "// Listen for the clearing of the current output cell\n",
              "var outputEl = gd.closest('.output');\n",
              "if (outputEl) {{\n",
              "    x.observe(outputEl, {childList: true});\n",
              "}}\n",
              "\n",
              "                        })                };                            </script>        </div>\n",
              "</body>\n",
              "</html>"
            ]
          },
          "metadata": {}
        }
      ]
    },
    {
      "cell_type": "code",
      "source": [
        "plot_param_importances(study).show()"
      ],
      "metadata": {
        "colab": {
          "base_uri": "https://localhost:8080/",
          "height": 542
        },
        "id": "hWFv8oztsFDc",
        "outputId": "78856132-8319-43dc-f150-d0263b069ed3"
      },
      "execution_count": 19,
      "outputs": [
        {
          "output_type": "display_data",
          "data": {
            "text/html": [
              "<html>\n",
              "<head><meta charset=\"utf-8\" /></head>\n",
              "<body>\n",
              "    <div>            <script src=\"https://cdnjs.cloudflare.com/ajax/libs/mathjax/2.7.5/MathJax.js?config=TeX-AMS-MML_SVG\"></script><script type=\"text/javascript\">if (window.MathJax && window.MathJax.Hub && window.MathJax.Hub.Config) {window.MathJax.Hub.Config({SVG: {font: \"STIX-Web\"}});}</script>                <script type=\"text/javascript\">window.PlotlyConfig = {MathJaxConfig: 'local'};</script>\n",
              "        <script charset=\"utf-8\" src=\"https://cdn.plot.ly/plotly-2.35.2.min.js\"></script>                <div id=\"3c75aaad-91d7-4c2a-bf9f-88f5f6bf6f5b\" class=\"plotly-graph-div\" style=\"height:525px; width:100%;\"></div>            <script type=\"text/javascript\">                                    window.PLOTLYENV=window.PLOTLYENV || {};                                    if (document.getElementById(\"3c75aaad-91d7-4c2a-bf9f-88f5f6bf6f5b\")) {                    Plotly.newPlot(                        \"3c75aaad-91d7-4c2a-bf9f-88f5f6bf6f5b\",                        [{\"cliponaxis\":false,\"hovertemplate\":[\"max_depth (IntDistribution): 0.12738356793809882\\u003cextra\\u003e\\u003c\\u002fextra\\u003e\",\"n_estimators (IntDistribution): 0.8726164320619012\\u003cextra\\u003e\\u003c\\u002fextra\\u003e\"],\"name\":\"Objective Value\",\"orientation\":\"h\",\"text\":[\"0.13\",\"0.87\"],\"textposition\":\"outside\",\"x\":[0.12738356793809882,0.8726164320619012],\"y\":[\"max_depth\",\"n_estimators\"],\"type\":\"bar\"}],                        {\"title\":{\"text\":\"Hyperparameter Importances\"},\"xaxis\":{\"title\":{\"text\":\"Hyperparameter Importance\"}},\"yaxis\":{\"title\":{\"text\":\"Hyperparameter\"}},\"template\":{\"data\":{\"histogram2dcontour\":[{\"type\":\"histogram2dcontour\",\"colorbar\":{\"outlinewidth\":0,\"ticks\":\"\"},\"colorscale\":[[0.0,\"#0d0887\"],[0.1111111111111111,\"#46039f\"],[0.2222222222222222,\"#7201a8\"],[0.3333333333333333,\"#9c179e\"],[0.4444444444444444,\"#bd3786\"],[0.5555555555555556,\"#d8576b\"],[0.6666666666666666,\"#ed7953\"],[0.7777777777777778,\"#fb9f3a\"],[0.8888888888888888,\"#fdca26\"],[1.0,\"#f0f921\"]]}],\"choropleth\":[{\"type\":\"choropleth\",\"colorbar\":{\"outlinewidth\":0,\"ticks\":\"\"}}],\"histogram2d\":[{\"type\":\"histogram2d\",\"colorbar\":{\"outlinewidth\":0,\"ticks\":\"\"},\"colorscale\":[[0.0,\"#0d0887\"],[0.1111111111111111,\"#46039f\"],[0.2222222222222222,\"#7201a8\"],[0.3333333333333333,\"#9c179e\"],[0.4444444444444444,\"#bd3786\"],[0.5555555555555556,\"#d8576b\"],[0.6666666666666666,\"#ed7953\"],[0.7777777777777778,\"#fb9f3a\"],[0.8888888888888888,\"#fdca26\"],[1.0,\"#f0f921\"]]}],\"heatmap\":[{\"type\":\"heatmap\",\"colorbar\":{\"outlinewidth\":0,\"ticks\":\"\"},\"colorscale\":[[0.0,\"#0d0887\"],[0.1111111111111111,\"#46039f\"],[0.2222222222222222,\"#7201a8\"],[0.3333333333333333,\"#9c179e\"],[0.4444444444444444,\"#bd3786\"],[0.5555555555555556,\"#d8576b\"],[0.6666666666666666,\"#ed7953\"],[0.7777777777777778,\"#fb9f3a\"],[0.8888888888888888,\"#fdca26\"],[1.0,\"#f0f921\"]]}],\"heatmapgl\":[{\"type\":\"heatmapgl\",\"colorbar\":{\"outlinewidth\":0,\"ticks\":\"\"},\"colorscale\":[[0.0,\"#0d0887\"],[0.1111111111111111,\"#46039f\"],[0.2222222222222222,\"#7201a8\"],[0.3333333333333333,\"#9c179e\"],[0.4444444444444444,\"#bd3786\"],[0.5555555555555556,\"#d8576b\"],[0.6666666666666666,\"#ed7953\"],[0.7777777777777778,\"#fb9f3a\"],[0.8888888888888888,\"#fdca26\"],[1.0,\"#f0f921\"]]}],\"contourcarpet\":[{\"type\":\"contourcarpet\",\"colorbar\":{\"outlinewidth\":0,\"ticks\":\"\"}}],\"contour\":[{\"type\":\"contour\",\"colorbar\":{\"outlinewidth\":0,\"ticks\":\"\"},\"colorscale\":[[0.0,\"#0d0887\"],[0.1111111111111111,\"#46039f\"],[0.2222222222222222,\"#7201a8\"],[0.3333333333333333,\"#9c179e\"],[0.4444444444444444,\"#bd3786\"],[0.5555555555555556,\"#d8576b\"],[0.6666666666666666,\"#ed7953\"],[0.7777777777777778,\"#fb9f3a\"],[0.8888888888888888,\"#fdca26\"],[1.0,\"#f0f921\"]]}],\"surface\":[{\"type\":\"surface\",\"colorbar\":{\"outlinewidth\":0,\"ticks\":\"\"},\"colorscale\":[[0.0,\"#0d0887\"],[0.1111111111111111,\"#46039f\"],[0.2222222222222222,\"#7201a8\"],[0.3333333333333333,\"#9c179e\"],[0.4444444444444444,\"#bd3786\"],[0.5555555555555556,\"#d8576b\"],[0.6666666666666666,\"#ed7953\"],[0.7777777777777778,\"#fb9f3a\"],[0.8888888888888888,\"#fdca26\"],[1.0,\"#f0f921\"]]}],\"mesh3d\":[{\"type\":\"mesh3d\",\"colorbar\":{\"outlinewidth\":0,\"ticks\":\"\"}}],\"scatter\":[{\"fillpattern\":{\"fillmode\":\"overlay\",\"size\":10,\"solidity\":0.2},\"type\":\"scatter\"}],\"parcoords\":[{\"type\":\"parcoords\",\"line\":{\"colorbar\":{\"outlinewidth\":0,\"ticks\":\"\"}}}],\"scatterpolargl\":[{\"type\":\"scatterpolargl\",\"marker\":{\"colorbar\":{\"outlinewidth\":0,\"ticks\":\"\"}}}],\"bar\":[{\"error_x\":{\"color\":\"#2a3f5f\"},\"error_y\":{\"color\":\"#2a3f5f\"},\"marker\":{\"line\":{\"color\":\"#E5ECF6\",\"width\":0.5},\"pattern\":{\"fillmode\":\"overlay\",\"size\":10,\"solidity\":0.2}},\"type\":\"bar\"}],\"scattergeo\":[{\"type\":\"scattergeo\",\"marker\":{\"colorbar\":{\"outlinewidth\":0,\"ticks\":\"\"}}}],\"scatterpolar\":[{\"type\":\"scatterpolar\",\"marker\":{\"colorbar\":{\"outlinewidth\":0,\"ticks\":\"\"}}}],\"histogram\":[{\"marker\":{\"pattern\":{\"fillmode\":\"overlay\",\"size\":10,\"solidity\":0.2}},\"type\":\"histogram\"}],\"scattergl\":[{\"type\":\"scattergl\",\"marker\":{\"colorbar\":{\"outlinewidth\":0,\"ticks\":\"\"}}}],\"scatter3d\":[{\"type\":\"scatter3d\",\"line\":{\"colorbar\":{\"outlinewidth\":0,\"ticks\":\"\"}},\"marker\":{\"colorbar\":{\"outlinewidth\":0,\"ticks\":\"\"}}}],\"scattermapbox\":[{\"type\":\"scattermapbox\",\"marker\":{\"colorbar\":{\"outlinewidth\":0,\"ticks\":\"\"}}}],\"scatterternary\":[{\"type\":\"scatterternary\",\"marker\":{\"colorbar\":{\"outlinewidth\":0,\"ticks\":\"\"}}}],\"scattercarpet\":[{\"type\":\"scattercarpet\",\"marker\":{\"colorbar\":{\"outlinewidth\":0,\"ticks\":\"\"}}}],\"carpet\":[{\"aaxis\":{\"endlinecolor\":\"#2a3f5f\",\"gridcolor\":\"white\",\"linecolor\":\"white\",\"minorgridcolor\":\"white\",\"startlinecolor\":\"#2a3f5f\"},\"baxis\":{\"endlinecolor\":\"#2a3f5f\",\"gridcolor\":\"white\",\"linecolor\":\"white\",\"minorgridcolor\":\"white\",\"startlinecolor\":\"#2a3f5f\"},\"type\":\"carpet\"}],\"table\":[{\"cells\":{\"fill\":{\"color\":\"#EBF0F8\"},\"line\":{\"color\":\"white\"}},\"header\":{\"fill\":{\"color\":\"#C8D4E3\"},\"line\":{\"color\":\"white\"}},\"type\":\"table\"}],\"barpolar\":[{\"marker\":{\"line\":{\"color\":\"#E5ECF6\",\"width\":0.5},\"pattern\":{\"fillmode\":\"overlay\",\"size\":10,\"solidity\":0.2}},\"type\":\"barpolar\"}],\"pie\":[{\"automargin\":true,\"type\":\"pie\"}]},\"layout\":{\"autotypenumbers\":\"strict\",\"colorway\":[\"#636efa\",\"#EF553B\",\"#00cc96\",\"#ab63fa\",\"#FFA15A\",\"#19d3f3\",\"#FF6692\",\"#B6E880\",\"#FF97FF\",\"#FECB52\"],\"font\":{\"color\":\"#2a3f5f\"},\"hovermode\":\"closest\",\"hoverlabel\":{\"align\":\"left\"},\"paper_bgcolor\":\"white\",\"plot_bgcolor\":\"#E5ECF6\",\"polar\":{\"bgcolor\":\"#E5ECF6\",\"angularaxis\":{\"gridcolor\":\"white\",\"linecolor\":\"white\",\"ticks\":\"\"},\"radialaxis\":{\"gridcolor\":\"white\",\"linecolor\":\"white\",\"ticks\":\"\"}},\"ternary\":{\"bgcolor\":\"#E5ECF6\",\"aaxis\":{\"gridcolor\":\"white\",\"linecolor\":\"white\",\"ticks\":\"\"},\"baxis\":{\"gridcolor\":\"white\",\"linecolor\":\"white\",\"ticks\":\"\"},\"caxis\":{\"gridcolor\":\"white\",\"linecolor\":\"white\",\"ticks\":\"\"}},\"coloraxis\":{\"colorbar\":{\"outlinewidth\":0,\"ticks\":\"\"}},\"colorscale\":{\"sequential\":[[0.0,\"#0d0887\"],[0.1111111111111111,\"#46039f\"],[0.2222222222222222,\"#7201a8\"],[0.3333333333333333,\"#9c179e\"],[0.4444444444444444,\"#bd3786\"],[0.5555555555555556,\"#d8576b\"],[0.6666666666666666,\"#ed7953\"],[0.7777777777777778,\"#fb9f3a\"],[0.8888888888888888,\"#fdca26\"],[1.0,\"#f0f921\"]],\"sequentialminus\":[[0.0,\"#0d0887\"],[0.1111111111111111,\"#46039f\"],[0.2222222222222222,\"#7201a8\"],[0.3333333333333333,\"#9c179e\"],[0.4444444444444444,\"#bd3786\"],[0.5555555555555556,\"#d8576b\"],[0.6666666666666666,\"#ed7953\"],[0.7777777777777778,\"#fb9f3a\"],[0.8888888888888888,\"#fdca26\"],[1.0,\"#f0f921\"]],\"diverging\":[[0,\"#8e0152\"],[0.1,\"#c51b7d\"],[0.2,\"#de77ae\"],[0.3,\"#f1b6da\"],[0.4,\"#fde0ef\"],[0.5,\"#f7f7f7\"],[0.6,\"#e6f5d0\"],[0.7,\"#b8e186\"],[0.8,\"#7fbc41\"],[0.9,\"#4d9221\"],[1,\"#276419\"]]},\"xaxis\":{\"gridcolor\":\"white\",\"linecolor\":\"white\",\"ticks\":\"\",\"title\":{\"standoff\":15},\"zerolinecolor\":\"white\",\"automargin\":true,\"zerolinewidth\":2},\"yaxis\":{\"gridcolor\":\"white\",\"linecolor\":\"white\",\"ticks\":\"\",\"title\":{\"standoff\":15},\"zerolinecolor\":\"white\",\"automargin\":true,\"zerolinewidth\":2},\"scene\":{\"xaxis\":{\"backgroundcolor\":\"#E5ECF6\",\"gridcolor\":\"white\",\"linecolor\":\"white\",\"showbackground\":true,\"ticks\":\"\",\"zerolinecolor\":\"white\",\"gridwidth\":2},\"yaxis\":{\"backgroundcolor\":\"#E5ECF6\",\"gridcolor\":\"white\",\"linecolor\":\"white\",\"showbackground\":true,\"ticks\":\"\",\"zerolinecolor\":\"white\",\"gridwidth\":2},\"zaxis\":{\"backgroundcolor\":\"#E5ECF6\",\"gridcolor\":\"white\",\"linecolor\":\"white\",\"showbackground\":true,\"ticks\":\"\",\"zerolinecolor\":\"white\",\"gridwidth\":2}},\"shapedefaults\":{\"line\":{\"color\":\"#2a3f5f\"}},\"annotationdefaults\":{\"arrowcolor\":\"#2a3f5f\",\"arrowhead\":0,\"arrowwidth\":1},\"geo\":{\"bgcolor\":\"white\",\"landcolor\":\"#E5ECF6\",\"subunitcolor\":\"white\",\"showland\":true,\"showlakes\":true,\"lakecolor\":\"white\"},\"title\":{\"x\":0.05},\"mapbox\":{\"style\":\"light\"}}}},                        {\"responsive\": true}                    ).then(function(){\n",
              "                            \n",
              "var gd = document.getElementById('3c75aaad-91d7-4c2a-bf9f-88f5f6bf6f5b');\n",
              "var x = new MutationObserver(function (mutations, observer) {{\n",
              "        var display = window.getComputedStyle(gd).display;\n",
              "        if (!display || display === 'none') {{\n",
              "            console.log([gd, 'removed!']);\n",
              "            Plotly.purge(gd);\n",
              "            observer.disconnect();\n",
              "        }}\n",
              "}});\n",
              "\n",
              "// Listen for the removal of the full notebook cells\n",
              "var notebookContainer = gd.closest('#notebook-container');\n",
              "if (notebookContainer) {{\n",
              "    x.observe(notebookContainer, {childList: true});\n",
              "}}\n",
              "\n",
              "// Listen for the clearing of the current output cell\n",
              "var outputEl = gd.closest('.output');\n",
              "if (outputEl) {{\n",
              "    x.observe(outputEl, {childList: true});\n",
              "}}\n",
              "\n",
              "                        })                };                            </script>        </div>\n",
              "</body>\n",
              "</html>"
            ]
          },
          "metadata": {}
        }
      ]
    },
    {
      "cell_type": "markdown",
      "source": [
        "#### Optuna with Multiple Models but Single Hyperparameter Tuning\n",
        "\n",
        "Can set a hyperparameter to toggle between different algorithms."
      ],
      "metadata": {
        "id": "Qh7ZGw1EsIVZ"
      }
    },
    {
      "cell_type": "code",
      "source": [
        "from sklearn.ensemble import RandomForestClassifier, GradientBoostingClassifier\n",
        "from sklearn.svm import SVC"
      ],
      "metadata": {
        "id": "UFPNxajrsjpo"
      },
      "execution_count": 20,
      "outputs": []
    },
    {
      "cell_type": "code",
      "source": [
        "# Define the objective function for Optuna\n",
        "def objective(trial):\n",
        "    # Choose the algorithm to tune\n",
        "    classifier_name = trial.suggest_categorical('classifier', ['SVM', 'RandomForest', 'GradientBoosting'])\n",
        "\n",
        "    if classifier_name == 'SVM':\n",
        "        # SVM hyperparameters\n",
        "        c = trial.suggest_float('C', 0.1, 100, log=True)\n",
        "        kernel = trial.suggest_categorical('kernel', ['linear', 'rbf', 'poly', 'sigmoid'])\n",
        "        gamma = trial.suggest_categorical('gamma', ['scale', 'auto'])\n",
        "\n",
        "        model = SVC(C=c, kernel=kernel, gamma=gamma, random_state=42)\n",
        "\n",
        "    elif classifier_name == 'RandomForest':\n",
        "        # Random Forest hyperparameters\n",
        "        n_estimators = trial.suggest_int('n_estimators', 50, 300)\n",
        "        max_depth = trial.suggest_int('max_depth', 3, 20)\n",
        "        min_samples_split = trial.suggest_int('min_samples_split', 2, 10)\n",
        "        min_samples_leaf = trial.suggest_int('min_samples_leaf', 1, 10)\n",
        "        bootstrap = trial.suggest_categorical('bootstrap', [True, False])\n",
        "\n",
        "        model = RandomForestClassifier(\n",
        "            n_estimators=n_estimators,\n",
        "            max_depth=max_depth,\n",
        "            min_samples_split=min_samples_split,\n",
        "            min_samples_leaf=min_samples_leaf,\n",
        "            bootstrap=bootstrap,\n",
        "            random_state=42\n",
        "        )\n",
        "\n",
        "    elif classifier_name == 'GradientBoosting':\n",
        "        # Gradient Boosting hyperparameters\n",
        "        n_estimators = trial.suggest_int('n_estimators', 50, 300)\n",
        "        learning_rate = trial.suggest_float('learning_rate', 0.01, 0.3, log=True)\n",
        "        max_depth = trial.suggest_int('max_depth', 3, 20)\n",
        "        min_samples_split = trial.suggest_int('min_samples_split', 2, 10)\n",
        "        min_samples_leaf = trial.suggest_int('min_samples_leaf', 1, 10)\n",
        "\n",
        "        model = GradientBoostingClassifier(\n",
        "            n_estimators=n_estimators,\n",
        "            learning_rate=learning_rate,\n",
        "            max_depth=max_depth,\n",
        "            min_samples_split=min_samples_split,\n",
        "            min_samples_leaf=min_samples_leaf,\n",
        "            random_state=42\n",
        "        )\n",
        "\n",
        "    # Perform cross-validation and return the mean accuracy\n",
        "    score = cross_val_score(model, X_train, y_train, cv=3, scoring='accuracy').mean()\n",
        "    return score"
      ],
      "metadata": {
        "id": "GKjvIJ4psGR7"
      },
      "execution_count": 21,
      "outputs": []
    },
    {
      "cell_type": "code",
      "source": [
        "study = optuna.create_study(direction='maximize')\n",
        "study.optimize(objective, n_trials=100)"
      ],
      "metadata": {
        "colab": {
          "base_uri": "https://localhost:8080/"
        },
        "collapsed": true,
        "id": "qEJ-vmqEslro",
        "outputId": "2f739d7e-428a-4f72-bf54-c204ed2ee899"
      },
      "execution_count": 22,
      "outputs": [
        {
          "output_type": "stream",
          "name": "stderr",
          "text": [
            "[I 2025-02-02 08:06:40,437] A new study created in memory with name: no-name-deff10de-f15e-4788-ab55-cc2a583022b6\n",
            "[I 2025-02-02 08:06:41,214] Trial 0 finished with value: 0.7672253258845437 and parameters: {'classifier': 'RandomForest', 'n_estimators': 65, 'max_depth': 10, 'min_samples_split': 4, 'min_samples_leaf': 10, 'bootstrap': True}. Best is trial 0 with value: 0.7672253258845437.\n",
            "[I 2025-02-02 08:06:41,456] Trial 1 finished with value: 0.6797020484171323 and parameters: {'classifier': 'SVM', 'C': 76.60742671798609, 'kernel': 'poly', 'gamma': 'scale'}. Best is trial 0 with value: 0.7672253258845437.\n",
            "[I 2025-02-02 08:06:41,522] Trial 2 finished with value: 0.7169459962756052 and parameters: {'classifier': 'SVM', 'C': 8.131518772182526, 'kernel': 'poly', 'gamma': 'scale'}. Best is trial 0 with value: 0.7672253258845437.\n",
            "[I 2025-02-02 08:06:44,443] Trial 3 finished with value: 0.7579143389199254 and parameters: {'classifier': 'RandomForest', 'n_estimators': 266, 'max_depth': 7, 'min_samples_split': 5, 'min_samples_leaf': 7, 'bootstrap': True}. Best is trial 0 with value: 0.7672253258845437.\n",
            "[I 2025-02-02 08:06:45,218] Trial 4 finished with value: 0.7597765363128491 and parameters: {'classifier': 'GradientBoosting', 'n_estimators': 63, 'learning_rate': 0.04812647690137823, 'max_depth': 4, 'min_samples_split': 9, 'min_samples_leaf': 10}. Best is trial 0 with value: 0.7672253258845437.\n",
            "[I 2025-02-02 08:06:45,500] Trial 5 finished with value: 0.6983240223463687 and parameters: {'classifier': 'SVM', 'C': 44.09751516248179, 'kernel': 'poly', 'gamma': 'scale'}. Best is trial 0 with value: 0.7672253258845437.\n",
            "[I 2025-02-02 08:06:45,600] Trial 6 finished with value: 0.7541899441340782 and parameters: {'classifier': 'SVM', 'C': 0.4549867323506451, 'kernel': 'sigmoid', 'gamma': 'auto'}. Best is trial 0 with value: 0.7672253258845437.\n",
            "[I 2025-02-02 08:06:45,708] Trial 7 finished with value: 0.7858472998137803 and parameters: {'classifier': 'SVM', 'C': 0.3066615819462253, 'kernel': 'linear', 'gamma': 'scale'}. Best is trial 7 with value: 0.7858472998137803.\n",
            "[I 2025-02-02 08:06:45,762] Trial 8 finished with value: 0.6927374301675978 and parameters: {'classifier': 'SVM', 'C': 24.51787535623167, 'kernel': 'sigmoid', 'gamma': 'auto'}. Best is trial 7 with value: 0.7858472998137803.\n",
            "[I 2025-02-02 08:06:45,857] Trial 9 finished with value: 0.7150837988826816 and parameters: {'classifier': 'SVM', 'C': 0.21229254639373046, 'kernel': 'poly', 'gamma': 'scale'}. Best is trial 7 with value: 0.7858472998137803.\n",
            "[I 2025-02-02 08:06:50,584] Trial 10 finished with value: 0.702048417132216 and parameters: {'classifier': 'GradientBoosting', 'n_estimators': 297, 'learning_rate': 0.24582535814697667, 'max_depth': 20, 'min_samples_split': 2, 'min_samples_leaf': 1}. Best is trial 7 with value: 0.7858472998137803.\n",
            "[I 2025-02-02 08:06:51,073] Trial 11 finished with value: 0.7765363128491619 and parameters: {'classifier': 'RandomForest', 'n_estimators': 52, 'max_depth': 14, 'min_samples_split': 4, 'min_samples_leaf': 10, 'bootstrap': False}. Best is trial 7 with value: 0.7858472998137803.\n",
            "[I 2025-02-02 08:06:52,318] Trial 12 finished with value: 0.7709497206703911 and parameters: {'classifier': 'RandomForest', 'n_estimators': 157, 'max_depth': 16, 'min_samples_split': 8, 'min_samples_leaf': 5, 'bootstrap': False}. Best is trial 7 with value: 0.7858472998137803.\n",
            "[I 2025-02-02 08:06:53,452] Trial 13 finished with value: 0.7672253258845437 and parameters: {'classifier': 'RandomForest', 'n_estimators': 149, 'max_depth': 14, 'min_samples_split': 2, 'min_samples_leaf': 6, 'bootstrap': False}. Best is trial 7 with value: 0.7858472998137803.\n",
            "[I 2025-02-02 08:06:54,928] Trial 14 finished with value: 0.7616387337057727 and parameters: {'classifier': 'RandomForest', 'n_estimators': 217, 'max_depth': 18, 'min_samples_split': 7, 'min_samples_leaf': 2, 'bootstrap': False}. Best is trial 7 with value: 0.7858472998137803.\n",
            "[I 2025-02-02 08:06:56,260] Trial 15 finished with value: 0.7597765363128491 and parameters: {'classifier': 'GradientBoosting', 'n_estimators': 118, 'learning_rate': 0.010448758036683303, 'max_depth': 12, 'min_samples_split': 4, 'min_samples_leaf': 8}. Best is trial 7 with value: 0.7858472998137803.\n",
            "[I 2025-02-02 08:06:56,789] Trial 16 finished with value: 0.7690875232774674 and parameters: {'classifier': 'RandomForest', 'n_estimators': 109, 'max_depth': 9, 'min_samples_split': 10, 'min_samples_leaf': 4, 'bootstrap': False}. Best is trial 7 with value: 0.7858472998137803.\n",
            "[I 2025-02-02 08:06:56,829] Trial 17 finished with value: 0.7839851024208566 and parameters: {'classifier': 'SVM', 'C': 1.5392974134542674, 'kernel': 'linear', 'gamma': 'scale'}. Best is trial 7 with value: 0.7858472998137803.\n",
            "[I 2025-02-02 08:06:56,870] Trial 18 finished with value: 0.7839851024208566 and parameters: {'classifier': 'SVM', 'C': 1.489005950358774, 'kernel': 'linear', 'gamma': 'scale'}. Best is trial 7 with value: 0.7858472998137803.\n",
            "[I 2025-02-02 08:06:56,909] Trial 19 finished with value: 0.7839851024208566 and parameters: {'classifier': 'SVM', 'C': 1.1851703801781541, 'kernel': 'linear', 'gamma': 'scale'}. Best is trial 7 with value: 0.7858472998137803.\n",
            "[I 2025-02-02 08:06:56,946] Trial 20 finished with value: 0.7877094972067038 and parameters: {'classifier': 'SVM', 'C': 0.10290972580027606, 'kernel': 'linear', 'gamma': 'scale'}. Best is trial 20 with value: 0.7877094972067038.\n",
            "[I 2025-02-02 08:06:56,981] Trial 21 finished with value: 0.7895716945996275 and parameters: {'classifier': 'SVM', 'C': 0.11831525923946343, 'kernel': 'linear', 'gamma': 'scale'}. Best is trial 21 with value: 0.7895716945996275.\n",
            "[I 2025-02-02 08:06:57,017] Trial 22 finished with value: 0.7877094972067038 and parameters: {'classifier': 'SVM', 'C': 0.10071046255148075, 'kernel': 'linear', 'gamma': 'scale'}. Best is trial 21 with value: 0.7895716945996275.\n",
            "[I 2025-02-02 08:06:57,059] Trial 23 finished with value: 0.7486033519553073 and parameters: {'classifier': 'SVM', 'C': 0.14679442448674562, 'kernel': 'rbf', 'gamma': 'scale'}. Best is trial 21 with value: 0.7895716945996275.\n",
            "[I 2025-02-02 08:06:57,092] Trial 24 finished with value: 0.7877094972067038 and parameters: {'classifier': 'SVM', 'C': 0.10621877111483759, 'kernel': 'linear', 'gamma': 'auto'}. Best is trial 21 with value: 0.7895716945996275.\n",
            "[I 2025-02-02 08:06:57,126] Trial 25 finished with value: 0.7877094972067038 and parameters: {'classifier': 'SVM', 'C': 0.10201434662452852, 'kernel': 'linear', 'gamma': 'scale'}. Best is trial 21 with value: 0.7895716945996275.\n",
            "[I 2025-02-02 08:06:58,261] Trial 26 finished with value: 0.7374301675977654 and parameters: {'classifier': 'GradientBoosting', 'n_estimators': 206, 'learning_rate': 0.2971162172627552, 'max_depth': 3, 'min_samples_split': 6, 'min_samples_leaf': 3}. Best is trial 21 with value: 0.7895716945996275.\n",
            "[I 2025-02-02 08:06:58,298] Trial 27 finished with value: 0.7839851024208566 and parameters: {'classifier': 'SVM', 'C': 0.4204127322781916, 'kernel': 'linear', 'gamma': 'scale'}. Best is trial 21 with value: 0.7895716945996275.\n",
            "[I 2025-02-02 08:06:58,337] Trial 28 finished with value: 0.7709497206703911 and parameters: {'classifier': 'SVM', 'C': 0.7051189292659905, 'kernel': 'rbf', 'gamma': 'scale'}. Best is trial 21 with value: 0.7895716945996275.\n",
            "[I 2025-02-02 08:06:58,393] Trial 29 finished with value: 0.7858472998137801 and parameters: {'classifier': 'SVM', 'C': 5.271983985498089, 'kernel': 'linear', 'gamma': 'auto'}. Best is trial 21 with value: 0.7895716945996275.\n",
            "[I 2025-02-02 08:07:00,991] Trial 30 finished with value: 0.7783985102420856 and parameters: {'classifier': 'GradientBoosting', 'n_estimators': 235, 'learning_rate': 0.010347749287798934, 'max_depth': 6, 'min_samples_split': 10, 'min_samples_leaf': 8}. Best is trial 21 with value: 0.7895716945996275.\n",
            "[I 2025-02-02 08:07:01,043] Trial 31 finished with value: 0.7895716945996275 and parameters: {'classifier': 'SVM', 'C': 0.12641587863866027, 'kernel': 'linear', 'gamma': 'auto'}. Best is trial 21 with value: 0.7895716945996275.\n",
            "[I 2025-02-02 08:07:01,098] Trial 32 finished with value: 0.7858472998137803 and parameters: {'classifier': 'SVM', 'C': 0.19328746096304422, 'kernel': 'linear', 'gamma': 'auto'}. Best is trial 21 with value: 0.7895716945996275.\n",
            "[I 2025-02-02 08:07:01,146] Trial 33 finished with value: 0.7877094972067038 and parameters: {'classifier': 'SVM', 'C': 0.10382987166606956, 'kernel': 'linear', 'gamma': 'auto'}. Best is trial 21 with value: 0.7895716945996275.\n",
            "[I 2025-02-02 08:07:01,200] Trial 34 finished with value: 0.7858472998137803 and parameters: {'classifier': 'SVM', 'C': 0.2068431948802996, 'kernel': 'linear', 'gamma': 'scale'}. Best is trial 21 with value: 0.7895716945996275.\n",
            "[I 2025-02-02 08:07:01,250] Trial 35 finished with value: 0.7858472998137803 and parameters: {'classifier': 'SVM', 'C': 0.2737832828244996, 'kernel': 'linear', 'gamma': 'auto'}. Best is trial 21 with value: 0.7895716945996275.\n",
            "[I 2025-02-02 08:07:01,303] Trial 36 finished with value: 0.7877094972067038 and parameters: {'classifier': 'SVM', 'C': 0.16596694496930803, 'kernel': 'linear', 'gamma': 'scale'}. Best is trial 21 with value: 0.7895716945996275.\n",
            "[I 2025-02-02 08:07:01,365] Trial 37 finished with value: 0.7467411545623835 and parameters: {'classifier': 'SVM', 'C': 0.5492603066065926, 'kernel': 'sigmoid', 'gamma': 'auto'}. Best is trial 21 with value: 0.7895716945996275.\n",
            "[I 2025-02-02 08:07:01,435] Trial 38 finished with value: 0.7653631284916201 and parameters: {'classifier': 'SVM', 'C': 0.3006018823744659, 'kernel': 'rbf', 'gamma': 'scale'}. Best is trial 21 with value: 0.7895716945996275.\n",
            "[I 2025-02-02 08:07:01,492] Trial 39 finished with value: 0.7877094972067038 and parameters: {'classifier': 'SVM', 'C': 0.10021521841912016, 'kernel': 'linear', 'gamma': 'scale'}. Best is trial 21 with value: 0.7895716945996275.\n",
            "[I 2025-02-02 08:07:01,549] Trial 40 finished with value: 0.7858472998137803 and parameters: {'classifier': 'SVM', 'C': 0.7103828542444451, 'kernel': 'linear', 'gamma': 'auto'}. Best is trial 21 with value: 0.7895716945996275.\n",
            "[I 2025-02-02 08:07:01,603] Trial 41 finished with value: 0.7895716945996275 and parameters: {'classifier': 'SVM', 'C': 0.13970543476874037, 'kernel': 'linear', 'gamma': 'auto'}. Best is trial 21 with value: 0.7895716945996275.\n",
            "[I 2025-02-02 08:07:01,652] Trial 42 finished with value: 0.7895716945996275 and parameters: {'classifier': 'SVM', 'C': 0.14961120887076468, 'kernel': 'linear', 'gamma': 'auto'}. Best is trial 21 with value: 0.7895716945996275.\n",
            "[I 2025-02-02 08:07:01,706] Trial 43 finished with value: 0.7877094972067038 and parameters: {'classifier': 'SVM', 'C': 0.1600200649529109, 'kernel': 'linear', 'gamma': 'auto'}. Best is trial 21 with value: 0.7895716945996275.\n",
            "[I 2025-02-02 08:07:01,761] Trial 44 finished with value: 0.7858472998137803 and parameters: {'classifier': 'SVM', 'C': 0.3203658277661815, 'kernel': 'linear', 'gamma': 'auto'}. Best is trial 21 with value: 0.7895716945996275.\n",
            "[I 2025-02-02 08:07:06,948] Trial 45 finished with value: 0.7448789571694601 and parameters: {'classifier': 'GradientBoosting', 'n_estimators': 195, 'learning_rate': 0.05900086284968214, 'max_depth': 20, 'min_samples_split': 7, 'min_samples_leaf': 1}. Best is trial 21 with value: 0.7895716945996275.\n",
            "[I 2025-02-02 08:07:06,986] Trial 46 finished with value: 0.7169459962756052 and parameters: {'classifier': 'SVM', 'C': 0.15890803360383804, 'kernel': 'poly', 'gamma': 'auto'}. Best is trial 21 with value: 0.7895716945996275.\n",
            "[I 2025-02-02 08:07:07,020] Trial 47 finished with value: 0.7858472998137803 and parameters: {'classifier': 'SVM', 'C': 0.21795501333973386, 'kernel': 'linear', 'gamma': 'auto'}. Best is trial 21 with value: 0.7895716945996275.\n",
            "[I 2025-02-02 08:07:08,629] Trial 48 finished with value: 0.7635009310986964 and parameters: {'classifier': 'RandomForest', 'n_estimators': 300, 'max_depth': 12, 'min_samples_split': 3, 'min_samples_leaf': 4, 'bootstrap': True}. Best is trial 21 with value: 0.7895716945996275.\n",
            "[I 2025-02-02 08:07:08,667] Trial 49 finished with value: 0.7057728119180634 and parameters: {'classifier': 'SVM', 'C': 8.163557241335686, 'kernel': 'sigmoid', 'gamma': 'auto'}. Best is trial 21 with value: 0.7895716945996275.\n",
            "[I 2025-02-02 08:07:10,996] Trial 50 finished with value: 0.7635009310986964 and parameters: {'classifier': 'GradientBoosting', 'n_estimators': 252, 'learning_rate': 0.04526483093267124, 'max_depth': 7, 'min_samples_split': 6, 'min_samples_leaf': 8}. Best is trial 21 with value: 0.7895716945996275.\n",
            "[I 2025-02-02 08:07:11,029] Trial 51 finished with value: 0.7895716945996275 and parameters: {'classifier': 'SVM', 'C': 0.13763345707335492, 'kernel': 'linear', 'gamma': 'auto'}. Best is trial 21 with value: 0.7895716945996275.\n",
            "[I 2025-02-02 08:07:11,065] Trial 52 finished with value: 0.7895716945996275 and parameters: {'classifier': 'SVM', 'C': 0.14731666885791367, 'kernel': 'linear', 'gamma': 'auto'}. Best is trial 21 with value: 0.7895716945996275.\n",
            "[I 2025-02-02 08:07:11,411] Trial 53 finished with value: 0.7858472998137801 and parameters: {'classifier': 'SVM', 'C': 88.00541754467979, 'kernel': 'linear', 'gamma': 'auto'}. Best is trial 21 with value: 0.7895716945996275.\n",
            "[I 2025-02-02 08:07:11,447] Trial 54 finished with value: 0.7374301675977654 and parameters: {'classifier': 'SVM', 'C': 0.4000246038371168, 'kernel': 'poly', 'gamma': 'auto'}. Best is trial 21 with value: 0.7895716945996275.\n",
            "[I 2025-02-02 08:07:12,100] Trial 55 finished with value: 0.7597765363128491 and parameters: {'classifier': 'RandomForest', 'n_estimators': 116, 'max_depth': 17, 'min_samples_split': 8, 'min_samples_leaf': 6, 'bootstrap': True}. Best is trial 21 with value: 0.7895716945996275.\n",
            "[I 2025-02-02 08:07:12,133] Trial 56 finished with value: 0.7895716945996275 and parameters: {'classifier': 'SVM', 'C': 0.1470818605995963, 'kernel': 'linear', 'gamma': 'auto'}. Best is trial 21 with value: 0.7895716945996275.\n",
            "[I 2025-02-02 08:07:12,166] Trial 57 finished with value: 0.7858472998137803 and parameters: {'classifier': 'SVM', 'C': 0.2582257075700714, 'kernel': 'linear', 'gamma': 'auto'}. Best is trial 21 with value: 0.7895716945996275.\n",
            "[I 2025-02-02 08:07:12,203] Trial 58 finished with value: 0.6945996275605214 and parameters: {'classifier': 'SVM', 'C': 47.5779922304998, 'kernel': 'sigmoid', 'gamma': 'auto'}. Best is trial 21 with value: 0.7895716945996275.\n",
            "[I 2025-02-02 08:07:12,236] Trial 59 finished with value: 0.7877094972067038 and parameters: {'classifier': 'SVM', 'C': 0.16259137716298644, 'kernel': 'linear', 'gamma': 'auto'}. Best is trial 21 with value: 0.7895716945996275.\n",
            "[I 2025-02-02 08:07:13,569] Trial 60 finished with value: 0.7597765363128491 and parameters: {'classifier': 'RandomForest', 'n_estimators': 175, 'max_depth': 5, 'min_samples_split': 5, 'min_samples_leaf': 3, 'bootstrap': True}. Best is trial 21 with value: 0.7895716945996275.\n",
            "[I 2025-02-02 08:07:13,620] Trial 61 finished with value: 0.7895716945996275 and parameters: {'classifier': 'SVM', 'C': 0.1463395368531234, 'kernel': 'linear', 'gamma': 'auto'}. Best is trial 21 with value: 0.7895716945996275.\n",
            "[I 2025-02-02 08:07:13,666] Trial 62 finished with value: 0.7895716945996275 and parameters: {'classifier': 'SVM', 'C': 0.14022878523514629, 'kernel': 'linear', 'gamma': 'auto'}. Best is trial 21 with value: 0.7895716945996275.\n",
            "[I 2025-02-02 08:07:13,715] Trial 63 finished with value: 0.7858472998137803 and parameters: {'classifier': 'SVM', 'C': 0.22082796802954854, 'kernel': 'linear', 'gamma': 'auto'}. Best is trial 21 with value: 0.7895716945996275.\n",
            "[I 2025-02-02 08:07:13,774] Trial 64 finished with value: 0.7895716945996275 and parameters: {'classifier': 'SVM', 'C': 0.1355340137193629, 'kernel': 'linear', 'gamma': 'auto'}. Best is trial 21 with value: 0.7895716945996275.\n",
            "[I 2025-02-02 08:07:13,829] Trial 65 finished with value: 0.7281191806331471 and parameters: {'classifier': 'SVM', 'C': 0.317517953838216, 'kernel': 'poly', 'gamma': 'auto'}. Best is trial 21 with value: 0.7895716945996275.\n",
            "[I 2025-02-02 08:07:13,998] Trial 66 finished with value: 0.7858472998137801 and parameters: {'classifier': 'SVM', 'C': 16.158828446852496, 'kernel': 'linear', 'gamma': 'auto'}. Best is trial 21 with value: 0.7895716945996275.\n",
            "[I 2025-02-02 08:07:14,070] Trial 67 finished with value: 0.7486033519553073 and parameters: {'classifier': 'SVM', 'C': 0.12839792263467442, 'kernel': 'rbf', 'gamma': 'auto'}. Best is trial 21 with value: 0.7895716945996275.\n",
            "[I 2025-02-02 08:07:15,448] Trial 68 finished with value: 0.74487895716946 and parameters: {'classifier': 'GradientBoosting', 'n_estimators': 86, 'learning_rate': 0.11375953534122314, 'max_depth': 10, 'min_samples_split': 9, 'min_samples_leaf': 9}. Best is trial 21 with value: 0.7895716945996275.\n",
            "[I 2025-02-02 08:07:15,525] Trial 69 finished with value: 0.7858472998137801 and parameters: {'classifier': 'SVM', 'C': 2.2242467816733926, 'kernel': 'linear', 'gamma': 'auto'}. Best is trial 21 with value: 0.7895716945996275.\n",
            "[I 2025-02-02 08:07:15,582] Trial 70 finished with value: 0.7858472998137803 and parameters: {'classifier': 'SVM', 'C': 0.2190467871762635, 'kernel': 'linear', 'gamma': 'auto'}. Best is trial 21 with value: 0.7895716945996275.\n",
            "[I 2025-02-02 08:07:15,639] Trial 71 finished with value: 0.7895716945996275 and parameters: {'classifier': 'SVM', 'C': 0.13114766927747099, 'kernel': 'linear', 'gamma': 'auto'}. Best is trial 21 with value: 0.7895716945996275.\n",
            "[I 2025-02-02 08:07:15,697] Trial 72 finished with value: 0.7877094972067038 and parameters: {'classifier': 'SVM', 'C': 0.1694856918477565, 'kernel': 'linear', 'gamma': 'auto'}. Best is trial 21 with value: 0.7895716945996275.\n",
            "[I 2025-02-02 08:07:15,764] Trial 73 finished with value: 0.7895716945996275 and parameters: {'classifier': 'SVM', 'C': 0.1277961253570838, 'kernel': 'linear', 'gamma': 'auto'}. Best is trial 21 with value: 0.7895716945996275.\n",
            "[I 2025-02-02 08:07:15,823] Trial 74 finished with value: 0.7858472998137803 and parameters: {'classifier': 'SVM', 'C': 0.24413544030291975, 'kernel': 'linear', 'gamma': 'auto'}. Best is trial 21 with value: 0.7895716945996275.\n",
            "[I 2025-02-02 08:07:15,880] Trial 75 finished with value: 0.7858472998137803 and parameters: {'classifier': 'SVM', 'C': 0.18697290601608454, 'kernel': 'linear', 'gamma': 'auto'}. Best is trial 21 with value: 0.7895716945996275.\n",
            "[I 2025-02-02 08:07:15,935] Trial 76 finished with value: 0.7839851024208566 and parameters: {'classifier': 'SVM', 'C': 0.41397229409874997, 'kernel': 'linear', 'gamma': 'auto'}. Best is trial 21 with value: 0.7895716945996275.\n",
            "[I 2025-02-02 08:07:15,970] Trial 77 finished with value: 0.7895716945996275 and parameters: {'classifier': 'SVM', 'C': 0.12025773001280561, 'kernel': 'linear', 'gamma': 'auto'}. Best is trial 21 with value: 0.7895716945996275.\n",
            "[I 2025-02-02 08:07:16,019] Trial 78 finished with value: 0.7635009310986964 and parameters: {'classifier': 'SVM', 'C': 0.19428084274926796, 'kernel': 'rbf', 'gamma': 'scale'}. Best is trial 21 with value: 0.7895716945996275.\n",
            "[I 2025-02-02 08:07:16,056] Trial 79 finished with value: 0.7839851024208566 and parameters: {'classifier': 'SVM', 'C': 0.5361229503736625, 'kernel': 'linear', 'gamma': 'auto'}. Best is trial 21 with value: 0.7895716945996275.\n",
            "[I 2025-02-02 08:07:17,496] Trial 80 finished with value: 0.7672253258845437 and parameters: {'classifier': 'RandomForest', 'n_estimators': 267, 'max_depth': 15, 'min_samples_split': 3, 'min_samples_leaf': 5, 'bootstrap': True}. Best is trial 21 with value: 0.7895716945996275.\n",
            "[I 2025-02-02 08:07:17,531] Trial 81 finished with value: 0.7895716945996275 and parameters: {'classifier': 'SVM', 'C': 0.13577528060688734, 'kernel': 'linear', 'gamma': 'auto'}. Best is trial 21 with value: 0.7895716945996275.\n",
            "[I 2025-02-02 08:07:17,565] Trial 82 finished with value: 0.7895716945996275 and parameters: {'classifier': 'SVM', 'C': 0.15124460792289804, 'kernel': 'linear', 'gamma': 'auto'}. Best is trial 21 with value: 0.7895716945996275.\n",
            "[I 2025-02-02 08:07:17,598] Trial 83 finished with value: 0.7877094972067038 and parameters: {'classifier': 'SVM', 'C': 0.10058866915798369, 'kernel': 'linear', 'gamma': 'auto'}. Best is trial 21 with value: 0.7895716945996275.\n",
            "[I 2025-02-02 08:07:17,633] Trial 84 finished with value: 0.7858472998137803 and parameters: {'classifier': 'SVM', 'C': 0.27159315092416314, 'kernel': 'linear', 'gamma': 'auto'}. Best is trial 21 with value: 0.7895716945996275.\n",
            "[I 2025-02-02 08:07:17,667] Trial 85 finished with value: 0.7877094972067038 and parameters: {'classifier': 'SVM', 'C': 0.1770119686632076, 'kernel': 'linear', 'gamma': 'scale'}. Best is trial 21 with value: 0.7895716945996275.\n",
            "[I 2025-02-02 08:07:20,816] Trial 86 finished with value: 0.7374301675977654 and parameters: {'classifier': 'GradientBoosting', 'n_estimators': 134, 'learning_rate': 0.023527363822233346, 'max_depth': 19, 'min_samples_split': 6, 'min_samples_leaf': 2}. Best is trial 21 with value: 0.7895716945996275.\n",
            "[I 2025-02-02 08:07:20,867] Trial 87 finished with value: 0.7728119180633147 and parameters: {'classifier': 'SVM', 'C': 0.12248845956245853, 'kernel': 'sigmoid', 'gamma': 'auto'}. Best is trial 21 with value: 0.7895716945996275.\n",
            "[I 2025-02-02 08:07:20,904] Trial 88 finished with value: 0.7821229050279329 and parameters: {'classifier': 'SVM', 'C': 0.3663836359800639, 'kernel': 'linear', 'gamma': 'auto'}. Best is trial 21 with value: 0.7895716945996275.\n",
            "[I 2025-02-02 08:07:20,938] Trial 89 finished with value: 0.7895716945996275 and parameters: {'classifier': 'SVM', 'C': 0.14497585038430516, 'kernel': 'linear', 'gamma': 'auto'}. Best is trial 21 with value: 0.7895716945996275.\n",
            "[I 2025-02-02 08:07:20,975] Trial 90 finished with value: 0.7188081936685289 and parameters: {'classifier': 'SVM', 'C': 0.23566424624460722, 'kernel': 'poly', 'gamma': 'scale'}. Best is trial 21 with value: 0.7895716945996275.\n",
            "[I 2025-02-02 08:07:21,009] Trial 91 finished with value: 0.7895716945996275 and parameters: {'classifier': 'SVM', 'C': 0.12627294064101297, 'kernel': 'linear', 'gamma': 'auto'}. Best is trial 21 with value: 0.7895716945996275.\n",
            "[I 2025-02-02 08:07:21,043] Trial 92 finished with value: 0.7877094972067038 and parameters: {'classifier': 'SVM', 'C': 0.1000691266516015, 'kernel': 'linear', 'gamma': 'auto'}. Best is trial 21 with value: 0.7895716945996275.\n",
            "[I 2025-02-02 08:07:21,078] Trial 93 finished with value: 0.7877094972067038 and parameters: {'classifier': 'SVM', 'C': 0.18471358395995405, 'kernel': 'linear', 'gamma': 'auto'}. Best is trial 21 with value: 0.7895716945996275.\n",
            "[I 2025-02-02 08:07:21,113] Trial 94 finished with value: 0.7895716945996275 and parameters: {'classifier': 'SVM', 'C': 0.14708799243841725, 'kernel': 'linear', 'gamma': 'auto'}. Best is trial 21 with value: 0.7895716945996275.\n",
            "[I 2025-02-02 08:07:21,147] Trial 95 finished with value: 0.7895716945996275 and parameters: {'classifier': 'SVM', 'C': 0.11735568552199602, 'kernel': 'linear', 'gamma': 'auto'}. Best is trial 21 with value: 0.7895716945996275.\n",
            "[I 2025-02-02 08:07:21,185] Trial 96 finished with value: 0.7877094972067038 and parameters: {'classifier': 'SVM', 'C': 0.18311486792392465, 'kernel': 'linear', 'gamma': 'auto'}. Best is trial 21 with value: 0.7895716945996275.\n",
            "[I 2025-02-02 08:07:21,993] Trial 97 finished with value: 0.7728119180633147 and parameters: {'classifier': 'RandomForest', 'n_estimators': 177, 'max_depth': 9, 'min_samples_split': 8, 'min_samples_leaf': 7, 'bootstrap': False}. Best is trial 21 with value: 0.7895716945996275.\n",
            "[I 2025-02-02 08:07:22,028] Trial 98 finished with value: 0.7895716945996275 and parameters: {'classifier': 'SVM', 'C': 0.14539529438138823, 'kernel': 'linear', 'gamma': 'auto'}. Best is trial 21 with value: 0.7895716945996275.\n",
            "[I 2025-02-02 08:07:22,525] Trial 99 finished with value: 0.7690875232774674 and parameters: {'classifier': 'GradientBoosting', 'n_estimators': 84, 'learning_rate': 0.12638457598019617, 'max_depth': 3, 'min_samples_split': 7, 'min_samples_leaf': 4}. Best is trial 21 with value: 0.7895716945996275.\n"
          ]
        }
      ]
    },
    {
      "cell_type": "code",
      "source": [
        "best_trial = study.best_trial\n",
        "print(\"Best trial parameters:\", best_trial.params)\n",
        "print(\"Best trial accuracy:\", best_trial.value)"
      ],
      "metadata": {
        "colab": {
          "base_uri": "https://localhost:8080/"
        },
        "id": "tDunnw53soom",
        "outputId": "15c89c84-9a9d-4719-fd28-ec632e0da805"
      },
      "execution_count": 23,
      "outputs": [
        {
          "output_type": "stream",
          "name": "stdout",
          "text": [
            "Best trial parameters: {'classifier': 'SVM', 'C': 0.11831525923946343, 'kernel': 'linear', 'gamma': 'scale'}\n",
            "Best trial accuracy: 0.7895716945996275\n"
          ]
        }
      ]
    },
    {
      "cell_type": "code",
      "source": [
        "# Can visualize every statistic using dataframe thingy here.\n",
        "study.trials_dataframe()['params_classifier'].value_counts()"
      ],
      "metadata": {
        "colab": {
          "base_uri": "https://localhost:8080/",
          "height": 209
        },
        "id": "IoFMUv35srDb",
        "outputId": "0b670e40-ae93-4284-c1fe-54b702170bdc"
      },
      "execution_count": 28,
      "outputs": [
        {
          "output_type": "execute_result",
          "data": {
            "text/plain": [
              "params_classifier\n",
              "SVM                 78\n",
              "RandomForest        12\n",
              "GradientBoosting    10\n",
              "Name: count, dtype: int64"
            ],
            "text/html": [
              "<div>\n",
              "<style scoped>\n",
              "    .dataframe tbody tr th:only-of-type {\n",
              "        vertical-align: middle;\n",
              "    }\n",
              "\n",
              "    .dataframe tbody tr th {\n",
              "        vertical-align: top;\n",
              "    }\n",
              "\n",
              "    .dataframe thead th {\n",
              "        text-align: right;\n",
              "    }\n",
              "</style>\n",
              "<table border=\"1\" class=\"dataframe\">\n",
              "  <thead>\n",
              "    <tr style=\"text-align: right;\">\n",
              "      <th></th>\n",
              "      <th>count</th>\n",
              "    </tr>\n",
              "    <tr>\n",
              "      <th>params_classifier</th>\n",
              "      <th></th>\n",
              "    </tr>\n",
              "  </thead>\n",
              "  <tbody>\n",
              "    <tr>\n",
              "      <th>SVM</th>\n",
              "      <td>78</td>\n",
              "    </tr>\n",
              "    <tr>\n",
              "      <th>RandomForest</th>\n",
              "      <td>12</td>\n",
              "    </tr>\n",
              "    <tr>\n",
              "      <th>GradientBoosting</th>\n",
              "      <td>10</td>\n",
              "    </tr>\n",
              "  </tbody>\n",
              "</table>\n",
              "</div><br><label><b>dtype:</b> int64</label>"
            ]
          },
          "metadata": {},
          "execution_count": 28
        }
      ]
    },
    {
      "cell_type": "code",
      "source": [],
      "metadata": {
        "id": "Ap5qGpTAs_r9"
      },
      "execution_count": null,
      "outputs": []
    }
  ]
}