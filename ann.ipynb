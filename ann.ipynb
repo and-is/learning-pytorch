{
  "nbformat": 4,
  "nbformat_minor": 0,
  "metadata": {
    "colab": {
      "provenance": [],
      "gpuType": "T4",
      "authorship_tag": "ABX9TyMm4BxrkqAmYxzg1tDwQ2Gk",
      "include_colab_link": true
    },
    "kernelspec": {
      "name": "python3",
      "display_name": "Python 3"
    },
    "language_info": {
      "name": "python"
    },
    "accelerator": "GPU"
  },
  "cells": [
    {
      "cell_type": "markdown",
      "metadata": {
        "id": "view-in-github",
        "colab_type": "text"
      },
      "source": [
        "<a href=\"https://colab.research.google.com/github/and-is/learning-pytorch/blob/main/ann.ipynb\" target=\"_parent\"><img src=\"https://colab.research.google.com/assets/colab-badge.svg\" alt=\"Open In Colab\"/></a>"
      ]
    },
    {
      "cell_type": "markdown",
      "source": [
        "Building a simple ANN using pytorch."
      ],
      "metadata": {
        "id": "eLTxqkQEErBg"
      }
    },
    {
      "cell_type": "markdown",
      "source": [
        "Approach: \\\n",
        "ANN with 784 input layers, then hidden layer with 128 and 64 neurons, then output layer with 10 neurons.\n",
        "\\\n",
        "We're using relu activation in hidden layers and softmax in output layer (multiclass classification)."
      ],
      "metadata": {
        "id": "5XLU4jhWJKcI"
      }
    },
    {
      "cell_type": "markdown",
      "source": [
        "Method: \\\n",
        "Dataloader Objects Creation \\\n",
        "Training Loop \\\n",
        "Evaluation"
      ],
      "metadata": {
        "id": "AddNhIxmJxe_"
      }
    },
    {
      "cell_type": "code",
      "execution_count": 1,
      "metadata": {
        "id": "v-kIs9fIEm2u"
      },
      "outputs": [],
      "source": [
        "import pandas as pd\n",
        "from sklearn.model_selection import train_test_split\n",
        "import torch\n",
        "import torch.nn as nn\n",
        "from torch.utils.data import Dataset, DataLoader\n",
        "import torch.optim as optim\n",
        "import matplotlib.pyplot as plt"
      ]
    },
    {
      "cell_type": "code",
      "source": [
        "torch.manual_seed(42)"
      ],
      "metadata": {
        "colab": {
          "base_uri": "https://localhost:8080/"
        },
        "id": "hPOz5TH4fXoL",
        "outputId": "58ed23c5-af4f-4570-86b6-9aadbe491e7f"
      },
      "execution_count": 2,
      "outputs": [
        {
          "output_type": "execute_result",
          "data": {
            "text/plain": [
              "<torch._C.Generator at 0x7ff5b73a1a90>"
            ]
          },
          "metadata": {},
          "execution_count": 2
        }
      ]
    },
    {
      "cell_type": "code",
      "source": [
        "# Change runtime, then do this to switch to gpu/cuda\n",
        "\n",
        "device = torch.device('cuda' if torch.cuda.is_available() else 'cpu')\n",
        "print(f\"Using device: {device}\")"
      ],
      "metadata": {
        "colab": {
          "base_uri": "https://localhost:8080/"
        },
        "id": "EShTDh41yhmS",
        "outputId": "bc677901-f6c5-468d-c3aa-347996bbbbf2"
      },
      "execution_count": 3,
      "outputs": [
        {
          "output_type": "stream",
          "name": "stdout",
          "text": [
            "Using device: cuda\n"
          ]
        }
      ]
    },
    {
      "cell_type": "code",
      "source": [
        "df = pd.read_csv('fashion-mnist_train.csv')\n",
        "df.head()"
      ],
      "metadata": {
        "colab": {
          "base_uri": "https://localhost:8080/",
          "height": 235
        },
        "id": "jh2Kz9UCfak9",
        "outputId": "442b900d-4daa-4469-93ae-44facb604969"
      },
      "execution_count": 5,
      "outputs": [
        {
          "output_type": "execute_result",
          "data": {
            "text/plain": [
              "   label  pixel1  pixel2  pixel3  pixel4  pixel5  pixel6  pixel7  pixel8  \\\n",
              "0      2       0       0       0       0       0       0       0       0   \n",
              "1      9       0       0       0       0       0       0       0       0   \n",
              "2      6       0       0       0       0       0       0       0       5   \n",
              "3      0       0       0       0       1       2       0       0       0   \n",
              "4      3       0       0       0       0       0       0       0       0   \n",
              "\n",
              "   pixel9  ...  pixel775  pixel776  pixel777  pixel778  pixel779  pixel780  \\\n",
              "0       0  ...         0         0         0         0         0         0   \n",
              "1       0  ...         0         0         0         0         0         0   \n",
              "2       0  ...         0         0         0        30        43         0   \n",
              "3       0  ...         3         0         0         0         0         1   \n",
              "4       0  ...         0         0         0         0         0         0   \n",
              "\n",
              "   pixel781  pixel782  pixel783  pixel784  \n",
              "0         0         0         0         0  \n",
              "1         0         0         0         0  \n",
              "2         0         0         0         0  \n",
              "3         0         0         0         0  \n",
              "4         0         0         0         0  \n",
              "\n",
              "[5 rows x 785 columns]"
            ],
            "text/html": [
              "\n",
              "  <div id=\"df-20443304-04df-4682-8c99-d9c0f6e6747a\" class=\"colab-df-container\">\n",
              "    <div>\n",
              "<style scoped>\n",
              "    .dataframe tbody tr th:only-of-type {\n",
              "        vertical-align: middle;\n",
              "    }\n",
              "\n",
              "    .dataframe tbody tr th {\n",
              "        vertical-align: top;\n",
              "    }\n",
              "\n",
              "    .dataframe thead th {\n",
              "        text-align: right;\n",
              "    }\n",
              "</style>\n",
              "<table border=\"1\" class=\"dataframe\">\n",
              "  <thead>\n",
              "    <tr style=\"text-align: right;\">\n",
              "      <th></th>\n",
              "      <th>label</th>\n",
              "      <th>pixel1</th>\n",
              "      <th>pixel2</th>\n",
              "      <th>pixel3</th>\n",
              "      <th>pixel4</th>\n",
              "      <th>pixel5</th>\n",
              "      <th>pixel6</th>\n",
              "      <th>pixel7</th>\n",
              "      <th>pixel8</th>\n",
              "      <th>pixel9</th>\n",
              "      <th>...</th>\n",
              "      <th>pixel775</th>\n",
              "      <th>pixel776</th>\n",
              "      <th>pixel777</th>\n",
              "      <th>pixel778</th>\n",
              "      <th>pixel779</th>\n",
              "      <th>pixel780</th>\n",
              "      <th>pixel781</th>\n",
              "      <th>pixel782</th>\n",
              "      <th>pixel783</th>\n",
              "      <th>pixel784</th>\n",
              "    </tr>\n",
              "  </thead>\n",
              "  <tbody>\n",
              "    <tr>\n",
              "      <th>0</th>\n",
              "      <td>2</td>\n",
              "      <td>0</td>\n",
              "      <td>0</td>\n",
              "      <td>0</td>\n",
              "      <td>0</td>\n",
              "      <td>0</td>\n",
              "      <td>0</td>\n",
              "      <td>0</td>\n",
              "      <td>0</td>\n",
              "      <td>0</td>\n",
              "      <td>...</td>\n",
              "      <td>0</td>\n",
              "      <td>0</td>\n",
              "      <td>0</td>\n",
              "      <td>0</td>\n",
              "      <td>0</td>\n",
              "      <td>0</td>\n",
              "      <td>0</td>\n",
              "      <td>0</td>\n",
              "      <td>0</td>\n",
              "      <td>0</td>\n",
              "    </tr>\n",
              "    <tr>\n",
              "      <th>1</th>\n",
              "      <td>9</td>\n",
              "      <td>0</td>\n",
              "      <td>0</td>\n",
              "      <td>0</td>\n",
              "      <td>0</td>\n",
              "      <td>0</td>\n",
              "      <td>0</td>\n",
              "      <td>0</td>\n",
              "      <td>0</td>\n",
              "      <td>0</td>\n",
              "      <td>...</td>\n",
              "      <td>0</td>\n",
              "      <td>0</td>\n",
              "      <td>0</td>\n",
              "      <td>0</td>\n",
              "      <td>0</td>\n",
              "      <td>0</td>\n",
              "      <td>0</td>\n",
              "      <td>0</td>\n",
              "      <td>0</td>\n",
              "      <td>0</td>\n",
              "    </tr>\n",
              "    <tr>\n",
              "      <th>2</th>\n",
              "      <td>6</td>\n",
              "      <td>0</td>\n",
              "      <td>0</td>\n",
              "      <td>0</td>\n",
              "      <td>0</td>\n",
              "      <td>0</td>\n",
              "      <td>0</td>\n",
              "      <td>0</td>\n",
              "      <td>5</td>\n",
              "      <td>0</td>\n",
              "      <td>...</td>\n",
              "      <td>0</td>\n",
              "      <td>0</td>\n",
              "      <td>0</td>\n",
              "      <td>30</td>\n",
              "      <td>43</td>\n",
              "      <td>0</td>\n",
              "      <td>0</td>\n",
              "      <td>0</td>\n",
              "      <td>0</td>\n",
              "      <td>0</td>\n",
              "    </tr>\n",
              "    <tr>\n",
              "      <th>3</th>\n",
              "      <td>0</td>\n",
              "      <td>0</td>\n",
              "      <td>0</td>\n",
              "      <td>0</td>\n",
              "      <td>1</td>\n",
              "      <td>2</td>\n",
              "      <td>0</td>\n",
              "      <td>0</td>\n",
              "      <td>0</td>\n",
              "      <td>0</td>\n",
              "      <td>...</td>\n",
              "      <td>3</td>\n",
              "      <td>0</td>\n",
              "      <td>0</td>\n",
              "      <td>0</td>\n",
              "      <td>0</td>\n",
              "      <td>1</td>\n",
              "      <td>0</td>\n",
              "      <td>0</td>\n",
              "      <td>0</td>\n",
              "      <td>0</td>\n",
              "    </tr>\n",
              "    <tr>\n",
              "      <th>4</th>\n",
              "      <td>3</td>\n",
              "      <td>0</td>\n",
              "      <td>0</td>\n",
              "      <td>0</td>\n",
              "      <td>0</td>\n",
              "      <td>0</td>\n",
              "      <td>0</td>\n",
              "      <td>0</td>\n",
              "      <td>0</td>\n",
              "      <td>0</td>\n",
              "      <td>...</td>\n",
              "      <td>0</td>\n",
              "      <td>0</td>\n",
              "      <td>0</td>\n",
              "      <td>0</td>\n",
              "      <td>0</td>\n",
              "      <td>0</td>\n",
              "      <td>0</td>\n",
              "      <td>0</td>\n",
              "      <td>0</td>\n",
              "      <td>0</td>\n",
              "    </tr>\n",
              "  </tbody>\n",
              "</table>\n",
              "<p>5 rows × 785 columns</p>\n",
              "</div>\n",
              "    <div class=\"colab-df-buttons\">\n",
              "\n",
              "  <div class=\"colab-df-container\">\n",
              "    <button class=\"colab-df-convert\" onclick=\"convertToInteractive('df-20443304-04df-4682-8c99-d9c0f6e6747a')\"\n",
              "            title=\"Convert this dataframe to an interactive table.\"\n",
              "            style=\"display:none;\">\n",
              "\n",
              "  <svg xmlns=\"http://www.w3.org/2000/svg\" height=\"24px\" viewBox=\"0 -960 960 960\">\n",
              "    <path d=\"M120-120v-720h720v720H120Zm60-500h600v-160H180v160Zm220 220h160v-160H400v160Zm0 220h160v-160H400v160ZM180-400h160v-160H180v160Zm440 0h160v-160H620v160ZM180-180h160v-160H180v160Zm440 0h160v-160H620v160Z\"/>\n",
              "  </svg>\n",
              "    </button>\n",
              "\n",
              "  <style>\n",
              "    .colab-df-container {\n",
              "      display:flex;\n",
              "      gap: 12px;\n",
              "    }\n",
              "\n",
              "    .colab-df-convert {\n",
              "      background-color: #E8F0FE;\n",
              "      border: none;\n",
              "      border-radius: 50%;\n",
              "      cursor: pointer;\n",
              "      display: none;\n",
              "      fill: #1967D2;\n",
              "      height: 32px;\n",
              "      padding: 0 0 0 0;\n",
              "      width: 32px;\n",
              "    }\n",
              "\n",
              "    .colab-df-convert:hover {\n",
              "      background-color: #E2EBFA;\n",
              "      box-shadow: 0px 1px 2px rgba(60, 64, 67, 0.3), 0px 1px 3px 1px rgba(60, 64, 67, 0.15);\n",
              "      fill: #174EA6;\n",
              "    }\n",
              "\n",
              "    .colab-df-buttons div {\n",
              "      margin-bottom: 4px;\n",
              "    }\n",
              "\n",
              "    [theme=dark] .colab-df-convert {\n",
              "      background-color: #3B4455;\n",
              "      fill: #D2E3FC;\n",
              "    }\n",
              "\n",
              "    [theme=dark] .colab-df-convert:hover {\n",
              "      background-color: #434B5C;\n",
              "      box-shadow: 0px 1px 3px 1px rgba(0, 0, 0, 0.15);\n",
              "      filter: drop-shadow(0px 1px 2px rgba(0, 0, 0, 0.3));\n",
              "      fill: #FFFFFF;\n",
              "    }\n",
              "  </style>\n",
              "\n",
              "    <script>\n",
              "      const buttonEl =\n",
              "        document.querySelector('#df-20443304-04df-4682-8c99-d9c0f6e6747a button.colab-df-convert');\n",
              "      buttonEl.style.display =\n",
              "        google.colab.kernel.accessAllowed ? 'block' : 'none';\n",
              "\n",
              "      async function convertToInteractive(key) {\n",
              "        const element = document.querySelector('#df-20443304-04df-4682-8c99-d9c0f6e6747a');\n",
              "        const dataTable =\n",
              "          await google.colab.kernel.invokeFunction('convertToInteractive',\n",
              "                                                    [key], {});\n",
              "        if (!dataTable) return;\n",
              "\n",
              "        const docLinkHtml = 'Like what you see? Visit the ' +\n",
              "          '<a target=\"_blank\" href=https://colab.research.google.com/notebooks/data_table.ipynb>data table notebook</a>'\n",
              "          + ' to learn more about interactive tables.';\n",
              "        element.innerHTML = '';\n",
              "        dataTable['output_type'] = 'display_data';\n",
              "        await google.colab.output.renderOutput(dataTable, element);\n",
              "        const docLink = document.createElement('div');\n",
              "        docLink.innerHTML = docLinkHtml;\n",
              "        element.appendChild(docLink);\n",
              "      }\n",
              "    </script>\n",
              "  </div>\n",
              "\n",
              "\n",
              "<div id=\"df-1e154e57-17c0-466a-834a-1f280508e895\">\n",
              "  <button class=\"colab-df-quickchart\" onclick=\"quickchart('df-1e154e57-17c0-466a-834a-1f280508e895')\"\n",
              "            title=\"Suggest charts\"\n",
              "            style=\"display:none;\">\n",
              "\n",
              "<svg xmlns=\"http://www.w3.org/2000/svg\" height=\"24px\"viewBox=\"0 0 24 24\"\n",
              "     width=\"24px\">\n",
              "    <g>\n",
              "        <path d=\"M19 3H5c-1.1 0-2 .9-2 2v14c0 1.1.9 2 2 2h14c1.1 0 2-.9 2-2V5c0-1.1-.9-2-2-2zM9 17H7v-7h2v7zm4 0h-2V7h2v10zm4 0h-2v-4h2v4z\"/>\n",
              "    </g>\n",
              "</svg>\n",
              "  </button>\n",
              "\n",
              "<style>\n",
              "  .colab-df-quickchart {\n",
              "      --bg-color: #E8F0FE;\n",
              "      --fill-color: #1967D2;\n",
              "      --hover-bg-color: #E2EBFA;\n",
              "      --hover-fill-color: #174EA6;\n",
              "      --disabled-fill-color: #AAA;\n",
              "      --disabled-bg-color: #DDD;\n",
              "  }\n",
              "\n",
              "  [theme=dark] .colab-df-quickchart {\n",
              "      --bg-color: #3B4455;\n",
              "      --fill-color: #D2E3FC;\n",
              "      --hover-bg-color: #434B5C;\n",
              "      --hover-fill-color: #FFFFFF;\n",
              "      --disabled-bg-color: #3B4455;\n",
              "      --disabled-fill-color: #666;\n",
              "  }\n",
              "\n",
              "  .colab-df-quickchart {\n",
              "    background-color: var(--bg-color);\n",
              "    border: none;\n",
              "    border-radius: 50%;\n",
              "    cursor: pointer;\n",
              "    display: none;\n",
              "    fill: var(--fill-color);\n",
              "    height: 32px;\n",
              "    padding: 0;\n",
              "    width: 32px;\n",
              "  }\n",
              "\n",
              "  .colab-df-quickchart:hover {\n",
              "    background-color: var(--hover-bg-color);\n",
              "    box-shadow: 0 1px 2px rgba(60, 64, 67, 0.3), 0 1px 3px 1px rgba(60, 64, 67, 0.15);\n",
              "    fill: var(--button-hover-fill-color);\n",
              "  }\n",
              "\n",
              "  .colab-df-quickchart-complete:disabled,\n",
              "  .colab-df-quickchart-complete:disabled:hover {\n",
              "    background-color: var(--disabled-bg-color);\n",
              "    fill: var(--disabled-fill-color);\n",
              "    box-shadow: none;\n",
              "  }\n",
              "\n",
              "  .colab-df-spinner {\n",
              "    border: 2px solid var(--fill-color);\n",
              "    border-color: transparent;\n",
              "    border-bottom-color: var(--fill-color);\n",
              "    animation:\n",
              "      spin 1s steps(1) infinite;\n",
              "  }\n",
              "\n",
              "  @keyframes spin {\n",
              "    0% {\n",
              "      border-color: transparent;\n",
              "      border-bottom-color: var(--fill-color);\n",
              "      border-left-color: var(--fill-color);\n",
              "    }\n",
              "    20% {\n",
              "      border-color: transparent;\n",
              "      border-left-color: var(--fill-color);\n",
              "      border-top-color: var(--fill-color);\n",
              "    }\n",
              "    30% {\n",
              "      border-color: transparent;\n",
              "      border-left-color: var(--fill-color);\n",
              "      border-top-color: var(--fill-color);\n",
              "      border-right-color: var(--fill-color);\n",
              "    }\n",
              "    40% {\n",
              "      border-color: transparent;\n",
              "      border-right-color: var(--fill-color);\n",
              "      border-top-color: var(--fill-color);\n",
              "    }\n",
              "    60% {\n",
              "      border-color: transparent;\n",
              "      border-right-color: var(--fill-color);\n",
              "    }\n",
              "    80% {\n",
              "      border-color: transparent;\n",
              "      border-right-color: var(--fill-color);\n",
              "      border-bottom-color: var(--fill-color);\n",
              "    }\n",
              "    90% {\n",
              "      border-color: transparent;\n",
              "      border-bottom-color: var(--fill-color);\n",
              "    }\n",
              "  }\n",
              "</style>\n",
              "\n",
              "  <script>\n",
              "    async function quickchart(key) {\n",
              "      const quickchartButtonEl =\n",
              "        document.querySelector('#' + key + ' button');\n",
              "      quickchartButtonEl.disabled = true;  // To prevent multiple clicks.\n",
              "      quickchartButtonEl.classList.add('colab-df-spinner');\n",
              "      try {\n",
              "        const charts = await google.colab.kernel.invokeFunction(\n",
              "            'suggestCharts', [key], {});\n",
              "      } catch (error) {\n",
              "        console.error('Error during call to suggestCharts:', error);\n",
              "      }\n",
              "      quickchartButtonEl.classList.remove('colab-df-spinner');\n",
              "      quickchartButtonEl.classList.add('colab-df-quickchart-complete');\n",
              "    }\n",
              "    (() => {\n",
              "      let quickchartButtonEl =\n",
              "        document.querySelector('#df-1e154e57-17c0-466a-834a-1f280508e895 button');\n",
              "      quickchartButtonEl.style.display =\n",
              "        google.colab.kernel.accessAllowed ? 'block' : 'none';\n",
              "    })();\n",
              "  </script>\n",
              "</div>\n",
              "\n",
              "    </div>\n",
              "  </div>\n"
            ],
            "application/vnd.google.colaboratory.intrinsic+json": {
              "type": "dataframe",
              "variable_name": "df"
            }
          },
          "metadata": {},
          "execution_count": 5
        }
      ]
    },
    {
      "cell_type": "code",
      "source": [
        "X = df.iloc[:, 1:].values\n",
        "y = df.iloc[:, 0].values"
      ],
      "metadata": {
        "id": "KKcJUQfgffeC"
      },
      "execution_count": 6,
      "outputs": []
    },
    {
      "cell_type": "code",
      "source": [
        "X_train, X_test, y_train, y_test = train_test_split(X, y, test_size=0.2, random_state=42)"
      ],
      "metadata": {
        "id": "3jeUkhsDqY4t"
      },
      "execution_count": 7,
      "outputs": []
    },
    {
      "cell_type": "code",
      "source": [
        "X_train = X_train/255.0\n",
        "X_test = X_test/255.0"
      ],
      "metadata": {
        "id": "UtLZHOFYrQxj"
      },
      "execution_count": 8,
      "outputs": []
    },
    {
      "cell_type": "code",
      "source": [
        "class CustomDataset(Dataset):\n",
        "    def __init__(self, features, labels):\n",
        "        self.features = torch.tensor(features, dtype=torch.float32)\n",
        "        self.labels = torch.tensor(labels, dtype=torch.long)\n",
        "\n",
        "    def __len__(self):\n",
        "        return len(self.features)\n",
        "\n",
        "    def __getitem__(self, index):\n",
        "        return self.features[index], self.labels[index]"
      ],
      "metadata": {
        "id": "bFNnM6EErWFp"
      },
      "execution_count": 9,
      "outputs": []
    },
    {
      "cell_type": "code",
      "source": [
        "train_dataset = CustomDataset(X_train, y_train)"
      ],
      "metadata": {
        "id": "Ai22wwa5ufoJ"
      },
      "execution_count": 10,
      "outputs": []
    },
    {
      "cell_type": "code",
      "source": [
        "len(train_dataset)"
      ],
      "metadata": {
        "colab": {
          "base_uri": "https://localhost:8080/"
        },
        "id": "LES0Rm98ukuW",
        "outputId": "aebb53c4-2dd7-4a3e-cb57-06285d4350cb"
      },
      "execution_count": 11,
      "outputs": [
        {
          "output_type": "execute_result",
          "data": {
            "text/plain": [
              "48000"
            ]
          },
          "metadata": {},
          "execution_count": 11
        }
      ]
    },
    {
      "cell_type": "code",
      "source": [
        "test_dataset = CustomDataset(X_test, y_test)"
      ],
      "metadata": {
        "id": "BlFgXBjyuoDD"
      },
      "execution_count": 12,
      "outputs": []
    },
    {
      "cell_type": "code",
      "source": [
        "train_loader = DataLoader(train_dataset, batch_size=32, shuffle=True)\n",
        "test_loader = DataLoader(test_dataset, batch_size=32, shuffle=False)\n",
        "\n",
        "# can use larger batch size upto 128, also pin_memory=True can be done for better GPU training time."
      ],
      "metadata": {
        "id": "T0MemXLduxoc"
      },
      "execution_count": 13,
      "outputs": []
    },
    {
      "cell_type": "code",
      "source": [
        "class MyNN(nn.Module):\n",
        "    def __init__(self, num_features):\n",
        "      super().__init__()\n",
        "      self.model = nn.Sequential(\n",
        "          nn.Linear(num_features, 128),\n",
        "          nn.ReLU(),\n",
        "          nn.Linear(128,64),\n",
        "          nn.ReLU(),\n",
        "          nn.Linear(64,10)\n",
        "      )\n",
        "\n",
        "    def forward(self, x):\n",
        "      return self.model(x)\n"
      ],
      "metadata": {
        "id": "rfaI3unzvy8A"
      },
      "execution_count": 14,
      "outputs": []
    },
    {
      "cell_type": "code",
      "source": [
        "epochs = 100\n",
        "learning_rate = 0.1"
      ],
      "metadata": {
        "id": "HizGXDt30HWY"
      },
      "execution_count": 15,
      "outputs": []
    },
    {
      "cell_type": "code",
      "source": [
        "# model instantiation\n",
        "model = MyNN(X_train.shape[1])\n",
        "\n",
        "# moving our model to GPU\n",
        "model.to(device)\n",
        "\n",
        "# loss function\n",
        "criterion = nn.CrossEntropyLoss()\n",
        "\n",
        "# optimizer\n",
        "optimizer = optim.SGD(model.parameters(), lr=learning_rate)"
      ],
      "metadata": {
        "id": "5e8fU__90Qjg"
      },
      "execution_count": 16,
      "outputs": []
    },
    {
      "cell_type": "code",
      "source": [
        "# training loop\n",
        "for epoch in range(epochs):\n",
        "  total_epoch_loss = 0\n",
        "\n",
        "  for batch_features, batch_labels in train_loader:\n",
        "\n",
        "    # moving data to GPU\n",
        "    batch_features, batch_labels = batch_features.to(device), batch_labels.to(device)\n",
        "\n",
        "    # forward pass\n",
        "    outputs = model(batch_features)\n",
        "\n",
        "    # calculate loss\n",
        "    loss = criterion(outputs, batch_labels)\n",
        "\n",
        "    # back pass\n",
        "    optimizer.zero_grad()\n",
        "    loss.backward()\n",
        "\n",
        "    # update grads\n",
        "    optimizer.step()\n",
        "\n",
        "    total_epoch_loss = total_epoch_loss + loss.item()\n",
        "\n",
        "  print(f'Epoch: {epoch+1}, Loss: {total_epoch_loss/len(train_loader)}')"
      ],
      "metadata": {
        "colab": {
          "base_uri": "https://localhost:8080/"
        },
        "collapsed": true,
        "id": "3O-_bEU10iTc",
        "outputId": "8cfc1a78-5170-4f64-fc2c-ca19f47d534d"
      },
      "execution_count": 23,
      "outputs": [
        {
          "output_type": "stream",
          "name": "stdout",
          "text": [
            "Epoch: 1, Loss: 0.6280928785204888\n",
            "Epoch: 2, Loss: 0.4941576734731595\n",
            "Epoch: 3, Loss: 0.45573020658393704\n",
            "Epoch: 4, Loss: 0.4350636695971092\n",
            "Epoch: 5, Loss: 0.4201909519781669\n",
            "Epoch: 6, Loss: 0.4028795042385658\n",
            "Epoch: 7, Loss: 0.3912401213447253\n",
            "Epoch: 8, Loss: 0.3810711074322462\n",
            "Epoch: 9, Loss: 0.37584457791348297\n",
            "Epoch: 10, Loss: 0.37036596979449193\n",
            "Epoch: 11, Loss: 0.3614758733610312\n",
            "Epoch: 12, Loss: 0.35659096115330857\n",
            "Epoch: 13, Loss: 0.3522998010913531\n",
            "Epoch: 14, Loss: 0.3461671963557601\n",
            "Epoch: 15, Loss: 0.34683001887301607\n",
            "Epoch: 16, Loss: 0.3393433167487383\n",
            "Epoch: 17, Loss: 0.33526700356105965\n",
            "Epoch: 18, Loss: 0.3289367815256119\n",
            "Epoch: 19, Loss: 0.33349811102449894\n",
            "Epoch: 20, Loss: 0.3246629723310471\n",
            "Epoch: 21, Loss: 0.3270870805929105\n",
            "Epoch: 22, Loss: 0.31952908780177436\n",
            "Epoch: 23, Loss: 0.32093986740956704\n",
            "Epoch: 24, Loss: 0.3154519301230709\n",
            "Epoch: 25, Loss: 0.31319850735614696\n",
            "Epoch: 26, Loss: 0.3146964717457692\n",
            "Epoch: 27, Loss: 0.3122544954617818\n",
            "Epoch: 28, Loss: 0.31243075280388194\n",
            "Epoch: 29, Loss: 0.3042556162079175\n",
            "Epoch: 30, Loss: 0.30955409078796703\n",
            "Epoch: 31, Loss: 0.3064771947239836\n",
            "Epoch: 32, Loss: 0.3017745576351881\n",
            "Epoch: 33, Loss: 0.3024802846709887\n",
            "Epoch: 34, Loss: 0.2993559997603297\n",
            "Epoch: 35, Loss: 0.2962329736674825\n",
            "Epoch: 36, Loss: 0.2990834900562962\n",
            "Epoch: 37, Loss: 0.30051471863438683\n",
            "Epoch: 38, Loss: 0.2938767311622699\n",
            "Epoch: 39, Loss: 0.2936825651278098\n",
            "Epoch: 40, Loss: 0.293759738308688\n",
            "Epoch: 41, Loss: 0.29449366887658834\n",
            "Epoch: 42, Loss: 0.2899069363300999\n",
            "Epoch: 43, Loss: 0.2887615541468064\n",
            "Epoch: 44, Loss: 0.284409709940354\n",
            "Epoch: 45, Loss: 0.2863903314272563\n",
            "Epoch: 46, Loss: 0.2852310966551304\n",
            "Epoch: 47, Loss: 0.2858883694186807\n",
            "Epoch: 48, Loss: 0.28590889457116525\n",
            "Epoch: 49, Loss: 0.2847033375129104\n",
            "Epoch: 50, Loss: 0.2841594114427765\n",
            "Epoch: 51, Loss: 0.2847468753308058\n",
            "Epoch: 52, Loss: 0.281838199245433\n",
            "Epoch: 53, Loss: 0.27836264863610266\n",
            "Epoch: 54, Loss: 0.2814000845948855\n",
            "Epoch: 55, Loss: 0.2748034961397449\n",
            "Epoch: 56, Loss: 0.2789145626537502\n",
            "Epoch: 57, Loss: 0.28073649264127015\n",
            "Epoch: 58, Loss: 0.27902835124979414\n",
            "Epoch: 59, Loss: 0.2744868658110499\n",
            "Epoch: 60, Loss: 0.2776786892289917\n",
            "Epoch: 61, Loss: 0.2785071139683326\n",
            "Epoch: 62, Loss: 0.27221147606770196\n",
            "Epoch: 63, Loss: 0.2747695113172134\n",
            "Epoch: 64, Loss: 0.27222153410812217\n",
            "Epoch: 65, Loss: 0.2763766861632466\n",
            "Epoch: 66, Loss: 0.27192649033168953\n",
            "Epoch: 67, Loss: 0.27024045768380167\n",
            "Epoch: 68, Loss: 0.269885791969796\n",
            "Epoch: 69, Loss: 0.2706110744476318\n",
            "Epoch: 70, Loss: 0.27268043063332636\n",
            "Epoch: 71, Loss: 0.2711182149897019\n",
            "Epoch: 72, Loss: 0.2689046992609898\n",
            "Epoch: 73, Loss: 0.27286234774067997\n",
            "Epoch: 74, Loss: 0.26919695975879826\n",
            "Epoch: 75, Loss: 0.2698173382903139\n",
            "Epoch: 76, Loss: 0.2652193625171979\n",
            "Epoch: 77, Loss: 0.2680436391830444\n",
            "Epoch: 78, Loss: 0.2645658546835184\n",
            "Epoch: 79, Loss: 0.26608278838545085\n",
            "Epoch: 80, Loss: 0.2683412711073955\n",
            "Epoch: 81, Loss: 0.26400296511873605\n",
            "Epoch: 82, Loss: 0.2657284121438861\n",
            "Epoch: 83, Loss: 0.26376113175352417\n",
            "Epoch: 84, Loss: 0.263131367025276\n",
            "Epoch: 85, Loss: 0.26513373572131\n",
            "Epoch: 86, Loss: 0.2630960869366924\n",
            "Epoch: 87, Loss: 0.2639314092124502\n",
            "Epoch: 88, Loss: 0.2635434253551066\n",
            "Epoch: 89, Loss: 0.2610697547184924\n",
            "Epoch: 90, Loss: 0.26100886103510856\n",
            "Epoch: 91, Loss: 0.2595650084391236\n",
            "Epoch: 92, Loss: 0.26692782844851415\n",
            "Epoch: 93, Loss: 0.25911591909329096\n",
            "Epoch: 94, Loss: 0.26091462012628713\n",
            "Epoch: 95, Loss: 0.25765388046453397\n",
            "Epoch: 96, Loss: 0.2586809463997682\n",
            "Epoch: 97, Loss: 0.2605394995287061\n",
            "Epoch: 98, Loss: 0.2596978888536493\n",
            "Epoch: 99, Loss: 0.2580636628145973\n",
            "Epoch: 100, Loss: 0.2596655753776431\n"
          ]
        }
      ]
    },
    {
      "cell_type": "code",
      "source": [
        "# Set model to evaluation mode\n",
        "model.eval()"
      ],
      "metadata": {
        "colab": {
          "base_uri": "https://localhost:8080/"
        },
        "id": "QpdFTkGN1YbU",
        "outputId": "3a815dde-1519-433f-a536-015b5d719954"
      },
      "execution_count": 24,
      "outputs": [
        {
          "output_type": "execute_result",
          "data": {
            "text/plain": [
              "MyNN(\n",
              "  (model): Sequential(\n",
              "    (0): Linear(in_features=784, out_features=128, bias=True)\n",
              "    (1): BatchNorm1d(128, eps=1e-05, momentum=0.1, affine=True, track_running_stats=True)\n",
              "    (2): ReLU()\n",
              "    (3): Dropout(p=0.3, inplace=False)\n",
              "    (4): Linear(in_features=128, out_features=64, bias=True)\n",
              "    (5): BatchNorm1d(64, eps=1e-05, momentum=0.1, affine=True, track_running_stats=True)\n",
              "    (6): ReLU()\n",
              "    (7): Dropout(p=0.3, inplace=False)\n",
              "    (8): Linear(in_features=64, out_features=10, bias=True)\n",
              "  )\n",
              ")"
            ]
          },
          "metadata": {},
          "execution_count": 24
        }
      ]
    },
    {
      "cell_type": "code",
      "source": [
        "# evaluation code\n",
        "total = 0\n",
        "correct = 0\n",
        "with torch.no_grad():\n",
        "  for batch_features, batch_labels in test_loader:\n",
        "\n",
        "    # moving data to GPU\n",
        "    batch_features, batch_labels = batch_features.to(device), batch_labels.to(device)\n",
        "\n",
        "\n",
        "    outputs = model(batch_features)\n",
        "    _, predicted = torch.max(outputs, 1)\n",
        "    total += batch_labels.shape[0]\n",
        "    correct += (predicted == batch_labels).sum().item()\n",
        "print(correct/total)\n",
        "\n",
        "\n",
        "# Compares the predicted labels (predicted) with the true labels (batch_labels) using the equality operator (==).\n",
        "# (predicted == batch_labels) produces a tensor of Boolean values where True indicates a correct prediction.\n",
        "# .sum() counts the number of True values in the tensor (i.e., the number of correct predictions in the batch).\n",
        "# .item() converts the scalar tensor value to a Python integer."
      ],
      "metadata": {
        "colab": {
          "base_uri": "https://localhost:8080/"
        },
        "id": "fsy8D4XT4kNB",
        "outputId": "9ec7b4a5-39e9-4a5f-928d-ce7dc3c166a9"
      },
      "execution_count": 28,
      "outputs": [
        {
          "output_type": "stream",
          "name": "stdout",
          "text": [
            "0.889\n"
          ]
        }
      ]
    },
    {
      "cell_type": "code",
      "source": [
        "total = 0\n",
        "correct = 0\n",
        "with torch.no_grad():\n",
        "  for batch_features, batch_labels in train_loader:\n",
        "\n",
        "    # moving data to GPU\n",
        "    batch_features, batch_labels = batch_features.to(device), batch_labels.to(device)\n",
        "\n",
        "\n",
        "    outputs = model(batch_features)\n",
        "    _, predicted = torch.max(outputs, 1)\n",
        "    total += batch_labels.shape[0]\n",
        "    correct += (predicted == batch_labels).sum().item()\n",
        "print(correct/total)\n"
      ],
      "metadata": {
        "id": "i8CGYdlm7Dxx",
        "colab": {
          "base_uri": "https://localhost:8080/"
        },
        "outputId": "ea1ac1c9-59f0-4caa-cbe3-7428f912dd1b"
      },
      "execution_count": 27,
      "outputs": [
        {
          "output_type": "stream",
          "name": "stdout",
          "text": [
            "0.9399583333333333\n"
          ]
        }
      ]
    },
    {
      "cell_type": "markdown",
      "source": [
        "## Reducing Overfitting\n",
        "Our model seems to overfit, because it has low performance in test data, but high in train data. \\\n",
        "So we need to reduce ovrfitting by optimization."
      ],
      "metadata": {
        "id": "7VPumyahHG_G"
      }
    },
    {
      "cell_type": "markdown",
      "source": [
        "We can reduce overfitting by:\n",
        "1. Adding more data\n",
        "2. Reducing complexity of NN arch\n",
        "3. Regularization (adding penalty term in loss function, so our model aims to balance that penalty as well, reducing overfitting) (we can do this here)\n",
        "4. Dropout (turning off random neurons during forward propagation) (can do this as well)\n",
        "5. Data Augmentation (modifying our inputs by little, applying transformations to increase variations, for CNN arch usually)\n",
        "6. Batch Normalization (can be used)\n",
        "7. Early Stopping (stopping training in earlier epochs)\n",
        ""
      ],
      "metadata": {
        "id": "h0rVTC6PHZei"
      }
    },
    {
      "cell_type": "markdown",
      "source": [
        "So, here we'll try\n",
        "- Regularization\n",
        "- Dropouts\n",
        "- Batch Normalization"
      ],
      "metadata": {
        "id": "R0QXoSxAISGt"
      }
    },
    {
      "cell_type": "markdown",
      "source": [
        "### Dropouts\n",
        "Dropouts are always applied to hidden layers after using the ReLU activation function.\n",
        "\\\n",
        "We specify via p how much neurons we want to turn off.\\\n",
        "We do not use dropouts during evaluation.\n"
      ],
      "metadata": {
        "id": "a58mnxeKJKYB"
      }
    },
    {
      "cell_type": "markdown",
      "source": [
        "### Batch Normalization\n",
        "improves training stability by normalizing the rapidly changing parameters. \\\n",
        "- applied to hidden layers\n",
        "- applied after linear layers and before activation functions\n",
        "- normalizes activations\n",
        "- includes learnable parameters (gamma and beta for scaling and shifting)\n",
        "- reduces internal covariate shift, stabilizing training process\n",
        "- regularization effect as statistics computation adds noise to the training process\n",
        "- during evaluation, batchNorm uses the running mean and variance accumulated during training"
      ],
      "metadata": {
        "id": "I1dwWCXUKR8N"
      }
    },
    {
      "cell_type": "markdown",
      "source": [
        "### L2 Regularization\n",
        "- Done upon optimizer. \\\n",
        "The original loss function has a penalty term added. L2 has a squared penalty term, L1 has modulus value only. \\\n",
        "This reduces overfitting by increasing noise.\n",
        "- Only done upon weights, not biases. \\\n",
        "Loss = Loss + λ ∑w^2\n",
        "- directly modifies gradient update rule, subtracting with decay (shrinking weights). \\\n",
        "w = w - η(∇Loss+λw)\n",
        "\\\n",
        "This reduces load over one neuron.\n",
        "\\\n",
        "- value of λ determines how much this effect we need here.\n",
        "- affects only during training."
      ],
      "metadata": {
        "id": "a1RJ7w7RL4c5"
      }
    },
    {
      "cell_type": "markdown",
      "source": [
        "### Implementation (Dropouts and BatchNorm)"
      ],
      "metadata": {
        "id": "Hz-Tps0qL-cV"
      }
    },
    {
      "cell_type": "code",
      "source": [
        "class MyNN(nn.Module):\n",
        "    def __init__(self, num_features):\n",
        "      super().__init__()\n",
        "      self.model = nn.Sequential(\n",
        "          nn.Linear(num_features, 128),\n",
        "\n",
        "          nn.BatchNorm1d(128),     # argument is the no of parameters we're receiving\n",
        "\n",
        "          nn.ReLU(),\n",
        "\n",
        "          nn.Dropout(p=0.3),     # 30% of neurons to turn off\n",
        "\n",
        "          nn.Linear(128,64),\n",
        "\n",
        "          nn.BatchNorm1d(64),       # same here\n",
        "\n",
        "          nn.ReLU(),\n",
        "\n",
        "          nn.Dropout(p=0.3),     # 30% of neurons to turn off\n",
        "\n",
        "          nn.Linear(64,10)\n",
        "      )\n",
        "\n",
        "    def forward(self, x):\n",
        "      return self.model(x)\n",
        "\n",
        "epochs = 100\n",
        "learning_rate = 0.1"
      ],
      "metadata": {
        "id": "HFpE6eFqKU3a"
      },
      "execution_count": 21,
      "outputs": []
    },
    {
      "cell_type": "markdown",
      "source": [
        "### Implementation (L2 Regularization)"
      ],
      "metadata": {
        "id": "BsVF8KzTNcB8"
      }
    },
    {
      "cell_type": "code",
      "source": [
        "# model instantiation\n",
        "model = MyNN(X_train.shape[1])\n",
        "\n",
        "# moving our model to GPU\n",
        "model.to(device)\n",
        "\n",
        "# loss function\n",
        "criterion = nn.CrossEntropyLoss()\n",
        "\n",
        "# optimizer\n",
        "optimizer = optim.SGD(model.parameters(), lr=learning_rate, weight_decay=1e-4)     # This weight decay addition is enough.\n"
      ],
      "metadata": {
        "id": "g6H8IE2nNgEw"
      },
      "execution_count": 22,
      "outputs": []
    }
  ]
}