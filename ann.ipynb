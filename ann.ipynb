{
  "nbformat": 4,
  "nbformat_minor": 0,
  "metadata": {
    "colab": {
      "provenance": [],
      "gpuType": "T4",
      "authorship_tag": "ABX9TyOgFO/IZEfoTdaw/SKJi22h",
      "include_colab_link": true
    },
    "kernelspec": {
      "name": "python3",
      "display_name": "Python 3"
    },
    "language_info": {
      "name": "python"
    },
    "accelerator": "GPU"
  },
  "cells": [
    {
      "cell_type": "markdown",
      "metadata": {
        "id": "view-in-github",
        "colab_type": "text"
      },
      "source": [
        "<a href=\"https://colab.research.google.com/github/and-is/learning-pytorch/blob/main/ann.ipynb\" target=\"_parent\"><img src=\"https://colab.research.google.com/assets/colab-badge.svg\" alt=\"Open In Colab\"/></a>"
      ]
    },
    {
      "cell_type": "markdown",
      "source": [
        "Building a simple ANN using pytorch."
      ],
      "metadata": {
        "id": "eLTxqkQEErBg"
      }
    },
    {
      "cell_type": "markdown",
      "source": [
        "Approach: \\\n",
        "ANN with 784 input layers, then hidden layer with 128 and 64 neurons, then output layer with 10 neurons.\n",
        "\\\n",
        "We're using relu activation in hidden layers and softmax in output layer (multiclass classification)."
      ],
      "metadata": {
        "id": "5XLU4jhWJKcI"
      }
    },
    {
      "cell_type": "markdown",
      "source": [
        "Method: \\\n",
        "Dataloader Objects Creation \\\n",
        "Training Loop \\\n",
        "Evaluation"
      ],
      "metadata": {
        "id": "AddNhIxmJxe_"
      }
    },
    {
      "cell_type": "code",
      "execution_count": 29,
      "metadata": {
        "id": "v-kIs9fIEm2u"
      },
      "outputs": [],
      "source": [
        "import pandas as pd\n",
        "from sklearn.model_selection import train_test_split\n",
        "import torch\n",
        "import torch.nn as nn\n",
        "from torch.utils.data import Dataset, DataLoader\n",
        "import torch.optim as optim\n",
        "import matplotlib.pyplot as plt"
      ]
    },
    {
      "cell_type": "code",
      "source": [
        "torch.manual_seed(42)"
      ],
      "metadata": {
        "colab": {
          "base_uri": "https://localhost:8080/"
        },
        "id": "hPOz5TH4fXoL",
        "outputId": "317da8d0-b02e-417c-c9bb-bfe6704b3b2e"
      },
      "execution_count": 30,
      "outputs": [
        {
          "output_type": "execute_result",
          "data": {
            "text/plain": [
              "<torch._C.Generator at 0x79067aea5b30>"
            ]
          },
          "metadata": {},
          "execution_count": 30
        }
      ]
    },
    {
      "cell_type": "code",
      "source": [
        "# Change runtime, then do this to switch to gpu/cuda\n",
        "\n",
        "device = torch.device('cuda' if torch.cuda.is_available() else 'cpu')\n",
        "print(f\"Using device: {device}\")"
      ],
      "metadata": {
        "colab": {
          "base_uri": "https://localhost:8080/"
        },
        "id": "EShTDh41yhmS",
        "outputId": "11f58d82-a803-44fe-b746-d3c399b45344"
      },
      "execution_count": 31,
      "outputs": [
        {
          "output_type": "stream",
          "name": "stdout",
          "text": [
            "Using device: cuda\n"
          ]
        }
      ]
    },
    {
      "cell_type": "code",
      "source": [
        "df = pd.read_csv('fashion-mnist_train.csv')\n",
        "df.head()"
      ],
      "metadata": {
        "colab": {
          "base_uri": "https://localhost:8080/",
          "height": 255
        },
        "id": "jh2Kz9UCfak9",
        "outputId": "3f08ba70-8101-4ffa-e6be-cfa3642875a7"
      },
      "execution_count": 32,
      "outputs": [
        {
          "output_type": "execute_result",
          "data": {
            "text/plain": [
              "   label  pixel1  pixel2  pixel3  pixel4  pixel5  pixel6  pixel7  pixel8  \\\n",
              "0      2       0       0       0       0       0       0       0       0   \n",
              "1      9       0       0       0       0       0       0       0       0   \n",
              "2      6       0       0       0       0       0       0       0       5   \n",
              "3      0       0       0       0       1       2       0       0       0   \n",
              "4      3       0       0       0       0       0       0       0       0   \n",
              "\n",
              "   pixel9  ...  pixel775  pixel776  pixel777  pixel778  pixel779  pixel780  \\\n",
              "0       0  ...         0         0         0         0         0         0   \n",
              "1       0  ...         0         0         0         0         0         0   \n",
              "2       0  ...         0         0         0        30        43         0   \n",
              "3       0  ...         3         0         0         0         0         1   \n",
              "4       0  ...         0         0         0         0         0         0   \n",
              "\n",
              "   pixel781  pixel782  pixel783  pixel784  \n",
              "0         0         0         0         0  \n",
              "1         0         0         0         0  \n",
              "2         0         0         0         0  \n",
              "3         0         0         0         0  \n",
              "4         0         0         0         0  \n",
              "\n",
              "[5 rows x 785 columns]"
            ],
            "text/html": [
              "\n",
              "  <div id=\"df-d32fb8f1-f21f-4271-b143-5a1d5397ff89\" class=\"colab-df-container\">\n",
              "    <div>\n",
              "<style scoped>\n",
              "    .dataframe tbody tr th:only-of-type {\n",
              "        vertical-align: middle;\n",
              "    }\n",
              "\n",
              "    .dataframe tbody tr th {\n",
              "        vertical-align: top;\n",
              "    }\n",
              "\n",
              "    .dataframe thead th {\n",
              "        text-align: right;\n",
              "    }\n",
              "</style>\n",
              "<table border=\"1\" class=\"dataframe\">\n",
              "  <thead>\n",
              "    <tr style=\"text-align: right;\">\n",
              "      <th></th>\n",
              "      <th>label</th>\n",
              "      <th>pixel1</th>\n",
              "      <th>pixel2</th>\n",
              "      <th>pixel3</th>\n",
              "      <th>pixel4</th>\n",
              "      <th>pixel5</th>\n",
              "      <th>pixel6</th>\n",
              "      <th>pixel7</th>\n",
              "      <th>pixel8</th>\n",
              "      <th>pixel9</th>\n",
              "      <th>...</th>\n",
              "      <th>pixel775</th>\n",
              "      <th>pixel776</th>\n",
              "      <th>pixel777</th>\n",
              "      <th>pixel778</th>\n",
              "      <th>pixel779</th>\n",
              "      <th>pixel780</th>\n",
              "      <th>pixel781</th>\n",
              "      <th>pixel782</th>\n",
              "      <th>pixel783</th>\n",
              "      <th>pixel784</th>\n",
              "    </tr>\n",
              "  </thead>\n",
              "  <tbody>\n",
              "    <tr>\n",
              "      <th>0</th>\n",
              "      <td>2</td>\n",
              "      <td>0</td>\n",
              "      <td>0</td>\n",
              "      <td>0</td>\n",
              "      <td>0</td>\n",
              "      <td>0</td>\n",
              "      <td>0</td>\n",
              "      <td>0</td>\n",
              "      <td>0</td>\n",
              "      <td>0</td>\n",
              "      <td>...</td>\n",
              "      <td>0</td>\n",
              "      <td>0</td>\n",
              "      <td>0</td>\n",
              "      <td>0</td>\n",
              "      <td>0</td>\n",
              "      <td>0</td>\n",
              "      <td>0</td>\n",
              "      <td>0</td>\n",
              "      <td>0</td>\n",
              "      <td>0</td>\n",
              "    </tr>\n",
              "    <tr>\n",
              "      <th>1</th>\n",
              "      <td>9</td>\n",
              "      <td>0</td>\n",
              "      <td>0</td>\n",
              "      <td>0</td>\n",
              "      <td>0</td>\n",
              "      <td>0</td>\n",
              "      <td>0</td>\n",
              "      <td>0</td>\n",
              "      <td>0</td>\n",
              "      <td>0</td>\n",
              "      <td>...</td>\n",
              "      <td>0</td>\n",
              "      <td>0</td>\n",
              "      <td>0</td>\n",
              "      <td>0</td>\n",
              "      <td>0</td>\n",
              "      <td>0</td>\n",
              "      <td>0</td>\n",
              "      <td>0</td>\n",
              "      <td>0</td>\n",
              "      <td>0</td>\n",
              "    </tr>\n",
              "    <tr>\n",
              "      <th>2</th>\n",
              "      <td>6</td>\n",
              "      <td>0</td>\n",
              "      <td>0</td>\n",
              "      <td>0</td>\n",
              "      <td>0</td>\n",
              "      <td>0</td>\n",
              "      <td>0</td>\n",
              "      <td>0</td>\n",
              "      <td>5</td>\n",
              "      <td>0</td>\n",
              "      <td>...</td>\n",
              "      <td>0</td>\n",
              "      <td>0</td>\n",
              "      <td>0</td>\n",
              "      <td>30</td>\n",
              "      <td>43</td>\n",
              "      <td>0</td>\n",
              "      <td>0</td>\n",
              "      <td>0</td>\n",
              "      <td>0</td>\n",
              "      <td>0</td>\n",
              "    </tr>\n",
              "    <tr>\n",
              "      <th>3</th>\n",
              "      <td>0</td>\n",
              "      <td>0</td>\n",
              "      <td>0</td>\n",
              "      <td>0</td>\n",
              "      <td>1</td>\n",
              "      <td>2</td>\n",
              "      <td>0</td>\n",
              "      <td>0</td>\n",
              "      <td>0</td>\n",
              "      <td>0</td>\n",
              "      <td>...</td>\n",
              "      <td>3</td>\n",
              "      <td>0</td>\n",
              "      <td>0</td>\n",
              "      <td>0</td>\n",
              "      <td>0</td>\n",
              "      <td>1</td>\n",
              "      <td>0</td>\n",
              "      <td>0</td>\n",
              "      <td>0</td>\n",
              "      <td>0</td>\n",
              "    </tr>\n",
              "    <tr>\n",
              "      <th>4</th>\n",
              "      <td>3</td>\n",
              "      <td>0</td>\n",
              "      <td>0</td>\n",
              "      <td>0</td>\n",
              "      <td>0</td>\n",
              "      <td>0</td>\n",
              "      <td>0</td>\n",
              "      <td>0</td>\n",
              "      <td>0</td>\n",
              "      <td>0</td>\n",
              "      <td>...</td>\n",
              "      <td>0</td>\n",
              "      <td>0</td>\n",
              "      <td>0</td>\n",
              "      <td>0</td>\n",
              "      <td>0</td>\n",
              "      <td>0</td>\n",
              "      <td>0</td>\n",
              "      <td>0</td>\n",
              "      <td>0</td>\n",
              "      <td>0</td>\n",
              "    </tr>\n",
              "  </tbody>\n",
              "</table>\n",
              "<p>5 rows × 785 columns</p>\n",
              "</div>\n",
              "    <div class=\"colab-df-buttons\">\n",
              "\n",
              "  <div class=\"colab-df-container\">\n",
              "    <button class=\"colab-df-convert\" onclick=\"convertToInteractive('df-d32fb8f1-f21f-4271-b143-5a1d5397ff89')\"\n",
              "            title=\"Convert this dataframe to an interactive table.\"\n",
              "            style=\"display:none;\">\n",
              "\n",
              "  <svg xmlns=\"http://www.w3.org/2000/svg\" height=\"24px\" viewBox=\"0 -960 960 960\">\n",
              "    <path d=\"M120-120v-720h720v720H120Zm60-500h600v-160H180v160Zm220 220h160v-160H400v160Zm0 220h160v-160H400v160ZM180-400h160v-160H180v160Zm440 0h160v-160H620v160ZM180-180h160v-160H180v160Zm440 0h160v-160H620v160Z\"/>\n",
              "  </svg>\n",
              "    </button>\n",
              "\n",
              "  <style>\n",
              "    .colab-df-container {\n",
              "      display:flex;\n",
              "      gap: 12px;\n",
              "    }\n",
              "\n",
              "    .colab-df-convert {\n",
              "      background-color: #E8F0FE;\n",
              "      border: none;\n",
              "      border-radius: 50%;\n",
              "      cursor: pointer;\n",
              "      display: none;\n",
              "      fill: #1967D2;\n",
              "      height: 32px;\n",
              "      padding: 0 0 0 0;\n",
              "      width: 32px;\n",
              "    }\n",
              "\n",
              "    .colab-df-convert:hover {\n",
              "      background-color: #E2EBFA;\n",
              "      box-shadow: 0px 1px 2px rgba(60, 64, 67, 0.3), 0px 1px 3px 1px rgba(60, 64, 67, 0.15);\n",
              "      fill: #174EA6;\n",
              "    }\n",
              "\n",
              "    .colab-df-buttons div {\n",
              "      margin-bottom: 4px;\n",
              "    }\n",
              "\n",
              "    [theme=dark] .colab-df-convert {\n",
              "      background-color: #3B4455;\n",
              "      fill: #D2E3FC;\n",
              "    }\n",
              "\n",
              "    [theme=dark] .colab-df-convert:hover {\n",
              "      background-color: #434B5C;\n",
              "      box-shadow: 0px 1px 3px 1px rgba(0, 0, 0, 0.15);\n",
              "      filter: drop-shadow(0px 1px 2px rgba(0, 0, 0, 0.3));\n",
              "      fill: #FFFFFF;\n",
              "    }\n",
              "  </style>\n",
              "\n",
              "    <script>\n",
              "      const buttonEl =\n",
              "        document.querySelector('#df-d32fb8f1-f21f-4271-b143-5a1d5397ff89 button.colab-df-convert');\n",
              "      buttonEl.style.display =\n",
              "        google.colab.kernel.accessAllowed ? 'block' : 'none';\n",
              "\n",
              "      async function convertToInteractive(key) {\n",
              "        const element = document.querySelector('#df-d32fb8f1-f21f-4271-b143-5a1d5397ff89');\n",
              "        const dataTable =\n",
              "          await google.colab.kernel.invokeFunction('convertToInteractive',\n",
              "                                                    [key], {});\n",
              "        if (!dataTable) return;\n",
              "\n",
              "        const docLinkHtml = 'Like what you see? Visit the ' +\n",
              "          '<a target=\"_blank\" href=https://colab.research.google.com/notebooks/data_table.ipynb>data table notebook</a>'\n",
              "          + ' to learn more about interactive tables.';\n",
              "        element.innerHTML = '';\n",
              "        dataTable['output_type'] = 'display_data';\n",
              "        await google.colab.output.renderOutput(dataTable, element);\n",
              "        const docLink = document.createElement('div');\n",
              "        docLink.innerHTML = docLinkHtml;\n",
              "        element.appendChild(docLink);\n",
              "      }\n",
              "    </script>\n",
              "  </div>\n",
              "\n",
              "\n",
              "<div id=\"df-ddd60839-ebf2-4f41-824e-e8f7618dcd23\">\n",
              "  <button class=\"colab-df-quickchart\" onclick=\"quickchart('df-ddd60839-ebf2-4f41-824e-e8f7618dcd23')\"\n",
              "            title=\"Suggest charts\"\n",
              "            style=\"display:none;\">\n",
              "\n",
              "<svg xmlns=\"http://www.w3.org/2000/svg\" height=\"24px\"viewBox=\"0 0 24 24\"\n",
              "     width=\"24px\">\n",
              "    <g>\n",
              "        <path d=\"M19 3H5c-1.1 0-2 .9-2 2v14c0 1.1.9 2 2 2h14c1.1 0 2-.9 2-2V5c0-1.1-.9-2-2-2zM9 17H7v-7h2v7zm4 0h-2V7h2v10zm4 0h-2v-4h2v4z\"/>\n",
              "    </g>\n",
              "</svg>\n",
              "  </button>\n",
              "\n",
              "<style>\n",
              "  .colab-df-quickchart {\n",
              "      --bg-color: #E8F0FE;\n",
              "      --fill-color: #1967D2;\n",
              "      --hover-bg-color: #E2EBFA;\n",
              "      --hover-fill-color: #174EA6;\n",
              "      --disabled-fill-color: #AAA;\n",
              "      --disabled-bg-color: #DDD;\n",
              "  }\n",
              "\n",
              "  [theme=dark] .colab-df-quickchart {\n",
              "      --bg-color: #3B4455;\n",
              "      --fill-color: #D2E3FC;\n",
              "      --hover-bg-color: #434B5C;\n",
              "      --hover-fill-color: #FFFFFF;\n",
              "      --disabled-bg-color: #3B4455;\n",
              "      --disabled-fill-color: #666;\n",
              "  }\n",
              "\n",
              "  .colab-df-quickchart {\n",
              "    background-color: var(--bg-color);\n",
              "    border: none;\n",
              "    border-radius: 50%;\n",
              "    cursor: pointer;\n",
              "    display: none;\n",
              "    fill: var(--fill-color);\n",
              "    height: 32px;\n",
              "    padding: 0;\n",
              "    width: 32px;\n",
              "  }\n",
              "\n",
              "  .colab-df-quickchart:hover {\n",
              "    background-color: var(--hover-bg-color);\n",
              "    box-shadow: 0 1px 2px rgba(60, 64, 67, 0.3), 0 1px 3px 1px rgba(60, 64, 67, 0.15);\n",
              "    fill: var(--button-hover-fill-color);\n",
              "  }\n",
              "\n",
              "  .colab-df-quickchart-complete:disabled,\n",
              "  .colab-df-quickchart-complete:disabled:hover {\n",
              "    background-color: var(--disabled-bg-color);\n",
              "    fill: var(--disabled-fill-color);\n",
              "    box-shadow: none;\n",
              "  }\n",
              "\n",
              "  .colab-df-spinner {\n",
              "    border: 2px solid var(--fill-color);\n",
              "    border-color: transparent;\n",
              "    border-bottom-color: var(--fill-color);\n",
              "    animation:\n",
              "      spin 1s steps(1) infinite;\n",
              "  }\n",
              "\n",
              "  @keyframes spin {\n",
              "    0% {\n",
              "      border-color: transparent;\n",
              "      border-bottom-color: var(--fill-color);\n",
              "      border-left-color: var(--fill-color);\n",
              "    }\n",
              "    20% {\n",
              "      border-color: transparent;\n",
              "      border-left-color: var(--fill-color);\n",
              "      border-top-color: var(--fill-color);\n",
              "    }\n",
              "    30% {\n",
              "      border-color: transparent;\n",
              "      border-left-color: var(--fill-color);\n",
              "      border-top-color: var(--fill-color);\n",
              "      border-right-color: var(--fill-color);\n",
              "    }\n",
              "    40% {\n",
              "      border-color: transparent;\n",
              "      border-right-color: var(--fill-color);\n",
              "      border-top-color: var(--fill-color);\n",
              "    }\n",
              "    60% {\n",
              "      border-color: transparent;\n",
              "      border-right-color: var(--fill-color);\n",
              "    }\n",
              "    80% {\n",
              "      border-color: transparent;\n",
              "      border-right-color: var(--fill-color);\n",
              "      border-bottom-color: var(--fill-color);\n",
              "    }\n",
              "    90% {\n",
              "      border-color: transparent;\n",
              "      border-bottom-color: var(--fill-color);\n",
              "    }\n",
              "  }\n",
              "</style>\n",
              "\n",
              "  <script>\n",
              "    async function quickchart(key) {\n",
              "      const quickchartButtonEl =\n",
              "        document.querySelector('#' + key + ' button');\n",
              "      quickchartButtonEl.disabled = true;  // To prevent multiple clicks.\n",
              "      quickchartButtonEl.classList.add('colab-df-spinner');\n",
              "      try {\n",
              "        const charts = await google.colab.kernel.invokeFunction(\n",
              "            'suggestCharts', [key], {});\n",
              "      } catch (error) {\n",
              "        console.error('Error during call to suggestCharts:', error);\n",
              "      }\n",
              "      quickchartButtonEl.classList.remove('colab-df-spinner');\n",
              "      quickchartButtonEl.classList.add('colab-df-quickchart-complete');\n",
              "    }\n",
              "    (() => {\n",
              "      let quickchartButtonEl =\n",
              "        document.querySelector('#df-ddd60839-ebf2-4f41-824e-e8f7618dcd23 button');\n",
              "      quickchartButtonEl.style.display =\n",
              "        google.colab.kernel.accessAllowed ? 'block' : 'none';\n",
              "    })();\n",
              "  </script>\n",
              "</div>\n",
              "\n",
              "    </div>\n",
              "  </div>\n"
            ],
            "application/vnd.google.colaboratory.intrinsic+json": {
              "type": "dataframe",
              "variable_name": "df"
            }
          },
          "metadata": {},
          "execution_count": 32
        }
      ]
    },
    {
      "cell_type": "code",
      "source": [
        "X = df.iloc[:, 1:].values\n",
        "y = df.iloc[:, 0].values"
      ],
      "metadata": {
        "id": "KKcJUQfgffeC"
      },
      "execution_count": 33,
      "outputs": []
    },
    {
      "cell_type": "code",
      "source": [
        "X_train, X_test, y_train, y_test = train_test_split(X, y, test_size=0.2, random_state=42)"
      ],
      "metadata": {
        "id": "3jeUkhsDqY4t"
      },
      "execution_count": 34,
      "outputs": []
    },
    {
      "cell_type": "code",
      "source": [
        "X_train = X_train/255.0\n",
        "X_test = X_test/255.0"
      ],
      "metadata": {
        "id": "UtLZHOFYrQxj"
      },
      "execution_count": 35,
      "outputs": []
    },
    {
      "cell_type": "code",
      "source": [
        "class CustomDataset(Dataset):\n",
        "    def __init__(self, features, labels):\n",
        "        self.features = torch.tensor(features, dtype=torch.float32)\n",
        "        self.labels = torch.tensor(labels, dtype=torch.long)\n",
        "\n",
        "    def __len__(self):\n",
        "        return len(self.features)\n",
        "\n",
        "    def __getitem__(self, index):\n",
        "        return self.features[index], self.labels[index]"
      ],
      "metadata": {
        "id": "bFNnM6EErWFp"
      },
      "execution_count": 36,
      "outputs": []
    },
    {
      "cell_type": "code",
      "source": [
        "train_dataset = CustomDataset(X_train, y_train)"
      ],
      "metadata": {
        "id": "Ai22wwa5ufoJ"
      },
      "execution_count": 37,
      "outputs": []
    },
    {
      "cell_type": "code",
      "source": [
        "len(train_dataset)"
      ],
      "metadata": {
        "colab": {
          "base_uri": "https://localhost:8080/"
        },
        "id": "LES0Rm98ukuW",
        "outputId": "e04818bb-0976-4152-ed8a-76b82a121a66"
      },
      "execution_count": 38,
      "outputs": [
        {
          "output_type": "execute_result",
          "data": {
            "text/plain": [
              "48000"
            ]
          },
          "metadata": {},
          "execution_count": 38
        }
      ]
    },
    {
      "cell_type": "code",
      "source": [
        "test_dataset = CustomDataset(X_test, y_test)"
      ],
      "metadata": {
        "id": "BlFgXBjyuoDD"
      },
      "execution_count": 39,
      "outputs": []
    },
    {
      "cell_type": "code",
      "source": [
        "train_loader = DataLoader(train_dataset, batch_size=32, shuffle=True)\n",
        "test_loader = DataLoader(test_dataset, batch_size=32, shuffle=False)\n",
        "\n",
        "# can use larger batch size upto 128, also pin_memory=True can be done for better GPU training time."
      ],
      "metadata": {
        "id": "T0MemXLduxoc"
      },
      "execution_count": 40,
      "outputs": []
    },
    {
      "cell_type": "code",
      "source": [
        "class MyNN(nn.Module):\n",
        "    def __init__(self, num_features):\n",
        "      super().__init__()\n",
        "      self.model = nn.Sequential(\n",
        "          nn.Linear(num_features, 128),\n",
        "          nn.ReLU(),\n",
        "          nn.Linear(128,64),\n",
        "          nn.ReLU(),\n",
        "          nn.Linear(64,10)\n",
        "      )\n",
        "\n",
        "    def forward(self, x):\n",
        "      return self.model(x)\n"
      ],
      "metadata": {
        "id": "rfaI3unzvy8A"
      },
      "execution_count": 41,
      "outputs": []
    },
    {
      "cell_type": "code",
      "source": [
        "epochs = 100\n",
        "learning_rate = 0.1"
      ],
      "metadata": {
        "id": "HizGXDt30HWY"
      },
      "execution_count": 42,
      "outputs": []
    },
    {
      "cell_type": "code",
      "source": [
        "# model instantiation\n",
        "model = MyNN(X_train.shape[1])\n",
        "\n",
        "# moving our model to GPU\n",
        "model.to(device)\n",
        "\n",
        "# loss function\n",
        "criterion = nn.CrossEntropyLoss()\n",
        "\n",
        "# optimizer\n",
        "optimizer = optim.SGD(model.parameters(), lr=learning_rate)"
      ],
      "metadata": {
        "id": "5e8fU__90Qjg"
      },
      "execution_count": 43,
      "outputs": []
    },
    {
      "cell_type": "code",
      "source": [
        "# training loop\n",
        "for epoch in range(epochs):\n",
        "  total_epoch_loss = 0\n",
        "\n",
        "  for batch_features, batch_labels in train_loader:\n",
        "\n",
        "    # moving data to GPU\n",
        "    batch_features, batch_labels = batch_features.to(device), batch_labels.to(device)\n",
        "\n",
        "    # forward pass\n",
        "    outputs = model(batch_features)\n",
        "\n",
        "    # calculate loss\n",
        "    loss = criterion(outputs, batch_labels)\n",
        "\n",
        "    # back pass\n",
        "    optimizer.zero_grad()\n",
        "    loss.backward()\n",
        "\n",
        "    # update grads\n",
        "    optimizer.step()\n",
        "\n",
        "    total_epoch_loss = total_epoch_loss + loss.item()\n",
        "\n",
        "  print(f'Epoch: {epoch+1}, Loss: {total_epoch_loss/len(train_loader)}')"
      ],
      "metadata": {
        "colab": {
          "base_uri": "https://localhost:8080/"
        },
        "collapsed": true,
        "id": "3O-_bEU10iTc",
        "outputId": "3bbe6632-47d6-418b-ed87-da02f0bc0048"
      },
      "execution_count": 44,
      "outputs": [
        {
          "output_type": "stream",
          "name": "stdout",
          "text": [
            "Epoch: 1, Loss: 0.6352872455318769\n",
            "Epoch: 2, Loss: 0.4304986933817466\n",
            "Epoch: 3, Loss: 0.38612620331346986\n",
            "Epoch: 4, Loss: 0.3584607186516126\n",
            "Epoch: 5, Loss: 0.3376494685560465\n",
            "Epoch: 6, Loss: 0.3227646785800656\n",
            "Epoch: 7, Loss: 0.30785389595727125\n",
            "Epoch: 8, Loss: 0.29498188248028356\n",
            "Epoch: 9, Loss: 0.2854692431092262\n",
            "Epoch: 10, Loss: 0.27467057487616936\n",
            "Epoch: 11, Loss: 0.26830568559716145\n",
            "Epoch: 12, Loss: 0.25814215187107525\n",
            "Epoch: 13, Loss: 0.24940819021190205\n",
            "Epoch: 14, Loss: 0.24444738084822892\n",
            "Epoch: 15, Loss: 0.23859191479658087\n",
            "Epoch: 16, Loss: 0.23155898495018482\n",
            "Epoch: 17, Loss: 0.22562562109405795\n",
            "Epoch: 18, Loss: 0.220296459933122\n",
            "Epoch: 19, Loss: 0.21206333881616593\n",
            "Epoch: 20, Loss: 0.20960091057543953\n",
            "Epoch: 21, Loss: 0.20624992236122489\n",
            "Epoch: 22, Loss: 0.19986102367161462\n",
            "Epoch: 23, Loss: 0.19530413204431535\n",
            "Epoch: 24, Loss: 0.19312162966746838\n",
            "Epoch: 25, Loss: 0.18764106344679993\n",
            "Epoch: 26, Loss: 0.1836644180783381\n",
            "Epoch: 27, Loss: 0.1801829884586235\n",
            "Epoch: 28, Loss: 0.1732649680164953\n",
            "Epoch: 29, Loss: 0.17048048644885422\n",
            "Epoch: 30, Loss: 0.1704416691598793\n",
            "Epoch: 31, Loss: 0.1669696749355644\n",
            "Epoch: 32, Loss: 0.16373400872449081\n",
            "Epoch: 33, Loss: 0.16233399505944301\n",
            "Epoch: 34, Loss: 0.15723733726826808\n",
            "Epoch: 35, Loss: 0.15447346428254\n",
            "Epoch: 36, Loss: 0.1545576546518132\n",
            "Epoch: 37, Loss: 0.14620412410050632\n",
            "Epoch: 38, Loss: 0.14241028870362787\n",
            "Epoch: 39, Loss: 0.14137836676385876\n",
            "Epoch: 40, Loss: 0.1423039033394307\n",
            "Epoch: 41, Loss: 0.1375529004293494\n",
            "Epoch: 42, Loss: 0.13899335852917283\n",
            "Epoch: 43, Loss: 0.13538831498442838\n",
            "Epoch: 44, Loss: 0.1287984882996728\n",
            "Epoch: 45, Loss: 0.12960014000659187\n",
            "Epoch: 46, Loss: 0.12750795842163887\n",
            "Epoch: 47, Loss: 0.12409021653390179\n",
            "Epoch: 48, Loss: 0.12071532321178044\n",
            "Epoch: 49, Loss: 0.11564283333004763\n",
            "Epoch: 50, Loss: 0.11969620903915104\n",
            "Epoch: 51, Loss: 0.11240664103456463\n",
            "Epoch: 52, Loss: 0.11313746599317528\n",
            "Epoch: 53, Loss: 0.11436900947755203\n",
            "Epoch: 54, Loss: 0.11118536476511508\n",
            "Epoch: 55, Loss: 0.1151556797324059\n",
            "Epoch: 56, Loss: 0.10828998744379108\n",
            "Epoch: 57, Loss: 0.10759262777973587\n",
            "Epoch: 58, Loss: 0.10664007855408515\n",
            "Epoch: 59, Loss: 0.10350715170230251\n",
            "Epoch: 60, Loss: 0.09918549502578874\n",
            "Epoch: 61, Loss: 0.09934679207073835\n",
            "Epoch: 62, Loss: 0.0993961365839156\n",
            "Epoch: 63, Loss: 0.09597745557703699\n",
            "Epoch: 64, Loss: 0.09528340040857439\n",
            "Epoch: 65, Loss: 0.09809105654499338\n",
            "Epoch: 66, Loss: 0.09813115014034944\n",
            "Epoch: 67, Loss: 0.09015605362077865\n",
            "Epoch: 68, Loss: 0.09044385887787211\n",
            "Epoch: 69, Loss: 0.08992214041020877\n",
            "Epoch: 70, Loss: 0.0894195347436859\n",
            "Epoch: 71, Loss: 0.0901607719749057\n",
            "Epoch: 73, Loss: 0.08435975614225026\n",
            "Epoch: 74, Loss: 0.08038173073634972\n",
            "Epoch: 75, Loss: 0.07998347281183427\n",
            "Epoch: 76, Loss: 0.07927920010786814\n",
            "Epoch: 77, Loss: 0.08367198768362868\n",
            "Epoch: 78, Loss: 0.08010334276167365\n",
            "Epoch: 79, Loss: 0.07839310948318841\n",
            "Epoch: 80, Loss: 0.07731449945651306\n",
            "Epoch: 81, Loss: 0.0725119466939359\n",
            "Epoch: 82, Loss: 0.07715899436779243\n",
            "Epoch: 83, Loss: 0.07848059432738227\n",
            "Epoch: 84, Loss: 0.06879183093741692\n",
            "Epoch: 85, Loss: 0.08118748380765707\n",
            "Epoch: 86, Loss: 0.07770356753194937\n",
            "Epoch: 87, Loss: 0.06794948129361728\n",
            "Epoch: 88, Loss: 0.06668691740721502\n",
            "Epoch: 89, Loss: 0.06795124354235305\n",
            "Epoch: 90, Loss: 0.07117577052312844\n",
            "Epoch: 91, Loss: 0.06771438679029719\n",
            "Epoch: 92, Loss: 0.06959606989556535\n",
            "Epoch: 93, Loss: 0.06168472910565712\n",
            "Epoch: 94, Loss: 0.06411504278382442\n",
            "Epoch: 95, Loss: 0.06060305817479578\n",
            "Epoch: 96, Loss: 0.05729881219780267\n",
            "Epoch: 97, Loss: 0.058360233872032645\n",
            "Epoch: 98, Loss: 0.06350834116928429\n",
            "Epoch: 99, Loss: 0.05521324163050546\n"
          ]
        }
      ]
    },
    {
      "cell_type": "code",
      "source": [
        "# Set model to evaluation mode\n",
        "model.eval()"
      ],
      "metadata": {
        "colab": {
          "base_uri": "https://localhost:8080/"
        },
        "id": "QpdFTkGN1YbU",
        "outputId": "08bbed8e-02e9-41c6-e02b-12365d130229"
      },
      "execution_count": 45,
      "outputs": [
        {
          "output_type": "execute_result",
          "data": {
            "text/plain": [
              "MyNN(\n",
              "  (model): Sequential(\n",
              "    (0): Linear(in_features=784, out_features=128, bias=True)\n",
              "    (1): ReLU()\n",
              "    (2): Linear(in_features=128, out_features=64, bias=True)\n",
              "    (3): ReLU()\n",
              "    (4): Linear(in_features=64, out_features=10, bias=True)\n",
              "  )\n",
              ")"
            ]
          },
          "metadata": {},
          "execution_count": 45
        }
      ]
    },
    {
      "cell_type": "code",
      "source": [
        "# evaluation code\n",
        "total = 0\n",
        "correct = 0\n",
        "with torch.no_grad():\n",
        "  for batch_features, batch_labels in test_loader:\n",
        "\n",
        "    # moving data to GPU\n",
        "    batch_features, batch_labels = batch_features.to(device), batch_labels.to(device)\n",
        "\n",
        "\n",
        "    outputs = model(batch_features)\n",
        "    _, predicted = torch.max(outputs, 1)\n",
        "    total += batch_labels.shape[0]\n",
        "    correct += (predicted == batch_labels).sum().item()\n",
        "print(correct/total)\n",
        "\n",
        "\n",
        "# Compares the predicted labels (predicted) with the true labels (batch_labels) using the equality operator (==).\n",
        "# (predicted == batch_labels) produces a tensor of Boolean values where True indicates a correct prediction.\n",
        "# .sum() counts the number of True values in the tensor (i.e., the number of correct predictions in the batch).\n",
        "# .item() converts the scalar tensor value to a Python integer."
      ],
      "metadata": {
        "colab": {
          "base_uri": "https://localhost:8080/"
        },
        "id": "fsy8D4XT4kNB",
        "outputId": "7220a426-c16e-4259-a9e3-c3432a03766a"
      },
      "execution_count": 46,
      "outputs": [
        {
          "output_type": "stream",
          "name": "stdout",
          "text": [
            "0.8898333333333334\n"
          ]
        }
      ]
    },
    {
      "cell_type": "code",
      "source": [],
      "metadata": {
        "id": "i8CGYdlm7Dxx"
      },
      "execution_count": 46,
      "outputs": []
    }
  ]
}