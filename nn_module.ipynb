{
  "nbformat": 4,
  "nbformat_minor": 0,
  "metadata": {
    "colab": {
      "provenance": [],
      "authorship_tag": "ABX9TyNdkSLt96Bz0u7ZbwH8dl1j",
      "include_colab_link": true
    },
    "kernelspec": {
      "name": "python3",
      "display_name": "Python 3"
    },
    "language_info": {
      "name": "python"
    }
  },
  "cells": [
    {
      "cell_type": "markdown",
      "metadata": {
        "id": "view-in-github",
        "colab_type": "text"
      },
      "source": [
        "<a href=\"https://colab.research.google.com/github/and-is/learning-pytorch/blob/main/nn_module.ipynb\" target=\"_parent\"><img src=\"https://colab.research.google.com/assets/colab-badge.svg\" alt=\"Open In Colab\"/></a>"
      ]
    },
    {
      "cell_type": "markdown",
      "source": [
        "Learning to use NN module to better create our neural network."
      ],
      "metadata": {
        "id": "uBZXKi-SavUx"
      }
    },
    {
      "cell_type": "code",
      "execution_count": 1,
      "metadata": {
        "id": "ffIXxUo6ZlFb"
      },
      "outputs": [],
      "source": [
        "# create model  class (we're building a 5 features to one output)\n",
        "import torch\n",
        "import torch.nn as nn"
      ]
    },
    {
      "cell_type": "code",
      "source": [
        "class Model(nn.Module):\n",
        "\n",
        "  def __init__(self, num_features):\n",
        "    super().__init__()\n",
        "    self.linear = nn.Linear(num_features, 1)     # we give no of features on input and that on output which is 1 here\n",
        "    self.sigmoid = nn.Sigmoid()    # activation function for our simple nn\n",
        "\n",
        "  def forward(self, features):\n",
        "    out = self.linear(features)      # this does the o=wz+b thingy\n",
        "    out = self.sigmoid(out)      # applying the activation obv\n",
        "    return out\n",
        "\n",
        ""
      ],
      "metadata": {
        "id": "Nt7ViTrPaz43"
      },
      "execution_count": 5,
      "outputs": []
    },
    {
      "cell_type": "code",
      "source": [
        "# Testing the model now\n",
        "features = torch.rand(10,5)     # dataset with 10 rows and 5 columns\n",
        "\n",
        "model = Model(features.shape[1])     # creates a model instance of that class above with column shape of features array features\n",
        "\n",
        "model(features)     # can also do model.forward(features) but this is the standard way built in pytorch only. forward method is automatically triggered here"
      ],
      "metadata": {
        "colab": {
          "base_uri": "https://localhost:8080/"
        },
        "id": "1IHPJrU-VfNN",
        "outputId": "14a14448-de40-4593-ec27-486d94ae6c80"
      },
      "execution_count": 6,
      "outputs": [
        {
          "output_type": "execute_result",
          "data": {
            "text/plain": [
              "tensor([[0.4378],\n",
              "        [0.5530],\n",
              "        [0.4483],\n",
              "        [0.5417],\n",
              "        [0.5097],\n",
              "        [0.5116],\n",
              "        [0.5196],\n",
              "        [0.4696],\n",
              "        [0.4800],\n",
              "        [0.4431]], grad_fn=<SigmoidBackward0>)"
            ]
          },
          "metadata": {},
          "execution_count": 6
        }
      ]
    },
    {
      "cell_type": "code",
      "source": [
        "# viewing weights and biases\n",
        "model.linear.weight"
      ],
      "metadata": {
        "colab": {
          "base_uri": "https://localhost:8080/"
        },
        "id": "IM3uYQxvWNH-",
        "outputId": "ec322353-b8ee-4f68-8dd8-6e3f6d96f4a4"
      },
      "execution_count": 13,
      "outputs": [
        {
          "output_type": "execute_result",
          "data": {
            "text/plain": [
              "Parameter containing:\n",
              "tensor([[-0.0008,  0.0886, -0.4345, -0.2613,  0.0685]], requires_grad=True)"
            ]
          },
          "metadata": {},
          "execution_count": 13
        }
      ]
    },
    {
      "cell_type": "code",
      "source": [
        "model.linear.bias"
      ],
      "metadata": {
        "colab": {
          "base_uri": "https://localhost:8080/"
        },
        "id": "qgp0CHMMWdYI",
        "outputId": "58c5cd66-05ce-493a-9ee8-b3436507cb0c"
      },
      "execution_count": 14,
      "outputs": [
        {
          "output_type": "execute_result",
          "data": {
            "text/plain": [
              "Parameter containing:\n",
              "tensor([0.2013], requires_grad=True)"
            ]
          },
          "metadata": {},
          "execution_count": 14
        }
      ]
    },
    {
      "cell_type": "code",
      "source": [
        "!pip install torchinfo"
      ],
      "metadata": {
        "colab": {
          "base_uri": "https://localhost:8080/"
        },
        "id": "YAcXFepwWuXr",
        "outputId": "20bf09d6-b028-47a1-e4a7-390e042c36c1"
      },
      "execution_count": 15,
      "outputs": [
        {
          "output_type": "stream",
          "name": "stdout",
          "text": [
            "Collecting torchinfo\n",
            "  Downloading torchinfo-1.8.0-py3-none-any.whl.metadata (21 kB)\n",
            "Downloading torchinfo-1.8.0-py3-none-any.whl (23 kB)\n",
            "Installing collected packages: torchinfo\n",
            "Successfully installed torchinfo-1.8.0\n"
          ]
        }
      ]
    },
    {
      "cell_type": "code",
      "source": [
        "from torchinfo import summary\n",
        "summary(model, input_size=(10,5))"
      ],
      "metadata": {
        "colab": {
          "base_uri": "https://localhost:8080/"
        },
        "id": "YFXLwb6BXeW_",
        "outputId": "3878e2d1-7890-46b0-e038-0728d1d3dd89"
      },
      "execution_count": 16,
      "outputs": [
        {
          "output_type": "execute_result",
          "data": {
            "text/plain": [
              "==========================================================================================\n",
              "Layer (type:depth-idx)                   Output Shape              Param #\n",
              "==========================================================================================\n",
              "Model                                    [10, 1]                   --\n",
              "├─Linear: 1-1                            [10, 1]                   6\n",
              "├─Sigmoid: 1-2                           [10, 1]                   --\n",
              "==========================================================================================\n",
              "Total params: 6\n",
              "Trainable params: 6\n",
              "Non-trainable params: 0\n",
              "Total mult-adds (Units.MEGABYTES): 0.00\n",
              "==========================================================================================\n",
              "Input size (MB): 0.00\n",
              "Forward/backward pass size (MB): 0.00\n",
              "Params size (MB): 0.00\n",
              "Estimated Total Size (MB): 0.00\n",
              "=========================================================================================="
            ]
          },
          "metadata": {},
          "execution_count": 16
        }
      ]
    },
    {
      "cell_type": "markdown",
      "source": [
        "Now a little more complex neural network with a 5 feature input layer, 3 feature hidden layer and 1 output layer. ReLu used in hidden layer and sigmoid on the output layer."
      ],
      "metadata": {
        "id": "b8WySmSgXqX9"
      }
    },
    {
      "cell_type": "code",
      "source": [
        "class Model2(nn.Module):\n",
        "\n",
        "  def __init__(self, num_features):\n",
        "    super().__init__()\n",
        "    self.linear = nn.Linear(num_features, 3)     # hidden layer will get 3 outputs from the output now.\n",
        "    self.relu = nn.ReLU()\n",
        "    self.linear2 = nn.Linear(3,1)\n",
        "    self.sigmoid = nn.Sigmoid()\n",
        "\n",
        "  def forward(self, features):\n",
        "    out = self.linear(features)\n",
        "    out = self.sigmoid(out)\n",
        "    out = self.linear2(out)\n",
        "    out = self.sigmoid(out)\n",
        "\n",
        "    return out"
      ],
      "metadata": {
        "id": "RSoaeYFmXjOU"
      },
      "execution_count": 18,
      "outputs": []
    },
    {
      "cell_type": "code",
      "source": [
        "features = torch.rand(10,5)\n",
        "\n",
        "model2 = Model2(features.shape[1])\n",
        "\n",
        "model2(features)"
      ],
      "metadata": {
        "colab": {
          "base_uri": "https://localhost:8080/"
        },
        "id": "7ExQ2chZYVUB",
        "outputId": "982e1495-746f-428a-ba73-ce46e7c4fbd7"
      },
      "execution_count": 19,
      "outputs": [
        {
          "output_type": "execute_result",
          "data": {
            "text/plain": [
              "tensor([[0.5152],\n",
              "        [0.5077],\n",
              "        [0.5190],\n",
              "        [0.5031],\n",
              "        [0.5203],\n",
              "        [0.5178],\n",
              "        [0.5124],\n",
              "        [0.5121],\n",
              "        [0.5225],\n",
              "        [0.5209]], grad_fn=<SigmoidBackward0>)"
            ]
          },
          "metadata": {},
          "execution_count": 19
        }
      ]
    },
    {
      "cell_type": "code",
      "source": [
        "model2.linear2.weight"
      ],
      "metadata": {
        "colab": {
          "base_uri": "https://localhost:8080/"
        },
        "id": "e53ksAvJYhmx",
        "outputId": "a062232a-07d1-4ee5-c5c8-b236a381a57a"
      },
      "execution_count": 21,
      "outputs": [
        {
          "output_type": "execute_result",
          "data": {
            "text/plain": [
              "Parameter containing:\n",
              "tensor([[0.4893, 0.4547, 0.1855]], requires_grad=True)"
            ]
          },
          "metadata": {},
          "execution_count": 21
        }
      ]
    },
    {
      "cell_type": "code",
      "source": [
        "model2.linear.weight"
      ],
      "metadata": {
        "colab": {
          "base_uri": "https://localhost:8080/"
        },
        "id": "ckIMxWxmYlii",
        "outputId": "e49ec365-2cfa-4075-80d8-605006b9609f"
      },
      "execution_count": 22,
      "outputs": [
        {
          "output_type": "execute_result",
          "data": {
            "text/plain": [
              "Parameter containing:\n",
              "tensor([[ 0.0770,  0.1483, -0.0442,  0.0839, -0.4253],\n",
              "        [ 0.1490, -0.2899, -0.3300,  0.2447,  0.3597],\n",
              "        [ 0.2289,  0.0722, -0.1697, -0.3163,  0.0849]], requires_grad=True)"
            ]
          },
          "metadata": {},
          "execution_count": 22
        }
      ]
    },
    {
      "cell_type": "markdown",
      "source": [
        "The way of feeding one into another is hectic. So, let's make sequential containers."
      ],
      "metadata": {
        "id": "VpVZNDxAY7qt"
      }
    },
    {
      "cell_type": "code",
      "source": [
        "class Model3(nn.Module):\n",
        "\n",
        "  def __init__(self, num_features):\n",
        "    super().__init__()\n",
        "    self.network = nn.Sequential(\n",
        "        nn.Linear(num_features, 3),\n",
        "        nn.ReLU(),\n",
        "        nn.Linear(3,1),\n",
        "        nn.Sigmoid()\n",
        "    )\n",
        "\n",
        "  def forward(self, features):\n",
        "    out = self.network(features)\n",
        "\n",
        "    return out"
      ],
      "metadata": {
        "id": "9VFkDuDzY1dn"
      },
      "execution_count": 25,
      "outputs": []
    },
    {
      "cell_type": "code",
      "source": [
        "features = torch.rand(10,5)\n",
        "\n",
        "model3 = Model3(features.shape[1])\n",
        "\n",
        "model3(features)"
      ],
      "metadata": {
        "colab": {
          "base_uri": "https://localhost:8080/"
        },
        "id": "3-f11ihqZVzV",
        "outputId": "f0c6702e-799c-4a40-eb55-ddea67288149"
      },
      "execution_count": 26,
      "outputs": [
        {
          "output_type": "execute_result",
          "data": {
            "text/plain": [
              "tensor([[0.6394],\n",
              "        [0.5984],\n",
              "        [0.6010],\n",
              "        [0.6111],\n",
              "        [0.5884],\n",
              "        [0.6287],\n",
              "        [0.6205],\n",
              "        [0.6259],\n",
              "        [0.6295],\n",
              "        [0.6157]], grad_fn=<SigmoidBackward0>)"
            ]
          },
          "metadata": {},
          "execution_count": 26
        }
      ]
    },
    {
      "cell_type": "markdown",
      "source": [
        "Now a ploy to improve that earlier training pipeline that we did"
      ],
      "metadata": {
        "id": "gaCnn1YuZpUP"
      }
    },
    {
      "cell_type": "code",
      "source": [
        "class NN(nn.Module):\n",
        "\n",
        "  def __init__(self, num_features):\n",
        "    super().__init__()\n",
        "    self.linear = nn.Linear(num_features, 1)\n",
        "    self.sigmoid = nn.Sigmoid()\n",
        "\n",
        "  def forward(self, features):\n",
        "    out = self.linear(features)\n",
        "    out = self.sigmoid(out)\n",
        "    return out\n",
        "\n",
        "  def loss_function(self, y_pred, y):\n",
        "    epsilon = 1e-7\n",
        "    y_pred = torch.clamp(y_pred, epsilon, 1 - epsilon)\n",
        "\n",
        "    # Calculate loss\n",
        "    loss = -(y_train_tensor * torch.log(y_pred) + (1 - y_train_tensor) * torch.log(1 - y_pred)).mean()\n",
        "    return loss"
      ],
      "metadata": {
        "id": "28kjSImnZeRC"
      },
      "execution_count": 27,
      "outputs": []
    },
    {
      "cell_type": "markdown",
      "source": [
        "Now let's so for built in loss function and optimizers."
      ],
      "metadata": {
        "id": "YVcz728bcKIi"
      }
    },
    {
      "cell_type": "code",
      "source": [
        "loss_function = nn.BCELoss()\n",
        "\n",
        "# Then simply during the training in epochs, can use\n",
        "# loss = loss_function(y_pred, y_train_tensor)"
      ],
      "metadata": {
        "id": "pLBFfbBAcUKN"
      },
      "execution_count": 29,
      "outputs": []
    },
    {
      "cell_type": "code",
      "source": [
        "class NN(nn.Module):\n",
        "\n",
        "  def __init__(self, num_features):\n",
        "    super().__init__()\n",
        "    self.linear = nn.Linear(num_features, 1)\n",
        "    self.sigmoid = nn.Sigmoid()\n",
        "\n",
        "  def forward(self, features):\n",
        "    out = self.linear(features)\n",
        "    out = self.sigmoid(out)\n",
        "    return out\n",
        "\n",
        "  # def loss_function(self, y_pred, y):\n",
        "  #   epsilon = 1e-7\n",
        "  #   y_pred = torch.clamp(y_pred, epsilon, 1 - epsilon)\n",
        "# can simply use loss_function(y_pred,y) now!"
      ],
      "metadata": {
        "id": "F9G8_pwqZfs4"
      },
      "execution_count": 30,
      "outputs": []
    },
    {
      "cell_type": "markdown",
      "source": [
        "Now on to torch.optim which is a module with optimization algorithms."
      ],
      "metadata": {
        "id": "OlcIdu5eeDRJ"
      }
    },
    {
      "cell_type": "code",
      "source": [
        "# define optimizer\n",
        "learning_rate = 0.1\n",
        "# model.parameters() gives all weights and biases with a looping way\n",
        "optimizer = torch.optim.SGD(model.parameters(), lr=learning_rate)             # stochastic gradient descent\n",
        "# To call, we can use\n",
        "# optimizer.step()\n",
        "# optimizer.zero_grad()    to turn all gradients zero with a single work. do this clearing before backward pass usually."
      ],
      "metadata": {
        "id": "LVE571wseCyj"
      },
      "execution_count": 31,
      "outputs": []
    },
    {
      "cell_type": "code",
      "source": [],
      "metadata": {
        "id": "M5CYz4Rje4-F"
      },
      "execution_count": null,
      "outputs": []
    }
  ]
}